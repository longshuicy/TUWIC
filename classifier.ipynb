{
 "cells": [
  {
   "cell_type": "code",
   "execution_count": 1,
   "metadata": {
    "collapsed": true
   },
   "outputs": [],
   "source": [
    "import json\n",
    "import pickle\n",
    "import re\n",
    "import collections\n",
    "import pandas as pd\n",
    "from os import listdir\n",
    "from os.path import isfile, join\n",
    "import numpy as np\n",
    "from random import randint\n",
    "import sys\n",
    "import math\n",
    "from scipy import spatial,sparse\n",
    "import random\n",
    "\n",
    "%matplotlib inline\n",
    "import matplotlib.pyplot as plt"
   ]
  },
  {
   "cell_type": "code",
   "execution_count": 2,
   "metadata": {
    "collapsed": true
   },
   "outputs": [],
   "source": [
    "ff_path = 'C:\\\\Users\\\\chenwang\\\\Documents\\\\courses\\\\FA16\\\\CS597\\\\twitterMining\\\\InitialSet\\\\Football\\\\location\\\\ff_of_rep\\\\'\n",
    "path = 'C:\\\\Users\\\\chenwang\\\\Documents\\\\courses\\\\FA16\\\\CS597\\\\twitterMining\\\\InitialSet\\\\Football\\\\location\\\\'"
   ]
  },
  {
   "cell_type": "code",
   "execution_count": 3,
   "metadata": {
    "collapsed": true
   },
   "outputs": [],
   "source": [
    "# vocabulary?\n",
    "filenames = [f for f in listdir(ff_path) if isfile(join(ff_path, f))]"
   ]
  },
  {
   "cell_type": "code",
   "execution_count": 16,
   "metadata": {
    "collapsed": true
   },
   "outputs": [],
   "source": [
    "def sample_from_candidates(ff_path, filenames,seed):\n",
    "    \n",
    "    candidate_sp = []  # use this to test my PLSA model\n",
    "    random.seed(seed)\n",
    "    \n",
    "    for file in filenames:\n",
    "        try:\n",
    "            with open(ff_path + file,'rb') as f:\n",
    "                candidate = pickle.load(f)\n",
    "\n",
    "                # too big to process, sampling 100 followers from each representative nodes\n",
    "                for c in random.sample(set(candidate),100):\n",
    "                    if c not in candidate_sp:\n",
    "                        candidate_sp.append(c)\n",
    "\n",
    "        except EOFError:\n",
    "            print(file)\n",
    "            pass\n",
    "        \n",
    "    return candidate_sp"
   ]
  },
  {
   "cell_type": "code",
   "execution_count": 71,
   "metadata": {
    "collapsed": true
   },
   "outputs": [],
   "source": [
    "path_test1 = 'C:\\\\Users\\\\chenwang\\\\Documents\\\\courses\\\\FA16\\\\CS597\\\\twitterMining\\\\InitialSet\\\\Football\\\\location\\\\test1\\\\'"
   ]
  },
  {
   "cell_type": "markdown",
   "metadata": {
    "collapsed": true
   },
   "source": [
    "candidate_sp1 = sample_from_candidates(ff_path,filenames,seed = 0)\n",
    "candidate_sp2 = sample_from_candidates(ff_path,filenames,seed = 1)\n",
    "candidate_sp3 = sample_from_candidates(ff_path,filenames,seed = 2)\n",
    "with open(path_test1 + 'candidate_sp1.pickle','wb+') as f:\n",
    "    pickle.dump(candidate_sp1,f)\n",
    "with open(path_test1 + 'candidate_sp2.pickle','wb+') as f:\n",
    "    pickle.dump(candidate_sp2,f)\n",
    "with open(path_test1 + 'candidate_sp3.pickle','wb+') as f:\n",
    "    pickle.dump(candidate_sp3,f)\n",
    "with open(path_test1 + 'represent_id.pickle','rb') as f:\n",
    "    feature = pickle.load(f)"
   ]
  },
  {
   "cell_type": "code",
   "execution_count": 78,
   "metadata": {
    "collapsed": true
   },
   "outputs": [],
   "source": [
    "with open(path_test1 + 'candidate_sp1.pickle','rb') as f:\n",
    "    candidate_sp1 = pickle.load(f)\n",
    "with open(path_test1 + 'candidate_sp2.pickle','rb+') as f:\n",
    "    candidate_sp2 = pickle.load(f)\n",
    "with open(path_test1 + 'represent_id.pickle','rb') as f:\n",
    "    feature = pickle.load(f)"
   ]
  },
  {
   "cell_type": "raw",
   "metadata": {
    "collapsed": true
   },
   "source": [
    "with open (path + 'candidate_100.pickle','wb+') as f:\n",
    "    pickle.dump(candidate_list,f)"
   ]
  },
  {
   "cell_type": "raw",
   "metadata": {
    "collapsed": true
   },
   "source": [
    "with open (path + 'candidate_100.pickle','rb') as f:\n",
    "    candidate_list = pickle.load(f)"
   ]
  },
  {
   "cell_type": "raw",
   "metadata": {
    "collapsed": false
   },
   "source": [
    "# open features\n",
    "with open (path + 'represent_id.pickle','rb') as f:\n",
    "    feature = pickle.load(f)"
   ]
  },
  {
   "cell_type": "markdown",
   "metadata": {},
   "source": [
    "# construct a vector"
   ]
  },
  {
   "cell_type": "code",
   "execution_count": 79,
   "metadata": {
    "collapsed": true
   },
   "outputs": [],
   "source": [
    "def construct_vector(candidate_list,feature):\n",
    "    \n",
    "    V = dict((c,np.zeros(len(feature),)) for c in candidate_list)\n",
    "\n",
    "    for i in range(len(feature)):  \n",
    "        with open(ff_path + str(feature[i]) + '.pickle','rb') as f:\n",
    "\n",
    "                candidate = pickle.load(f)\n",
    "\n",
    "                for c in candidate:\n",
    "                    if c in V.keys():\n",
    "                        #print('true')\n",
    "                        V[c][i] = 1 \n",
    "    return V"
   ]
  },
  {
   "cell_type": "raw",
   "metadata": {
    "collapsed": false
   },
   "source": [
    "Vector = construct_vector(candidate_list,feature)\n",
    "len(Vector)"
   ]
  },
  {
   "cell_type": "code",
   "execution_count": 80,
   "metadata": {
    "collapsed": false
   },
   "outputs": [],
   "source": [
    "Vector1 = construct_vector(candidate_sp1,feature)\n",
    "Vector2 = construct_vector(candidate_sp2,feature)\n",
    "# Vector3 = construct_vector(candidate_sp3,feature)"
   ]
  },
  {
   "cell_type": "markdown",
   "metadata": {},
   "source": [
    "# test block to see how sparse the matrix is"
   ]
  },
  {
   "cell_type": "code",
   "execution_count": 26,
   "metadata": {
    "collapsed": false
   },
   "outputs": [],
   "source": [
    "def test_sparsity(V,feature_num):\n",
    "    for v in list(V.keys()):\n",
    "        total_feature = np.sum(V[v])\n",
    "        if total_feature >= feature_num:\n",
    "            print('user_id:', v,'\\t\\ttotal feature:', total_feature)\n",
    "    return None"
   ]
  },
  {
   "cell_type": "code",
   "execution_count": 27,
   "metadata": {
    "collapsed": false
   },
   "outputs": [
    {
     "name": "stdout",
     "output_type": "stream",
     "text": [
      "user_id: 781149191808712704 \t\ttotal feature: 46.0\n",
      "user_id: 791068282736484352 \t\ttotal feature: 49.0\n",
      "user_id: 791068282736484352 \t\ttotal feature: 49.0\n"
     ]
    }
   ],
   "source": [
    "test_sparsity(Vector1,40)\n",
    "test_sparsity(Vector2,40)\n",
    "test_sparsity(Vector3,40)"
   ]
  },
  {
   "cell_type": "markdown",
   "metadata": {},
   "source": [
    "# Build Classifier\n",
    "<img src=untitled.png>"
   ]
  },
  {
   "cell_type": "code",
   "execution_count": 86,
   "metadata": {
    "collapsed": false
   },
   "outputs": [],
   "source": [
    "with open(path_test1 + 'prob_following_rep.pickle','rb') as f:\n",
    "    prob = pickle.load(f)"
   ]
  },
  {
   "cell_type": "code",
   "execution_count": 98,
   "metadata": {
    "collapsed": false
   },
   "outputs": [],
   "source": [
    "def NB_rank_candidate(V, feature, penalty=True):\n",
    "    \n",
    "    candidate_score = {}\n",
    "\n",
    "    for v in list(V.keys()):  # for each user\n",
    "        \n",
    "        score = 0\n",
    "        for i in range(len(feature)): # for each feature            \n",
    "\n",
    "            if V[v][i] == 1:  # if follow\n",
    "                score += math.log2(prob[0][i]) # ln(p(follow)) \n",
    "                \n",
    "            if penalty == True:\n",
    "                if V[v][i] == 0:\n",
    "                    score += math.log2(prob[1][i]) # ln(p(unfollow))\n",
    "\n",
    "        candidate_score[v] = score\n",
    "    \n",
    "    NB_candidate_score = sorted(candidate_score.items(),key=lambda x:x[1],reverse=True)\n",
    "    \n",
    "    return NB_candidate_score"
   ]
  },
  {
   "cell_type": "raw",
   "metadata": {
    "collapsed": false
   },
   "source": [
    "c_rank = rank_candidate(Vector, feature)\n",
    "len(c_rank)"
   ]
  },
  {
   "cell_type": "code",
   "execution_count": 106,
   "metadata": {
    "collapsed": false
   },
   "outputs": [],
   "source": [
    "NB_p_rank_sp1 = NB_rank_candidate(Vector1, feature, penalty=True)\n",
    "NB_p_rank_sp2 = NB_rank_candidate(Vector2, feature, penalty=True)\n",
    "with open (path_test1 + 'NB_p_rank_sp1.pickle', 'wb+') as f:\n",
    "    pickle.dump(NB_p_rank_sp1,f)\n",
    "with open (path_test1 + 'NB_p_rank_sp2.pickle', 'wb+') as f:\n",
    "    pickle.dump(NB_p_rank_sp2,f)"
   ]
  },
  {
   "cell_type": "code",
   "execution_count": 107,
   "metadata": {
    "collapsed": true
   },
   "outputs": [],
   "source": [
    "NB_rank_sp1 = NB_rank_candidate(Vector1, feature, penalty=False)\n",
    "NB_rank_sp2 = NB_rank_candidate(Vector2, feature, penalty=False)\n",
    "with open (path_test1 + 'NB_rank_sp1.pickle', 'wb+') as f:\n",
    "    pickle.dump(NB_rank_sp1,f)\n",
    "with open (path_test1 + 'NB_rank_sp2.pickle', 'wb+') as f:\n",
    "    pickle.dump(NB_rank_sp2,f)"
   ]
  },
  {
   "cell_type": "code",
   "execution_count": 108,
   "metadata": {
    "collapsed": false
   },
   "outputs": [],
   "source": [
    "def plot_ranks(rank,Vector,title,fname):\n",
    "    \n",
    "    n_f = []  # total number of features\n",
    "    for c in rank:\n",
    "        n_f.append(np.sum(Vector[c[0]]))\n",
    "\n",
    "    x = range(1,len(n_f)+1)\n",
    "    y = n_f\n",
    "\n",
    "    fig, axes = plt.subplots(figsize=(10,10))\n",
    "\n",
    "    axes.plot(x,y)\n",
    "    axes.set_xlabel('ranked candidate ' + str(len(rank)))\n",
    "    axes.set_ylabel('total number of feature')\n",
    "    axes.set_title(title, fontsize = 20)\n",
    "    #axes.set_ylim([1,40])\n",
    "    #axes.set_xlim([0,30000])\n",
    "\n",
    "    plt.show()\n",
    "    \n",
    "    #fig = plt.figure()\n",
    "    fig.savefig(fname)\n",
    "\n",
    "    return None"
   ]
  },
  {
   "cell_type": "code",
   "execution_count": 111,
   "metadata": {
    "collapsed": false
   },
   "outputs": [
    {
     "data": {
      "image/png": "[encoded data removed]",
      "text/plain": [
       "<matplotlib.figure.Figure at 0xb00e850>"
      ]
     },
     "metadata": {},
     "output_type": "display_data"
    },
    {
     "data": {
      "image/png": "[encoded data removed]",
      "text/plain": [
       "<matplotlib.figure.Figure at 0xafe30d0>"
      ]
     },
     "metadata": {},
     "output_type": "display_data"
    }
   ],
   "source": [
    "plot_ranks(NB_rank_sp1,Vector1,'Naive Bayes without negative feature sample 1', path_test1+'NB_feature_sp1.png')\n",
    "plot_ranks(NB_rank_sp2,Vector2,'Naive Bayes without negative feature sample 2', path_test1+'NB_feature_sp2.png')"
   ]
  },
  {
   "cell_type": "code",
   "execution_count": 110,
   "metadata": {
    "collapsed": false
   },
   "outputs": [
    {
     "data": {
      "image/png": "[encoded data removed]",
      "text/plain": [
       "<matplotlib.figure.Figure at 0x92383b0>"
      ]
     },
     "metadata": {},
     "output_type": "display_data"
    },
    {
     "data": {
      "image/png": "[encoded data removed]",
      "text/plain": [
       "<matplotlib.figure.Figure at 0xaee9b10>"
      ]
     },
     "metadata": {},
     "output_type": "display_data"
    }
   ],
   "source": [
    "plot_ranks(NB_p_rank_sp1,Vector1,'Naive Bayes penalize negtive feature sample 1', path_test1+'NB_p_feature_sp1.png')\n",
    "plot_ranks(NB_p_rank_sp2,Vector2,'Naive Bayes penalize negtive feature sample 2', path_test1+'NB_p_feature_sp2.png')"
   ]
  },
  {
   "cell_type": "code",
   "execution_count": null,
   "metadata": {
    "collapsed": false
   },
   "outputs": [],
   "source": []
  },
  {
   "cell_type": "markdown",
   "metadata": {},
   "source": [
    "# Vector space model approach\n",
    "similarity = cosine similarity?\n"
   ]
  },
  {
   "cell_type": "code",
   "execution_count": 60,
   "metadata": {
    "collapsed": false
   },
   "outputs": [],
   "source": [
    "with open(path_test1 + 'weight_rep.pickle','rb') as f:\n",
    "    weight_vector = pickle.load(f)"
   ]
  },
  {
   "cell_type": "code",
   "execution_count": 62,
   "metadata": {
    "collapsed": false
   },
   "outputs": [],
   "source": [
    "def cosine_similarity(V, weight):\n",
    "    similarity = {}\n",
    "    feature_vector = np.ones((1,100))\n",
    "    #print(feature_vector)\n",
    "                      \n",
    "    for v in list(V.keys()):  # for each user\n",
    "        if weight != None:\n",
    "            V_weighted = np.multiply(V[v],weight_vector)\n",
    "            similarity[v] = 1 - spatial.distance.cosine(V_weighted, weight)\n",
    "        else:\n",
    "            similarity[v] = 1 - spatial.distance.cosine(V[v],feature_vector)\n",
    "\n",
    "    sim_ranked = sorted(similarity.items(),key=lambda x:x[1],reverse=True)\n",
    "    \n",
    "    return sim_ranked"
   ]
  },
  {
   "cell_type": "raw",
   "metadata": {
    "collapsed": false
   },
   "source": [
    "weighted_sim_ranked = cosine_similarity(Vector,weight_vector)"
   ]
  },
  {
   "cell_type": "raw",
   "metadata": {
    "collapsed": false
   },
   "source": [
    "weighted_sim_ranked[:10]"
   ]
  },
  {
   "cell_type": "raw",
   "metadata": {
    "collapsed": false
   },
   "source": [
    "with open(path + 'weighted_sim_ranked_100.pickle','wb+') as f:\n",
    "    pickle.dump(weighted_sim_ranked,f)"
   ]
  },
  {
   "cell_type": "raw",
   "metadata": {
    "collapsed": false,
    "scrolled": true
   },
   "source": [
    "sim_ranked = cosine_similarity(Vector, None)"
   ]
  },
  {
   "cell_type": "raw",
   "metadata": {
    "collapsed": false
   },
   "source": [
    "sim_ranked[:10]"
   ]
  },
  {
   "cell_type": "raw",
   "metadata": {
    "collapsed": true
   },
   "source": [
    "with open(path + 'unweighted_sim_ranked_100.pickle','wb+') as f:\n",
    "    pickle.dump(sim_ranked,f)"
   ]
  },
  {
   "cell_type": "code",
   "execution_count": 64,
   "metadata": {
    "collapsed": true
   },
   "outputs": [],
   "source": [
    "w_sim_rank_sp1 = cosine_similarity(Vector1, weight_vector)\n",
    "w_sim_rank_sp2 = cosine_similarity(Vector2, weight_vector)\n",
    "sim_rank_sp1 = cosine_similarity(Vector1,None)\n",
    "sim_rank_sp2 = cosine_similarity(Vector2,None)"
   ]
  },
  {
   "cell_type": "code",
   "execution_count": 67,
   "metadata": {
    "collapsed": true
   },
   "outputs": [],
   "source": [
    "with open(path_test1 + 'weighted_sim_rank_sp1.pickle','wb+') as f:\n",
    "    pickle.dump(w_sim_rank_sp1,f)\n",
    "with open(path_test1 + 'weighted_sim_rank_sp2.pickle','wb+') as f:\n",
    "    pickle.dump(w_sim_rank_sp2,f)\n",
    "    \n",
    "with open(path_test1 + 'unweighted_sim_rank_sp1.pickle','wb+') as f:\n",
    "    pickle.dump(sim_rank_sp1,f)\n",
    "with open(path_test1 + 'unweighted_sim_rank_sp2.pickle','wb+') as f:\n",
    "    pickle.dump(sim_rank_sp2,f)    "
   ]
  },
  {
   "cell_type": "code",
   "execution_count": 70,
   "metadata": {
    "collapsed": false,
    "scrolled": false
   },
   "outputs": [
    {
     "data": {
      "image/png": "[encoded data removed]",
      "text/plain": [
       "<matplotlib.figure.Figure at 0x8b45470>"
      ]
     },
     "metadata": {},
     "output_type": "display_data"
    },
    {
     "data": {
      "image/png": "[encoded data removed]",
      "text/plain": [
       "<matplotlib.figure.Figure at 0xb07a190>"
      ]
     },
     "metadata": {},
     "output_type": "display_data"
    },
    {
     "data": {
      "image/png": "[encoded data removed]",
      "text/plain": [
       "<matplotlib.figure.Figure at 0xb0cc030>"
      ]
     },
     "metadata": {},
     "output_type": "display_data"
    },
    {
     "data": {
      "image/png": "[encoded data removed]",
      "text/plain": [
       "<matplotlib.figure.Figure at 0x92a8dd0>"
      ]
     },
     "metadata": {},
     "output_type": "display_data"
    }
   ],
   "source": [
    "plot_ranks(w_sim_rank_sp1,Vector1,'weighted cosine similarity sample 1', path_test1+'w_feature_sp1.png')\n",
    "plot_ranks(w_sim_rank_sp2,Vector2,'weighted cosine similarity sample 2', path_test1+'w_feature_sp2.png')\n",
    "plot_ranks(sim_rank_sp1,Vector1,'unweighted cosine similarity sample 1', path_test1+'u_feature_sp1.png')\n",
    "plot_ranks(sim_rank_sp2,Vector2,'unweighted cosine similarity sample 2', path_test1+'u_feature_sp2.png')"
   ]
  },
  {
   "cell_type": "markdown",
   "metadata": {},
   "source": [
    "# labeling data"
   ]
  },
  {
   "cell_type": "code",
   "execution_count": 7,
   "metadata": {
    "collapsed": false
   },
   "outputs": [],
   "source": [
    "with open(path_test1 + 'location_list_sp1.pickle','rb') as f:\n",
    "    location_sp1 = pickle.load(f)"
   ]
  },
  {
   "cell_type": "raw",
   "metadata": {},
   "source": [
    "with open(path_test1 + 'candidate_sp1.pickle','rb') as f:\n",
    "    candidate_sp1 = load(f)"
   ]
  },
  {
   "cell_type": "code",
   "execution_count": 9,
   "metadata": {
    "collapsed": false
   },
   "outputs": [],
   "source": [
    "candidate_w_loc = []\n",
    "for loc in location_sp1.keys():\n",
    "    if location_sp1[loc] != 'NaN':\n",
    "        candidate_w_loc.append((loc,location_sp1[loc].lower()))"
   ]
  },
  {
   "cell_type": "code",
   "execution_count": 53,
   "metadata": {
    "collapsed": true
   },
   "outputs": [],
   "source": [
    "random.seed(0)\n",
    "X_train = random.sample(set(candidate_w_loc),1000)"
   ]
  },
  {
   "cell_type": "code",
   "execution_count": 18,
   "metadata": {
    "collapsed": true
   },
   "outputs": [],
   "source": [
    "with open(path_test1 + 'X_train.pickle','wb+') as f:\n",
    "    pickle.dump(X_train,f)"
   ]
  },
  {
   "cell_type": "code",
   "execution_count": 54,
   "metadata": {
    "collapsed": false
   },
   "outputs": [
    {
     "data": {
      "text/plain": [
       "[(753823407284719616, 'tupelo, ms'),\n",
       " (632559354, 'sioux city, ia'),\n",
       " (762751866748801024, 'phoenix, az'),\n",
       " (739989673997570049, 'san antonio, tx'),\n",
       " (788056332767232000, 'mississippi, usa'),\n",
       " (46148356, 'chicago'),\n",
       " (4708505475, 'my world our world'),\n",
       " (18435438, 'atlanta, ga'),\n",
       " (743267552432898048, 'illinois, usa'),\n",
       " (790245981447225344, 'νεο ηρακλειο, ελλας')]"
      ]
     },
     "execution_count": 54,
     "metadata": {},
     "output_type": "execute_result"
    }
   ],
   "source": [
    "X_train[:10]"
   ]
  },
  {
   "cell_type": "code",
   "execution_count": 55,
   "metadata": {
    "collapsed": true
   },
   "outputs": [],
   "source": [
    "df_X_train = pd.DataFrame(X_train,columns = ['id','location'])"
   ]
  },
  {
   "cell_type": "code",
   "execution_count": 56,
   "metadata": {
    "collapsed": true
   },
   "outputs": [],
   "source": [
    "chicago = ['chicago','Arlington Heights', 'Aurora', 'Berwyn', 'Bolingbrook', 'Cicero','Des Plaines', 'Elgin','Evanston', 'Gary', 'Hammond',\n",
    "           'Hoffman Estates', 'Joliet', 'Kenosha', 'Mount Prospect','Naperville', 'Oak Lawn', 'Oak Park', 'Orland Park',\n",
    "           'Palatine', 'Schaumburg','Skokie','Tinley Park','Waukegan','Wheaton']#,', IL','Illinois']"
   ]
  },
  {
   "cell_type": "code",
   "execution_count": 57,
   "metadata": {
    "collapsed": false
   },
   "outputs": [],
   "source": [
    "df_X_train['label'] = 0\n",
    "for chi in chicago:\n",
    "    df_X_train.loc[df_X_train.location.str.contains(chi.lower()), 'label'] = 1"
   ]
  },
  {
   "cell_type": "code",
   "execution_count": 23,
   "metadata": {
    "collapsed": false
   },
   "outputs": [],
   "source": [
    "# save the id of these temp 1 labeled to a list, query twitter user_timeline to see their tweets\n",
    "training_chicago_id = df_X_train[df_X_train.label ==1]['id'].tolist()\n",
    "with open(path_test1 + 'training_id.pickle','wb') as f:\n",
    "    pickle.dump(training_chicago_id,f)"
   ]
  },
  {
   "cell_type": "code",
   "execution_count": 58,
   "metadata": {
    "collapsed": false
   },
   "outputs": [
    {
     "data": {
      "text/plain": [
       "(1000, 3)"
      ]
     },
     "execution_count": 58,
     "metadata": {},
     "output_type": "execute_result"
    }
   ],
   "source": [
    "df_X_train.shape"
   ]
  },
  {
   "cell_type": "code",
   "execution_count": 110,
   "metadata": {
    "collapsed": true
   },
   "outputs": [],
   "source": [
    "rel_id_train = [46148356,1283267196,30254145,733152516683247616,44423405,176232700,1241637750,\\\n",
    "          621522914,43530424,752306004872851456,975450122,2924408380,770351285178695680,\\\n",
    "          37336702,164062745,717508616379621377,1345613311,3734726776,789699096,849617023,\\\n",
    "          701371958,293753781,2548145526,24795305,710161008623374336,257957627,2270087558,\\\n",
    "          775889513545687040,37945675,3025453876,403494826,97968287,25233272,2941297534,\\\n",
    "          2830084011,1684267350,126124444,615610761,36873535,431079779,763708110817157120,\\\n",
    "          311828546,342126885,30322075,742489204811304961,4108695973,14626348,3572689408,\\\n",
    "          718203801061191681,409459019,47487197,439410532,2788845642,30070994,4156754953,\\\n",
    "          100859077,762437132,90691208,44395175,3127628843,29291060,1270251462,1499761044,\\\n",
    "          22333466,266218183,218158603,26409269,250316672,190070843,242518175,1949440105,\\\n",
    "          344756733,781246329125306369,27038618,185417089,215002856,786755345876213761,22925169,\\\n",
    "          2922020171, 59367817,25031566,789270782711042048,2905598754,774009692439846912,18744284,58543233]"
   ]
  },
  {
   "cell_type": "code",
   "execution_count": 111,
   "metadata": {
    "collapsed": false
   },
   "outputs": [],
   "source": [
    "df_X_train.loc[~(df_X_train['id'].isin(rel_id_train)),'label'] = 0"
   ]
  },
  {
   "cell_type": "raw",
   "metadata": {},
   "source": [
    "df_X_train[df_X_train['label']==1]"
   ]
  },
  {
   "cell_type": "code",
   "execution_count": 61,
   "metadata": {
    "collapsed": true
   },
   "outputs": [],
   "source": [
    "with open(path_test1 + 'train_no_info.pickle','rb') as f:\n",
    "    no_info = pickle.load(f)"
   ]
  },
  {
   "cell_type": "code",
   "execution_count": 62,
   "metadata": {
    "collapsed": false
   },
   "outputs": [],
   "source": [
    "df_X_train = df_X_train.loc[~(df_X_train['id'].isin(no_info))]"
   ]
  },
  {
   "cell_type": "code",
   "execution_count": 147,
   "metadata": {
    "collapsed": false
   },
   "outputs": [
    {
     "data": {
      "text/html": [
       "<div>\n",
       "<table border=\"1\" class=\"dataframe\">\n",
       "  <thead>\n",
       "    <tr style=\"text-align: right;\">\n",
       "      <th></th>\n",
       "      <th>id</th>\n",
       "      <th>location</th>\n",
       "      <th>label</th>\n",
       "    </tr>\n",
       "  </thead>\n",
       "  <tbody>\n",
       "    <tr>\n",
       "      <th>5</th>\n",
       "      <td>46148356</td>\n",
       "      <td>chicago</td>\n",
       "      <td>1</td>\n",
       "    </tr>\n",
       "    <tr>\n",
       "      <th>13</th>\n",
       "      <td>1283267196</td>\n",
       "      <td>chicago, il</td>\n",
       "      <td>1</td>\n",
       "    </tr>\n",
       "    <tr>\n",
       "      <th>46</th>\n",
       "      <td>30254145</td>\n",
       "      <td>waukegan, il</td>\n",
       "      <td>1</td>\n",
       "    </tr>\n",
       "    <tr>\n",
       "      <th>50</th>\n",
       "      <td>733152516683247616</td>\n",
       "      <td>elgin, il</td>\n",
       "      <td>1</td>\n",
       "    </tr>\n",
       "    <tr>\n",
       "      <th>72</th>\n",
       "      <td>44423405</td>\n",
       "      <td>chicago</td>\n",
       "      <td>1</td>\n",
       "    </tr>\n",
       "    <tr>\n",
       "      <th>80</th>\n",
       "      <td>176232700</td>\n",
       "      <td>chicago</td>\n",
       "      <td>1</td>\n",
       "    </tr>\n",
       "    <tr>\n",
       "      <th>100</th>\n",
       "      <td>1241637750</td>\n",
       "      <td>chicago, il</td>\n",
       "      <td>1</td>\n",
       "    </tr>\n",
       "    <tr>\n",
       "      <th>109</th>\n",
       "      <td>621522914</td>\n",
       "      <td>chicago to scottsdale</td>\n",
       "      <td>1</td>\n",
       "    </tr>\n",
       "    <tr>\n",
       "      <th>116</th>\n",
       "      <td>43530424</td>\n",
       "      <td>the pit/evanston,il</td>\n",
       "      <td>1</td>\n",
       "    </tr>\n",
       "    <tr>\n",
       "      <th>123</th>\n",
       "      <td>752306004872851456</td>\n",
       "      <td>chicago, il</td>\n",
       "      <td>1</td>\n",
       "    </tr>\n",
       "    <tr>\n",
       "      <th>125</th>\n",
       "      <td>975450122</td>\n",
       "      <td>chicago</td>\n",
       "      <td>1</td>\n",
       "    </tr>\n",
       "    <tr>\n",
       "      <th>126</th>\n",
       "      <td>2924408380</td>\n",
       "      <td>chicago, il</td>\n",
       "      <td>1</td>\n",
       "    </tr>\n",
       "    <tr>\n",
       "      <th>128</th>\n",
       "      <td>770351285178695680</td>\n",
       "      <td>suburbs of chicago, il</td>\n",
       "      <td>1</td>\n",
       "    </tr>\n",
       "    <tr>\n",
       "      <th>145</th>\n",
       "      <td>37336702</td>\n",
       "      <td>beverly, chicago</td>\n",
       "      <td>1</td>\n",
       "    </tr>\n",
       "    <tr>\n",
       "      <th>160</th>\n",
       "      <td>164062745</td>\n",
       "      <td>chicago, il</td>\n",
       "      <td>1</td>\n",
       "    </tr>\n",
       "    <tr>\n",
       "      <th>164</th>\n",
       "      <td>717508616379621377</td>\n",
       "      <td>chicago, il</td>\n",
       "      <td>1</td>\n",
       "    </tr>\n",
       "    <tr>\n",
       "      <th>172</th>\n",
       "      <td>1345613311</td>\n",
       "      <td>chicago</td>\n",
       "      <td>1</td>\n",
       "    </tr>\n",
       "    <tr>\n",
       "      <th>173</th>\n",
       "      <td>3734726776</td>\n",
       "      <td>joliet, il</td>\n",
       "      <td>1</td>\n",
       "    </tr>\n",
       "    <tr>\n",
       "      <th>180</th>\n",
       "      <td>789699096</td>\n",
       "      <td>chicago</td>\n",
       "      <td>1</td>\n",
       "    </tr>\n",
       "    <tr>\n",
       "      <th>198</th>\n",
       "      <td>849617023</td>\n",
       "      <td>naperville, il</td>\n",
       "      <td>1</td>\n",
       "    </tr>\n",
       "    <tr>\n",
       "      <th>209</th>\n",
       "      <td>701371958</td>\n",
       "      <td>chicago, il</td>\n",
       "      <td>1</td>\n",
       "    </tr>\n",
       "    <tr>\n",
       "      <th>225</th>\n",
       "      <td>293753781</td>\n",
       "      <td>chicago</td>\n",
       "      <td>1</td>\n",
       "    </tr>\n",
       "    <tr>\n",
       "      <th>228</th>\n",
       "      <td>2548145526</td>\n",
       "      <td>chicago</td>\n",
       "      <td>1</td>\n",
       "    </tr>\n",
       "    <tr>\n",
       "      <th>242</th>\n",
       "      <td>24795305</td>\n",
       "      <td>chicago, il</td>\n",
       "      <td>1</td>\n",
       "    </tr>\n",
       "    <tr>\n",
       "      <th>243</th>\n",
       "      <td>710161008623374336</td>\n",
       "      <td>oak lawn, il</td>\n",
       "      <td>1</td>\n",
       "    </tr>\n",
       "    <tr>\n",
       "      <th>249</th>\n",
       "      <td>257957627</td>\n",
       "      <td>chicago, il</td>\n",
       "      <td>1</td>\n",
       "    </tr>\n",
       "    <tr>\n",
       "      <th>250</th>\n",
       "      <td>2270087558</td>\n",
       "      <td>lincoln park, chicago</td>\n",
       "      <td>1</td>\n",
       "    </tr>\n",
       "    <tr>\n",
       "      <th>253</th>\n",
       "      <td>775889513545687040</td>\n",
       "      <td>chicago, il</td>\n",
       "      <td>1</td>\n",
       "    </tr>\n",
       "    <tr>\n",
       "      <th>271</th>\n",
       "      <td>37945675</td>\n",
       "      <td>chicago, illinois</td>\n",
       "      <td>1</td>\n",
       "    </tr>\n",
       "    <tr>\n",
       "      <th>294</th>\n",
       "      <td>3025453876</td>\n",
       "      <td>chicago, il</td>\n",
       "      <td>1</td>\n",
       "    </tr>\n",
       "    <tr>\n",
       "      <th>...</th>\n",
       "      <td>...</td>\n",
       "      <td>...</td>\n",
       "      <td>...</td>\n",
       "    </tr>\n",
       "    <tr>\n",
       "      <th>634</th>\n",
       "      <td>762437132</td>\n",
       "      <td>arlington heights, il</td>\n",
       "      <td>1</td>\n",
       "    </tr>\n",
       "    <tr>\n",
       "      <th>656</th>\n",
       "      <td>90691208</td>\n",
       "      <td>chicago, il</td>\n",
       "      <td>1</td>\n",
       "    </tr>\n",
       "    <tr>\n",
       "      <th>658</th>\n",
       "      <td>44395175</td>\n",
       "      <td>chicago, il</td>\n",
       "      <td>1</td>\n",
       "    </tr>\n",
       "    <tr>\n",
       "      <th>677</th>\n",
       "      <td>3127628843</td>\n",
       "      <td>chicago and abroad</td>\n",
       "      <td>1</td>\n",
       "    </tr>\n",
       "    <tr>\n",
       "      <th>679</th>\n",
       "      <td>29291060</td>\n",
       "      <td>chicago</td>\n",
       "      <td>1</td>\n",
       "    </tr>\n",
       "    <tr>\n",
       "      <th>682</th>\n",
       "      <td>1270251462</td>\n",
       "      <td>chicago</td>\n",
       "      <td>1</td>\n",
       "    </tr>\n",
       "    <tr>\n",
       "      <th>684</th>\n",
       "      <td>1499761044</td>\n",
       "      <td>chicago / milwaukee</td>\n",
       "      <td>1</td>\n",
       "    </tr>\n",
       "    <tr>\n",
       "      <th>691</th>\n",
       "      <td>22333466</td>\n",
       "      <td>chicago, il</td>\n",
       "      <td>1</td>\n",
       "    </tr>\n",
       "    <tr>\n",
       "      <th>706</th>\n",
       "      <td>266218183</td>\n",
       "      <td>chicago, il</td>\n",
       "      <td>1</td>\n",
       "    </tr>\n",
       "    <tr>\n",
       "      <th>714</th>\n",
       "      <td>218158603</td>\n",
       "      <td>chicago</td>\n",
       "      <td>1</td>\n",
       "    </tr>\n",
       "    <tr>\n",
       "      <th>720</th>\n",
       "      <td>26409269</td>\n",
       "      <td>chicago, il</td>\n",
       "      <td>1</td>\n",
       "    </tr>\n",
       "    <tr>\n",
       "      <th>724</th>\n",
       "      <td>250316672</td>\n",
       "      <td>chicago, il</td>\n",
       "      <td>1</td>\n",
       "    </tr>\n",
       "    <tr>\n",
       "      <th>735</th>\n",
       "      <td>190070843</td>\n",
       "      <td>joliet, illinois</td>\n",
       "      <td>1</td>\n",
       "    </tr>\n",
       "    <tr>\n",
       "      <th>745</th>\n",
       "      <td>242518175</td>\n",
       "      <td>az/ hometown chicago il</td>\n",
       "      <td>1</td>\n",
       "    </tr>\n",
       "    <tr>\n",
       "      <th>751</th>\n",
       "      <td>1949440105</td>\n",
       "      <td>chicago, il</td>\n",
       "      <td>1</td>\n",
       "    </tr>\n",
       "    <tr>\n",
       "      <th>758</th>\n",
       "      <td>344756733</td>\n",
       "      <td>chicago, il</td>\n",
       "      <td>1</td>\n",
       "    </tr>\n",
       "    <tr>\n",
       "      <th>759</th>\n",
       "      <td>781246329125306369</td>\n",
       "      <td>chicago, il</td>\n",
       "      <td>1</td>\n",
       "    </tr>\n",
       "    <tr>\n",
       "      <th>761</th>\n",
       "      <td>27038618</td>\n",
       "      <td>chicago, il</td>\n",
       "      <td>1</td>\n",
       "    </tr>\n",
       "    <tr>\n",
       "      <th>787</th>\n",
       "      <td>185417089</td>\n",
       "      <td>chicago, il</td>\n",
       "      <td>1</td>\n",
       "    </tr>\n",
       "    <tr>\n",
       "      <th>795</th>\n",
       "      <td>215002856</td>\n",
       "      <td>schaumburg, illinois</td>\n",
       "      <td>1</td>\n",
       "    </tr>\n",
       "    <tr>\n",
       "      <th>819</th>\n",
       "      <td>786755345876213761</td>\n",
       "      <td>aurora, il</td>\n",
       "      <td>1</td>\n",
       "    </tr>\n",
       "    <tr>\n",
       "      <th>868</th>\n",
       "      <td>22925169</td>\n",
       "      <td>chicago, il</td>\n",
       "      <td>1</td>\n",
       "    </tr>\n",
       "    <tr>\n",
       "      <th>869</th>\n",
       "      <td>2922020171</td>\n",
       "      <td>chicago</td>\n",
       "      <td>1</td>\n",
       "    </tr>\n",
       "    <tr>\n",
       "      <th>904</th>\n",
       "      <td>59367817</td>\n",
       "      <td>chicago, il</td>\n",
       "      <td>1</td>\n",
       "    </tr>\n",
       "    <tr>\n",
       "      <th>917</th>\n",
       "      <td>25031566</td>\n",
       "      <td>chicago, il</td>\n",
       "      <td>1</td>\n",
       "    </tr>\n",
       "    <tr>\n",
       "      <th>924</th>\n",
       "      <td>789270782711042048</td>\n",
       "      <td>wheaton, il</td>\n",
       "      <td>1</td>\n",
       "    </tr>\n",
       "    <tr>\n",
       "      <th>933</th>\n",
       "      <td>2905598754</td>\n",
       "      <td>chicago, il</td>\n",
       "      <td>1</td>\n",
       "    </tr>\n",
       "    <tr>\n",
       "      <th>934</th>\n",
       "      <td>774009692439846912</td>\n",
       "      <td>chicago, il</td>\n",
       "      <td>1</td>\n",
       "    </tr>\n",
       "    <tr>\n",
       "      <th>951</th>\n",
       "      <td>18744284</td>\n",
       "      <td>chicago, ill</td>\n",
       "      <td>1</td>\n",
       "    </tr>\n",
       "    <tr>\n",
       "      <th>991</th>\n",
       "      <td>58543233</td>\n",
       "      <td>chicago-ish</td>\n",
       "      <td>1</td>\n",
       "    </tr>\n",
       "  </tbody>\n",
       "</table>\n",
       "<p>86 rows × 3 columns</p>\n",
       "</div>"
      ],
      "text/plain": [
       "                     id                 location  label\n",
       "5              46148356                  chicago      1\n",
       "13           1283267196              chicago, il      1\n",
       "46             30254145             waukegan, il      1\n",
       "50   733152516683247616                elgin, il      1\n",
       "72             44423405                  chicago      1\n",
       "80            176232700                  chicago      1\n",
       "100          1241637750              chicago, il      1\n",
       "109           621522914    chicago to scottsdale      1\n",
       "116            43530424      the pit/evanston,il      1\n",
       "123  752306004872851456              chicago, il      1\n",
       "125           975450122                 chicago       1\n",
       "126          2924408380              chicago, il      1\n",
       "128  770351285178695680   suburbs of chicago, il      1\n",
       "145            37336702         beverly, chicago      1\n",
       "160           164062745              chicago, il      1\n",
       "164  717508616379621377              chicago, il      1\n",
       "172          1345613311                  chicago      1\n",
       "173          3734726776               joliet, il      1\n",
       "180           789699096                  chicago      1\n",
       "198           849617023           naperville, il      1\n",
       "209           701371958              chicago, il      1\n",
       "225           293753781                  chicago      1\n",
       "228          2548145526                  chicago      1\n",
       "242            24795305              chicago, il      1\n",
       "243  710161008623374336             oak lawn, il      1\n",
       "249           257957627              chicago, il      1\n",
       "250          2270087558    lincoln park, chicago      1\n",
       "253  775889513545687040              chicago, il      1\n",
       "271            37945675        chicago, illinois      1\n",
       "294          3025453876              chicago, il      1\n",
       "..                  ...                      ...    ...\n",
       "634           762437132    arlington heights, il      1\n",
       "656            90691208              chicago, il      1\n",
       "658            44395175              chicago, il      1\n",
       "677          3127628843       chicago and abroad      1\n",
       "679            29291060                  chicago      1\n",
       "682          1270251462                  chicago      1\n",
       "684          1499761044      chicago / milwaukee      1\n",
       "691            22333466              chicago, il      1\n",
       "706           266218183              chicago, il      1\n",
       "714           218158603                  chicago      1\n",
       "720            26409269              chicago, il      1\n",
       "724           250316672              chicago, il      1\n",
       "735           190070843         joliet, illinois      1\n",
       "745           242518175  az/ hometown chicago il      1\n",
       "751          1949440105              chicago, il      1\n",
       "758           344756733              chicago, il      1\n",
       "759  781246329125306369              chicago, il      1\n",
       "761            27038618             chicago, il       1\n",
       "787           185417089              chicago, il      1\n",
       "795           215002856     schaumburg, illinois      1\n",
       "819  786755345876213761               aurora, il      1\n",
       "868            22925169              chicago, il      1\n",
       "869          2922020171                 chicago       1\n",
       "904            59367817              chicago, il      1\n",
       "917            25031566              chicago, il      1\n",
       "924  789270782711042048              wheaton, il      1\n",
       "933          2905598754              chicago, il      1\n",
       "934  774009692439846912              chicago, il      1\n",
       "951            18744284             chicago, ill      1\n",
       "991            58543233              chicago-ish      1\n",
       "\n",
       "[86 rows x 3 columns]"
      ]
     },
     "execution_count": 147,
     "metadata": {},
     "output_type": "execute_result"
    }
   ],
   "source": [
    "df_X_train[df_X_train.label==1]"
   ]
  },
  {
   "cell_type": "code",
   "execution_count": 125,
   "metadata": {
    "collapsed": true
   },
   "outputs": [],
   "source": [
    "# setting up training sets\n",
    "target_train = df_X_train['label'].tolist()\n",
    "id_train = df_X_train['id'].tolist()\n",
    "feature_train = []\n",
    "for id in id_train:\n",
    "    feature_train.append(Vector1[id])"
   ]
  },
  {
   "cell_type": "code",
   "execution_count": 126,
   "metadata": {
    "collapsed": false
   },
   "outputs": [],
   "source": [
    "# setting up testing sets\n",
    "id_test = []\n",
    "for x in candidate_sp1:\n",
    "    if x not in id_train:\n",
    "        id_test.append(x)\n",
    "feature_test = []       \n",
    "for id in id_test:\n",
    "    feature_test.append(Vector1[id])"
   ]
  },
  {
   "cell_type": "markdown",
   "metadata": {},
   "source": [
    "# classification"
   ]
  },
  {
   "cell_type": "code",
   "execution_count": 158,
   "metadata": {
    "collapsed": true
   },
   "outputs": [],
   "source": [
    "from sklearn.naive_bayes import BernoulliNB\n",
    "from sklearn.tree import DecisionTreeClassifier\n",
    "from sklearn.neighbors import KNeighborsClassifier\n",
    "from sklearn.svm import SVC\n",
    "from sklearn.ensemble import GradientBoostingClassifier\n",
    "from sklearn.neural_network import MLPClassifier"
   ]
  },
  {
   "cell_type": "code",
   "execution_count": null,
   "metadata": {
    "collapsed": true
   },
   "outputs": [],
   "source": [
    "def classification(clf, X_train, Y_train, X_test,id_test):\n",
    "    clf.fit(X_train,Y_train)\n",
    "    target_test = clf.predict(X_test)\n",
    "    df_y_test = pd.DataFrame(id_test,columns=['id'])\n",
    "    df_y_test['label'] = target_test\n",
    "    rel_id_test = df_y_test[df_y_test['label']==1]['id'].tolist()\n",
    "    irrel_id_test = df_y_test[df_y_test['label']==0]['id'].tolist()\n",
    "    \n",
    "    return df_y_test,rel_id_test,irrel_id_test"
   ]
  },
  {
   "cell_type": "code",
   "execution_count": 140,
   "metadata": {
    "collapsed": true
   },
   "outputs": [],
   "source": [
    "clf = BernoulliNB()\n",
    "df,rel_id,irrel_id = classification(clf,feature_train,target_train,feature_test,id_test)\n",
    "with open(path_test1 + 'clf_NB_test_rel.pickle','wb+') as f:\n",
    "    pickle.dump(rel_id,f)\n",
    "with open(path_test1 + 'clf_NB_test_irrel.pickle','wb+') as f:\n",
    "    pickle.dump(irrel_id,f)"
   ]
  },
  {
   "cell_type": "code",
   "execution_count": 141,
   "metadata": {
    "collapsed": false
   },
   "outputs": [],
   "source": [
    "clf = DecisionTreeClassifier()\n",
    "df,rel_id,irrel_id = classification(clf,feature_train,target_train,feature_test,id_test)\n",
    "with open(path_test1 + 'clf_DT_test_rel.pickle','wb+') as f:\n",
    "    pickle.dump(rel_id,f)\n",
    "with open(path_test1 + 'clf_DT_test_irrel.pickle','wb+') as f:\n",
    "    pickle.dump(irrel_id,f)"
   ]
  },
  {
   "cell_type": "code",
   "execution_count": 152,
   "metadata": {
    "collapsed": false
   },
   "outputs": [],
   "source": [
    "clf = KNeighborsClassifier(n_neighbors=1)\n",
    "df,rel_id,irrel_id = classification(clf,feature_train,target_train,feature_test,id_test)\n",
    "with open(path_test1 + 'clf_KNN_test_rel.pickle','wb+') as f:\n",
    "    pickle.dump(rel_id,f)\n",
    "with open(path_test1 + 'clf_KNN_test_irrel.pickle','wb+') as f:\n",
    "    pickle.dump(irrel_id,f)"
   ]
  },
  {
   "cell_type": "code",
   "execution_count": 155,
   "metadata": {
    "collapsed": true
   },
   "outputs": [],
   "source": [
    "# something is wrong here\n",
    "clf = SVC()\n",
    "df,rel_id,irrel_id = classification(clf,feature_train,target_train,feature_test,id_test)\n",
    "with open(path_test1 + 'clf_SVC_test_rel.pickle','wb+') as f:\n",
    "    pickle.dump(rel_id,f)\n",
    "with open(path_test1 + 'clf_SVC_test_irrel.pickle','wb+') as f:\n",
    "    pickle.dump(irrel_id,f)"
   ]
  },
  {
   "cell_type": "code",
   "execution_count": 196,
   "metadata": {
    "collapsed": false
   },
   "outputs": [],
   "source": [
    "clf = GradientBoostingClassifier(n_estimators=100,learning_rate=1, max_depth=1, random_state=10)\n",
    "df,rel_id,irrel_id = classification(clf,feature_train,target_train,feature_test,id_test)\n",
    "with open(path_test1 + 'clf_GBC_test_rel.pickle','wb+') as f:\n",
    "    pickle.dump(rel_id,f)\n",
    "with open(path_test1 + 'clf_GBC_test_irrel.pickle','wb+') as f:\n",
    "    pickle.dump(irrel_id,f)"
   ]
  },
  {
   "cell_type": "code",
   "execution_count": 180,
   "metadata": {
    "collapsed": false
   },
   "outputs": [],
   "source": [
    "# clf = MLPClassifier(solver='sgd', alpha=1e-5, hidden_layer_sizes=(15,), random_state=1)\n",
    "clf = MLPClassifier(hidden_layer_sizes=(100,), learning_rate = 'adaptive', random_state = 0,max_iter=1000)\n",
    "df,rel_id,irrel_id = classification(clf,feature_train,target_train,feature_test,id_test)\n",
    "with open(path_test1 + 'clf_NNW_test_rel.pickle','wb+') as f:\n",
    "    pickle.dump(rel_id,f)\n",
    "with open(path_test1 + 'clf_NNW_test_irrel.pickle','wb+') as f:\n",
    "    pickle.dump(irrel_id,f)"
   ]
  },
  {
   "cell_type": "raw",
   "metadata": {},
   "source": [
    "df[df.label ==1]"
   ]
  },
  {
   "cell_type": "markdown",
   "metadata": {},
   "source": [
    "# questions: \n",
    "\n",
    "begining of Oct\n",
    "\n",
    "1. for initial list:\n",
    "I applied very stringent approach (only look at user profile who provides 'chicago' as their location). Reasonable? Extra learning required?\n",
    "\n",
    "2. feature selection:\n",
    "How many representative nodes do we need?\n",
    "\n",
    "3. feature ranking:\n",
    "My approach reasonable? Any improvement?\n",
    "\n",
    "4. rate limit problem\n",
    "when use the clf on test data, need to retrieve test nodes's friends_list. thus only can test a small portion once a time.\n",
    "can't be real time very slow\n",
    "\n",
    "5. is this approach generic enough? \n",
    "chicago is famous. What if it's non-famous? what if it's smaller or bigger area?\n",
    "\n",
    "6. How to utilize the query user by keyword?\n",
    "\n",
    "7. How to test the performance? \n",
    "We hae ground truth (a small portion of user will list their profile location <10%)\n",
    "\n",
    "# Things to do:\n",
    "a. SVD rank feature \n",
    "\n",
    "b. haven\\'t add prior to naive bayes\n",
    "\n",
    "c. think!\n",
    "\n",
    "I have different goal than Amin's approach.\n",
    "--------------------------------------------------------------------------------------------------------\n",
    "representatives:\n",
    "(1) Amin's approach is very time consuming, might hit a lot of rate limit. imagine loop over 150,000+ people, query their followers to get the \"follower number\"\n",
    "(2) filter the top 200 frequent \"TF\" potential candidate by their location? might sacrifice some representatives that doesn't explicitly list their location? Still consuming, hit rate limit \n",
    "\n",
    "Difference of Amin's goal and my goal\n",
    "he wants to find interest, i want to find location. I have more information than he has. How can I utilize these information."
   ]
  },
  {
   "cell_type": "code",
   "execution_count": null,
   "metadata": {
    "collapsed": true
   },
   "outputs": [],
   "source": []
  },
  {
   "cell_type": "markdown",
   "metadata": {},
   "source": []
  },
  {
   "cell_type": "markdown",
   "metadata": {},
   "source": [
    "# estimate prior\n",
    "<img src= 'prior.png'>\n",
    "\n",
    "i feel like this prior wont affect ranking so can be omit, doesnt change with Ux"
   ]
  }
 ],
 "metadata": {
  "kernelspec": {
   "display_name": "Python 3",
   "language": "python",
   "name": "python3"
  },
  "language_info": {
   "codemirror_mode": {
    "name": "ipython",
    "version": 3
   },
   "file_extension": ".py",
   "mimetype": "text/x-python",
   "name": "python",
   "nbconvert_exporter": "python",
   "pygments_lexer": "ipython3",
   "version": "3.4.4"
  }
 },
 "nbformat": 4,
 "nbformat_minor": 0
}

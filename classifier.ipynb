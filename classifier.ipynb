{
 "cells": [
  {
   "cell_type": "code",
   "execution_count": 1,
   "metadata": {
    "collapsed": true
   },
   "outputs": [],
   "source": [
    "import json\n",
    "import pickle\n",
    "import re\n",
    "import collections\n",
    "import pandas as pd\n",
    "from os import listdir\n",
    "from os.path import isfile, join\n",
    "import numpy as np\n",
    "from sklearn.naive_bayes import BernoulliNB\n",
    "from random import randint\n",
    "import sys\n",
    "import math\n",
    "from scipy import spatial\n",
    "\n",
    "%matplotlib inline\n",
    "import matplotlib.pyplot as plt"
   ]
  },
  {
   "cell_type": "code",
   "execution_count": 2,
   "metadata": {
    "collapsed": true
   },
   "outputs": [],
   "source": [
    "ff_path = 'C:\\\\Users\\\\chenwang\\\\Documents\\\\courses\\\\FA16\\\\CS597\\\\twitterMining\\\\InitialSet\\\\Football\\\\location\\\\ff_of_rep\\\\'\n",
    "path = 'C:\\\\Users\\\\chenwang\\\\Documents\\\\courses\\\\FA16\\\\CS597\\\\twitterMining\\\\InitialSet\\\\Football\\\\location\\\\'"
   ]
  },
  {
   "cell_type": "raw",
   "metadata": {
    "collapsed": false
   },
   "source": [
    "# vocabulary?\n",
    "filenames = [f for f in listdir(ff_path) if isfile(join(ff_path, f))]\n",
    "candidate_list = []  # use this to test my PLSA model\n",
    "\n",
    "for file in filenames:\n",
    "    try:\n",
    "        with open(ff_path + file,'rb') as f:\n",
    "            candidate = pickle.load(f)\n",
    "            \n",
    "            # too big to process, sampling 1000 followers from each representative nodes\n",
    "            for c in candidate[:100]:\n",
    "                if c not in candidate_list:\n",
    "                    candidate_list.append(c)\n",
    "           \n",
    "    except EOFError:\n",
    "        print(file)\n",
    "        pass"
   ]
  },
  {
   "cell_type": "raw",
   "metadata": {
    "collapsed": true
   },
   "source": [
    "with open (path + 'candidate_100.pickle','wb+') as f:\n",
    "    pickle.dump(candidate_list,f)"
   ]
  },
  {
   "cell_type": "code",
   "execution_count": 3,
   "metadata": {
    "collapsed": true
   },
   "outputs": [],
   "source": [
    "with open (path + 'candidate_100.pickle','rb') as f:\n",
    "    candidate_list = pickle.load(f)"
   ]
  },
  {
   "cell_type": "code",
   "execution_count": 4,
   "metadata": {
    "collapsed": false
   },
   "outputs": [],
   "source": [
    "# open features\n",
    "with open (path + 'represent_id.pickle','rb') as f:\n",
    "    feature = pickle.load(f)"
   ]
  },
  {
   "cell_type": "code",
   "execution_count": 5,
   "metadata": {
    "collapsed": false
   },
   "outputs": [
    {
     "data": {
      "text/plain": [
       "7529"
      ]
     },
     "execution_count": 5,
     "metadata": {},
     "output_type": "execute_result"
    }
   ],
   "source": [
    "len(candidate_list)"
   ]
  },
  {
   "cell_type": "markdown",
   "metadata": {},
   "source": [
    "# construct a vector"
   ]
  },
  {
   "cell_type": "code",
   "execution_count": 6,
   "metadata": {
    "collapsed": true
   },
   "outputs": [],
   "source": [
    "def construct_vector(candidate_list,feature):\n",
    "    \n",
    "    V = dict((c,np.zeros(len(feature),)) for c in candidate_list)\n",
    "\n",
    "    for i in range(len(feature)):  \n",
    "        with open(ff_path + str(feature[i]) + '.pickle','rb') as f:\n",
    "\n",
    "                candidate = pickle.load(f)\n",
    "\n",
    "                for c in candidate:\n",
    "                    if c in V.keys():\n",
    "                        #print('true')\n",
    "                        V[c][i] = 1 \n",
    "    return V"
   ]
  },
  {
   "cell_type": "code",
   "execution_count": 7,
   "metadata": {
    "collapsed": false
   },
   "outputs": [
    {
     "data": {
      "text/plain": [
       "7529"
      ]
     },
     "execution_count": 7,
     "metadata": {},
     "output_type": "execute_result"
    }
   ],
   "source": [
    "Vector = construct_vector(candidate_list,feature)\n",
    "len(Vector)"
   ]
  },
  {
   "cell_type": "markdown",
   "metadata": {},
   "source": [
    "# test block to see how sparse the matrix is"
   ]
  },
  {
   "cell_type": "code",
   "execution_count": 8,
   "metadata": {
    "collapsed": false
   },
   "outputs": [],
   "source": [
    "def test_sparsity(V,feature_num):\n",
    "    for v in list(V.keys()):\n",
    "        total_feature = np.sum(V[v])\n",
    "        if total_feature >= feature_num:\n",
    "            print('user_id:', v,'\\t\\ttotal feature:', total_feature)\n",
    "    return None"
   ]
  },
  {
   "cell_type": "code",
   "execution_count": 9,
   "metadata": {
    "collapsed": false
   },
   "outputs": [
    {
     "name": "stdout",
     "output_type": "stream",
     "text": [
      "user_id: 791068282736484352 \t\ttotal feature: 49.0\n",
      "user_id: 781149191808712704 \t\ttotal feature: 46.0\n"
     ]
    }
   ],
   "source": [
    "test_sparsity(Vector,40)"
   ]
  },
  {
   "cell_type": "markdown",
   "metadata": {},
   "source": [
    "# estimate prior\n",
    "<img src= 'prior.png'>\n",
    "\n",
    "i feel like this prior wont affect ranking so can be omit, doesnt change with Ux"
   ]
  },
  {
   "cell_type": "code",
   "execution_count": 10,
   "metadata": {
    "collapsed": false
   },
   "outputs": [],
   "source": [
    "with open(path + 'prob_following_rep.pickle','rb') as f:\n",
    "    prob = pickle.load(f)"
   ]
  },
  {
   "cell_type": "markdown",
   "metadata": {},
   "source": [
    "# Build Classifier\n",
    "<img src=untitled.png>"
   ]
  },
  {
   "cell_type": "code",
   "execution_count": 11,
   "metadata": {
    "collapsed": false
   },
   "outputs": [],
   "source": [
    "def rank_candidate(V, feature):\n",
    "    candidate_score = {}\n",
    "\n",
    "    for v in list(V.keys()):  # for each user\n",
    "        \n",
    "        score = 0\n",
    "        for i in range(len(feature)): # for each feature            \n",
    "\n",
    "            if V[v][i] == 1:  # if follow\n",
    "                score += math.log2(prob[0][i]) # ln(p(follow)) \n",
    "\n",
    "            elif V[v][i] == 0:\n",
    "                score += math.log2(prob[1][i]) # ln(p(unfollow))\n",
    "\n",
    "        candidate_score[v] = score\n",
    "    \n",
    "    candidate_score_ranked = sorted(candidate_score.items(),key=lambda x:x[1],reverse=True)\n",
    "    \n",
    "    return candidate_score_ranked"
   ]
  },
  {
   "cell_type": "code",
   "execution_count": 12,
   "metadata": {
    "collapsed": false
   },
   "outputs": [
    {
     "data": {
      "text/plain": [
       "7529"
      ]
     },
     "execution_count": 12,
     "metadata": {},
     "output_type": "execute_result"
    }
   ],
   "source": [
    "c_rank = rank_candidate(Vector, feature)\n",
    "len(c_rank)"
   ]
  },
  {
   "cell_type": "code",
   "execution_count": null,
   "metadata": {
    "collapsed": true
   },
   "outputs": [],
   "source": [
    "with open (path + 'NB_ranked_100.pickle', 'wb+') as f:\n",
    "    pickle.dump(c_rank,f)"
   ]
  },
  {
   "cell_type": "code",
   "execution_count": 26,
   "metadata": {
    "collapsed": false
   },
   "outputs": [],
   "source": [
    "def plot_ranks(rank,Vector,extra_xlabel):\n",
    "    \n",
    "    n_f = []  # total number of features\n",
    "    for c in rank:\n",
    "        n_f.append(np.sum(Vector[c[0]]))\n",
    "\n",
    "    x = range(1,len(n_f)+1)\n",
    "    y = n_f\n",
    "\n",
    "    fig, axes = plt.subplots(figsize=(10,10))\n",
    "\n",
    "    axes.plot(x,y)\n",
    "    axes.set_xlabel('ranked candidate ' + extra_xlabel)\n",
    "    axes.set_ylabel('total number of feature')\n",
    "    axes.set_title('total candidate:' + str(len(c_rank)))\n",
    "    #axes.set_ylim([1,40])\n",
    "    #axes.set_xlim([0,30000])\n",
    "\n",
    "    plt.show()\n",
    "\n",
    "    return n_f"
   ]
  },
  {
   "cell_type": "code",
   "execution_count": null,
   "metadata": {
    "collapsed": false,
    "scrolled": false
   },
   "outputs": [],
   "source": [
    "tot_f_num = plot_ranks(c_rank,Vector,'(Naive Bayes)')"
   ]
  },
  {
   "cell_type": "markdown",
   "metadata": {},
   "source": [
    "# Vector space model approach\n",
    "similarity = cosine similarity?\n"
   ]
  },
  {
   "cell_type": "code",
   "execution_count": 13,
   "metadata": {
    "collapsed": true
   },
   "outputs": [],
   "source": [
    "with open(path + 'weight_rep.pickle','rb') as f:\n",
    "    weight_vector = pickle.load(f)"
   ]
  },
  {
   "cell_type": "code",
   "execution_count": 21,
   "metadata": {
    "collapsed": false
   },
   "outputs": [],
   "source": [
    "def cosine_similarity(V, weight):\n",
    "    similarity = {}\n",
    "    feature_vector = np.ones((1,100))\n",
    "    #print(feature_vector)\n",
    "                      \n",
    "    for v in list(V.keys()):  # for each user\n",
    "        if weight != None:\n",
    "            V_weighted = np.multiply(V[v],weight_vector)\n",
    "            similarity[v] = 1 - spatial.distance.cosine(V_weighted, weight)\n",
    "        else:\n",
    "            similarity[v] = 1 - spatial.distance.cosine(V[v],feature_vector)\n",
    "\n",
    "    sim_ranked = sorted(similarity.items(),key=lambda x:x[1],reverse=True)\n",
    "    \n",
    "    return sim_ranked"
   ]
  },
  {
   "cell_type": "code",
   "execution_count": 15,
   "metadata": {
    "collapsed": false
   },
   "outputs": [],
   "source": [
    "weighted_sim_ranked = cosine_similarity(Vector,weight_vector)"
   ]
  },
  {
   "cell_type": "code",
   "execution_count": 17,
   "metadata": {
    "collapsed": false
   },
   "outputs": [
    {
     "data": {
      "text/plain": [
       "[(754013832108994560, 0.81915218511226695),\n",
       " (781149191808712704, 0.80697806279668594),\n",
       " (787488684912156672, 0.79923621341870432),\n",
       " (751010271880151040, 0.79215972545784552),\n",
       " (4422065969, 0.77809750039113568),\n",
       " (791068282736484352, 0.77615998210576131),\n",
       " (779659530242142208, 0.7741969648956134),\n",
       " (2792235196, 0.74965471154004859),\n",
       " (4284918074, 0.71983991404675729),\n",
       " (725426517459628032, 0.71490228546887591)]"
      ]
     },
     "execution_count": 17,
     "metadata": {},
     "output_type": "execute_result"
    }
   ],
   "source": [
    "weighted_sim_ranked[:10]"
   ]
  },
  {
   "cell_type": "code",
   "execution_count": 19,
   "metadata": {
    "collapsed": false
   },
   "outputs": [],
   "source": [
    "with open(path + 'weighted_sim_ranked_100.pickle','wb+') as f:\n",
    "    pickle.dump(weighted_sim_ranked,f)"
   ]
  },
  {
   "cell_type": "code",
   "execution_count": 22,
   "metadata": {
    "collapsed": false,
    "scrolled": true
   },
   "outputs": [],
   "source": [
    "sim_ranked = cosine_similarity(Vector, None)"
   ]
  },
  {
   "cell_type": "code",
   "execution_count": 23,
   "metadata": {
    "collapsed": false
   },
   "outputs": [
    {
     "data": {
      "text/plain": [
       "[(791068282736484352, 0.69999999999999996),\n",
       " (781149191808712704, 0.67823299831252681),\n",
       " (785599640146108417, 0.59160797830996159),\n",
       " (779659530242142208, 0.5830951894845301),\n",
       " (788347210698256384, 0.5830951894845301),\n",
       " (787488684912156672, 0.56568542494923801),\n",
       " (550557628, 0.55677643628300222),\n",
       " (790322349098749952, 0.55677643628300222),\n",
       " (787676699240570880, 0.55677643628300222),\n",
       " (780206098431213568, 0.55677643628300222)]"
      ]
     },
     "execution_count": 23,
     "metadata": {},
     "output_type": "execute_result"
    }
   ],
   "source": [
    "sim_ranked[:10]"
   ]
  },
  {
   "cell_type": "code",
   "execution_count": 29,
   "metadata": {
    "collapsed": true
   },
   "outputs": [],
   "source": [
    "with open(path + 'unweighted_sim_ranked_100.pickle','wb+') as f:\n",
    "    pickle.dump(sim_ranked,f)"
   ]
  },
  {
   "cell_type": "code",
   "execution_count": 30,
   "metadata": {
    "collapsed": false,
    "scrolled": false
   },
   "outputs": [
    {
     "data": {
      "image/png": "[encoded data removed]",
      "text/plain": [
       "<matplotlib.figure.Figure at 0x7820dd0>"
      ]
     },
     "metadata": {},
     "output_type": "display_data"
    }
   ],
   "source": [
    "tot_f_num = plot_ranks(sim_ranked,Vector,'(unweighted Cosine Similarity)')"
   ]
  },
  {
   "cell_type": "code",
   "execution_count": 28,
   "metadata": {
    "collapsed": false
   },
   "outputs": [
    {
     "data": {
      "image/png": "[encoded data removed]",
      "text/plain": [
       "<matplotlib.figure.Figure at 0x77b7850>"
      ]
     },
     "metadata": {},
     "output_type": "display_data"
    }
   ],
   "source": [
    "tot_f_num = plot_ranks(weighted_sim_ranked,Vector,'(weighted Cosine Similarity)')"
   ]
  },
  {
   "cell_type": "markdown",
   "metadata": {},
   "source": [
    "# questions: \n",
    "\n",
    "begining of Oct\n",
    "\n",
    "1. for initial list:\n",
    "I applied very stringent approach (only look at user profile who provides 'chicago' as their location). Reasonable? Extra learning required?\n",
    "\n",
    "2. feature selection:\n",
    "How many representative nodes do we need?\n",
    "\n",
    "3. feature ranking:\n",
    "My approach reasonable? Any improvement?\n",
    "\n",
    "4. rate limit problem\n",
    "when use the clf on test data, need to retrieve test nodes's friends_list. thus only can test a small portion once a time.\n",
    "can't be real time very slow\n",
    "\n",
    "5. is this approach generic enough? \n",
    "chicago is famous. What if it's non-famous? what if it's smaller or bigger area?\n",
    "\n",
    "6. How to utilize the query user by keyword?\n",
    "\n",
    "7. How to test the performance? \n",
    "We hae ground truth (a small portion of user will list their profile location <10%)\n",
    "\n",
    "# Things to do:\n",
    "a. SVD rank feature \n",
    "\n",
    "b. haven\\'t add prior to naive bayes\n",
    "\n",
    "c. think!\n",
    "\n",
    "I have different goal than Amin's approach.\n",
    "--------------------------------------------------------------------------------------------------------\n",
    "representatives:\n",
    "(1) Amin's approach is very time consuming, might hit a lot of rate limit. imagine loop over 150,000+ people, query their followers to get the \"follower number\"\n",
    "(2) filter the top 200 frequent \"TF\" potential candidate by their location? might sacrifice some representatives that doesn't explicitly list their location? Still consuming, hit rate limit \n",
    "\n",
    "Difference of Amin's goal and my goal\n",
    "he wants to find interest, i want to find location. I have more information than he has. How can I utilize these information."
   ]
  },
  {
   "cell_type": "code",
   "execution_count": null,
   "metadata": {
    "collapsed": true
   },
   "outputs": [],
   "source": []
  }
 ],
 "metadata": {
  "kernelspec": {
   "display_name": "Python 3",
   "language": "python",
   "name": "python3"
  },
  "language_info": {
   "codemirror_mode": {
    "name": "ipython",
    "version": 3
   },
   "file_extension": ".py",
   "mimetype": "text/x-python",
   "name": "python",
   "nbconvert_exporter": "python",
   "pygments_lexer": "ipython3",
   "version": "3.4.4"
  }
 },
 "nbformat": 4,
 "nbformat_minor": 0
}

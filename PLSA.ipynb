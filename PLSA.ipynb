{
 "cells": [
  {
   "cell_type": "code",
   "execution_count": 2,
   "metadata": {
    "collapsed": true
   },
   "outputs": [],
   "source": [
    "import numpy as np\n",
    "import collections\n",
    "import math\n",
    "from sklearn.preprocessing import normalize\n",
    "import time\n",
    "import pickle\n",
    "import tweepy"
   ]
  },
  {
   "cell_type": "markdown",
   "metadata": {},
   "source": [
    "# open file"
   ]
  },
  {
   "cell_type": "code",
   "execution_count": 5,
   "metadata": {
    "collapsed": false
   },
   "outputs": [],
   "source": [
    "with open('followees_list.pickle','rb') as f:\n",
    "    collection = pickle.load(f)"
   ]
  },
  {
   "cell_type": "code",
   "execution_count": 84,
   "metadata": {
    "collapsed": false
   },
   "outputs": [],
   "source": [
    "N_documents = len(collection)\n",
    "\n",
    "# ----------------setting ---------------\n",
    "k_topics = 6\n",
    "ll = 0.9 # lambda\n",
    "seed = 0"
   ]
  },
  {
   "cell_type": "markdown",
   "metadata": {},
   "source": [
    "# build vocabulary\n",
    "\n",
    "<p> all the unique words in the whole collection </p>"
   ]
  },
  {
   "cell_type": "code",
   "execution_count": 85,
   "metadata": {
    "collapsed": true
   },
   "outputs": [],
   "source": [
    "def build_vocab(col):\n",
    "    \n",
    "    vocab = {}     # word: counts\n",
    "\n",
    "    for doc in col:\n",
    "        unique_words_d = collections.Counter(doc)\n",
    "\n",
    "        for w in unique_words_d.keys():\n",
    "            if w not in vocab.keys():\n",
    "                vocab[w] = unique_words_d[w]\n",
    "            else:\n",
    "                vocab[w] += unique_words_d[w]\n",
    "    \n",
    "    return vocab"
   ]
  },
  {
   "cell_type": "code",
   "execution_count": 86,
   "metadata": {
    "collapsed": false
   },
   "outputs": [],
   "source": [
    "vocab = build_vocab(collection)\n",
    "n_words = len(vocab)"
   ]
  },
  {
   "cell_type": "code",
   "execution_count": 87,
   "metadata": {
    "collapsed": false
   },
   "outputs": [
    {
     "data": {
      "text/plain": [
       "121976"
      ]
     },
     "execution_count": 87,
     "metadata": {},
     "output_type": "execute_result"
    }
   ],
   "source": [
    "n_words"
   ]
  },
  {
   "cell_type": "markdown",
   "metadata": {
    "collapsed": true
   },
   "source": [
    "# build background distribution p(w|D)\n",
    "<img src=pwd.png>"
   ]
  },
  {
   "cell_type": "code",
   "execution_count": 88,
   "metadata": {
    "collapsed": true
   },
   "outputs": [],
   "source": [
    "def build_background(voc):\n",
    "    # p(w|D) = sum(c(w,Di))/sum(sum(c(wi,Di)))  \n",
    "    # background distribution of a word is fixed\n",
    "\n",
    "    p_w_D = {}\n",
    "    total_counts = sum(voc.values())\n",
    "\n",
    "    for w in voc.keys():\n",
    "        p_w_D[w] = voc[w]/total_counts\n",
    "        \n",
    "    return p_w_D"
   ]
  },
  {
   "cell_type": "code",
   "execution_count": 89,
   "metadata": {
    "collapsed": false
   },
   "outputs": [],
   "source": [
    "p_w_D = build_background(vocab)"
   ]
  },
  {
   "cell_type": "code",
   "execution_count": 90,
   "metadata": {
    "collapsed": false
   },
   "outputs": [
    {
     "data": {
      "text/plain": [
       "1.3295308750307455e-05"
      ]
     },
     "execution_count": 90,
     "metadata": {},
     "output_type": "execute_result"
    }
   ],
   "source": [
    "list(p_w_D.keys())[:5]\n",
    "p_w_D[2229272575]"
   ]
  },
  {
   "cell_type": "markdown",
   "metadata": {},
   "source": [
    "# Calculate word count in each document c(w,d)"
   ]
  },
  {
   "cell_type": "code",
   "execution_count": 91,
   "metadata": {
    "collapsed": true
   },
   "outputs": [],
   "source": [
    "def cal_word_doc(i_col,i_voc):\n",
    "    # c(w,d)\n",
    "    c_w_d = []\n",
    "\n",
    "    for doc in i_col:\n",
    "        c_w = collections.Counter(doc)\n",
    "        c_w_d.append(c_w)\n",
    "    \n",
    "    return c_w_d"
   ]
  },
  {
   "cell_type": "code",
   "execution_count": 92,
   "metadata": {
    "collapsed": false
   },
   "outputs": [],
   "source": [
    "c_w_d = cal_word_doc(collection,vocab)"
   ]
  },
  {
   "cell_type": "markdown",
   "metadata": {},
   "source": [
    "# E step"
   ]
  },
  {
   "cell_type": "code",
   "execution_count": 93,
   "metadata": {
    "collapsed": true
   },
   "outputs": [],
   "source": [
    "def initial(vocab, N_documents, k_topics, seed):\n",
    "    \n",
    "    # guess p(z= k|pi) and p(w|theta)\n",
    "    \n",
    "    \n",
    "    np.random.seed(seed)\n",
    "    norm_pi_0 = normalize(np.random.rand(N_documents, k_topics),norm='l1')   # k topic, N document\n",
    "    theta_array = normalize(np.random.rand(n_words,k_topics),norm='l1',axis = 0)    # n words, k topics\n",
    "    \n",
    "    i=0\n",
    "    norm_theta_0 = {}\n",
    "    \n",
    "    for word in vocab.keys():\n",
    "        norm_theta_0[word] = theta_array[i]\n",
    "        i=i+1\n",
    "           \n",
    "    return norm_pi_0, norm_theta_0"
   ]
  },
  {
   "cell_type": "markdown",
   "metadata": {},
   "source": [
    "# build Q function\n",
    "<img src=\"qfunc.png\"> \n",
    "<img src=\"EM_sum.png\"> "
   ]
  },
  {
   "cell_type": "code",
   "execution_count": 94,
   "metadata": {
    "collapsed": false
   },
   "outputs": [],
   "source": [
    "# for a given document and given word, sum over all the topics\n",
    "# optimize: only caculate for the word doc pair within c(w,d) to avoid memory problem\n",
    "\n",
    "def build_q_func(pi, theta, p_w_D, ll):\n",
    "       \n",
    "    sum_q = np.dot(pi,theta) # (top1, top2 ...) * (top1, top2 ....)T\n",
    "    q_func = ((1-ll)* np.multiply(pi, theta))/(ll* p_w_D + (1-ll)*sum_q)\n",
    "    \n",
    "    return q_func"
   ]
  },
  {
   "cell_type": "markdown",
   "metadata": {},
   "source": [
    "# build N \n",
    "<img src=\"EM_ndk.png\"> \n",
    "<img src=\"EM_n.png\"> "
   ]
  },
  {
   "cell_type": "code",
   "execution_count": 95,
   "metadata": {
    "collapsed": false,
    "scrolled": false
   },
   "outputs": [],
   "source": [
    "def build_n(pi, theta, ll, N_documents,k_topics,c_w_d, p_w_D):\n",
    "    \n",
    "    n_d_k = np.empty((N_documents,k_topics))\n",
    "    n_w_k = {}\n",
    "    \n",
    "    for d in range(N_documents):\n",
    "\n",
    "        SUM = np.empty((k_topics,))\n",
    "\n",
    "        for w in c_w_d[d].keys():              \n",
    "            q_func = build_q_func(pi[d], theta[w], p_w_D[w], ll)           \n",
    "            SUM += c_w_d[d][w] * q_func\n",
    "            \n",
    "            if w not in n_w_k.keys():\n",
    "                n_w_k[w] = c_w_d[d][w] * q_func\n",
    "            else:\n",
    "                n_w_k[w] = np.add(n_w_k[w],c_w_d[d][w] * q_func)    \n",
    "    \n",
    "        n_d_k[d] = SUM\n",
    "        \n",
    "    return n_d_k, n_w_k  "
   ]
  },
  {
   "cell_type": "markdown",
   "metadata": {},
   "source": [
    "# M step\n",
    "<img src=\"mstep.png\"> "
   ]
  },
  {
   "cell_type": "code",
   "execution_count": 96,
   "metadata": {
    "collapsed": false
   },
   "outputs": [],
   "source": [
    "def build_pi_theta(N_documents, k_topics, vocab, n_d_k, n_w_k):      \n",
    "    \n",
    "    pi_n = np.empty((N_documents,k_topics))\n",
    "    for d in range(N_documents):\n",
    "        pi_n[d] = n_d_k[d]/np.sum(n_d_k[d])\n",
    "\n",
    "    theta_n = {}\n",
    "    SUM = np.empty((k_topics,))\n",
    "    \n",
    "    for w in vocab.keys():\n",
    "        SUM += n_w_k[w]\n",
    "        \n",
    "    for w in vocab.keys():            \n",
    "        theta_n[w] = np.divide(n_w_k[w], SUM)\n",
    "        \n",
    "        \n",
    "    return pi_n, theta_n"
   ]
  },
  {
   "cell_type": "code",
   "execution_count": 97,
   "metadata": {
    "collapsed": false
   },
   "outputs": [],
   "source": [
    "# test block: Make sure all of your distributions sum to 1 at all times! Remember that your π distributions will sum to 1 across the KK topics (excluding the background) and that your \\theta_kθ\n",
    "# k toipcs, theta distributions will sum to 1 across the entire vocabulary V\n",
    "\n",
    "def test_distribution(pi_n, theta_n, N_documents, k_topics, vocab):\n",
    "    \n",
    "    for d in range(N_documents):\n",
    "        \n",
    "        if abs(np.sum(pi_n[d]) - 1) > 0.0001:\n",
    "            print(pi_n[d])\n",
    "            print(d,'document has problem over pi distribution')\n",
    "    \n",
    "    for k in range(k_topics):\n",
    "        \n",
    "        SUM = 0    \n",
    "        for w in vocab.keys():\n",
    "            SUM += theta_n[w][k]          \n",
    "        if abs(SUM -1) > 0.0001:\n",
    "            print(SUM, k,'topic has problem over theta distribution')\n",
    "            \n",
    "    return None"
   ]
  },
  {
   "cell_type": "markdown",
   "metadata": {},
   "source": [
    "# log function\n",
    "<img src= log.png>"
   ]
  },
  {
   "cell_type": "code",
   "execution_count": 98,
   "metadata": {
    "collapsed": true
   },
   "outputs": [],
   "source": [
    "def log_function(N_documents,c_w_d,p_w_d,pi,theta):\n",
    "    \n",
    "    log_func = 0\n",
    "    for d in range(N_documents):\n",
    "        \n",
    "        for word in c_w_d[d].keys():\n",
    "            \n",
    "            sum_q = np.dot(pi[d], theta[word])\n",
    "            log_func += c_w_d[d][word]*math.log2(ll*p_w_D[word] + (1-ll)*sum_q)\n",
    "            \n",
    "    return log_func"
   ]
  },
  {
   "cell_type": "markdown",
   "metadata": {},
   "source": [
    "# EM algorithm "
   ]
  },
  {
   "cell_type": "code",
   "execution_count": 99,
   "metadata": {
    "collapsed": false
   },
   "outputs": [],
   "source": [
    "def EM_algorithm(N_documents, k_topics, vocab, ll,c_w_d, p_w_D, iter_times,seed):\n",
    "     \n",
    "    pi_0, theta_0 =initial(vocab, N_documents, k_topics, seed)\n",
    "    n_dk, n_wk = build_n(pi_0, theta_0, ll, N_documents, k_topics, c_w_d, p_w_D)\n",
    "    pi_n, theta_n = build_pi_theta(N_documents,k_topics, vocab, n_dk, n_wk)\n",
    "    \n",
    "    #------------test distribution-------------------------------\n",
    "    test_distribution(pi_n,theta_n,N_documents,k_topics,vocab)\n",
    "    \n",
    "    \n",
    "    #------------iteraetion starts--------------------------------\n",
    "    iter_n = 0\n",
    "    log = [log_function(N_documents,c_w_d,p_w_D,pi_0,theta_0)]  \n",
    "    rel_change = []\n",
    "    \n",
    "    while (iter_n != iter_times):\n",
    "        \n",
    "        start = time.clock()\n",
    "        \n",
    "        n_dk, n_wk = build_n(pi_n, theta_n, ll, N_documents, k_topics, c_w_d, p_w_D)\n",
    "        pi_n, theta_n = build_pi_theta(N_documents,k_topics, vocab, n_dk, n_wk)\n",
    "\n",
    "        #------------test distribution-------------------------------\n",
    "        test_distribution(pi_n,theta_n,N_documents,k_topics,vocab)\n",
    "\n",
    "\n",
    "        #------------- log function ----------------------------------          \n",
    "        log_func = log_function(N_documents,c_w_d,p_w_D,pi_n,theta_n)\n",
    "\n",
    "        rel = (log[-1]-log_func)/log[-1]\n",
    "        log.append(log_func)\n",
    "        rel_change.append(rel)\n",
    "        \n",
    "        print('log_func:',log_func)\n",
    "        print('relative change:', rel)\n",
    "        \n",
    "        if rel <=0.00001:\n",
    "            break\n",
    "        \n",
    "        iter_n += 1\n",
    "        \n",
    "        end = time.clock()\n",
    "        print('---------------------------------')    \n",
    "        print('iteration:',iter_n, 'time:',end-start,'sec\\n')\n",
    "        \n",
    "    return pi_n, theta_n, log,rel_change"
   ]
  },
  {
   "cell_type": "code",
   "execution_count": 100,
   "metadata": {
    "collapsed": false
   },
   "outputs": [
    {
     "name": "stdout",
     "output_type": "stream",
     "text": [
      "log_func: -2492330.1474430626\n",
      "relative change: 0.005578115968190823\n",
      "---------------------------------\n",
      "iteration: 1 time: 8.492876445077854 sec\n",
      "\n",
      "log_func: -2479373.5739459465\n",
      "relative change: 0.005198578330566895\n",
      "---------------------------------\n",
      "iteration: 2 time: 4.458108621864085 sec\n",
      "\n",
      "log_func: -2463915.797818131\n",
      "relative change: 0.006234549037003131\n",
      "---------------------------------\n",
      "iteration: 3 time: 3.0389891415770762 sec\n",
      "\n",
      "log_func: -2450491.6791645093\n",
      "relative change: 0.005448286287018806\n",
      "---------------------------------\n",
      "iteration: 4 time: 3.2386727672155757 sec\n",
      "\n",
      "log_func: -2441344.412640584\n",
      "relative change: 0.003732829048839646\n",
      "---------------------------------\n",
      "iteration: 5 time: 3.0975680057345016 sec\n",
      "\n",
      "log_func: -2435879.1671897257\n",
      "relative change: 0.0022386212377741594\n",
      "---------------------------------\n",
      "iteration: 6 time: 3.055129878988737 sec\n",
      "\n",
      "log_func: -2432398.186944762\n",
      "relative change: 0.0014290447128294558\n",
      "---------------------------------\n",
      "iteration: 7 time: 3.069638282067899 sec\n",
      "\n",
      "log_func: -2430301.873944803\n",
      "relative change: 0.0008618297000918806\n",
      "---------------------------------\n",
      "iteration: 8 time: 3.068721831327821 sec\n",
      "\n",
      "log_func: -2428922.5790451327\n",
      "relative change: 0.0005675405654160861\n",
      "---------------------------------\n",
      "iteration: 9 time: 3.0487724563572556 sec\n",
      "\n",
      "0.999890274509 3 topic has problem over theta distribution\n",
      "log_func: -2427762.1619056202\n",
      "relative change: 0.00047774974366151856\n",
      "---------------------------------\n",
      "iteration: 10 time: 3.0904506517154005 sec\n",
      "\n",
      "0.999888983918 3 topic has problem over theta distribution\n",
      "log_func: -2426923.6175674265\n",
      "relative change: 0.0003453980589002691\n",
      "---------------------------------\n",
      "iteration: 11 time: 3.1248434271919905 sec\n",
      "\n",
      "0.999890749949 3 topic has problem over theta distribution\n",
      "log_func: -2426424.82397169\n",
      "relative change: 0.00020552504913044417\n",
      "---------------------------------\n",
      "iteration: 12 time: 7.088114407948524 sec\n",
      "\n",
      "0.999891875363 3 topic has problem over theta distribution\n",
      "log_func: -2426150.608195711\n",
      "relative change: 0.00011301226943860863\n",
      "---------------------------------\n",
      "iteration: 13 time: 7.022217622625249 sec\n",
      "\n",
      "0.999892469357 3 topic has problem over theta distribution\n",
      "log_func: -2425996.841134843\n",
      "relative change: 6.33790253369021e-05\n",
      "---------------------------------\n",
      "iteration: 14 time: 3.1638406940901405 sec\n",
      "\n",
      "0.999892772446 3 topic has problem over theta distribution\n",
      "log_func: -2425910.256797789\n",
      "relative change: 3.569021013783254e-05\n",
      "---------------------------------\n",
      "iteration: 15 time: 3.4828882866640924 sec\n",
      "\n",
      "0.999892917664 3 topic has problem over theta distribution\n",
      "log_func: -2425860.8768177433\n",
      "relative change: 2.0355237753526045e-05\n",
      "---------------------------------\n",
      "iteration: 16 time: 6.473237970568334 sec\n",
      "\n",
      "0.999892982881 3 topic has problem over theta distribution\n",
      "log_func: -2425831.924779802\n",
      "relative change: 1.1934747873578895e-05\n",
      "---------------------------------\n",
      "iteration: 17 time: 7.777919567014578 sec\n",
      "\n",
      "0.999893007448 3 topic has problem over theta distribution\n",
      "log_func: -2425814.1972949207\n",
      "relative change: 7.307796018481948e-06\n"
     ]
    }
   ],
   "source": [
    "pi_n, theta_n, log, rel_change = EM_algorithm(N_documents,k_topics, vocab, ll, c_w_d, p_w_D, 100, seed)"
   ]
  },
  {
   "cell_type": "code",
   "execution_count": 101,
   "metadata": {
    "collapsed": false
   },
   "outputs": [],
   "source": [
    "with open('RUN_'+str(seed)+'_pi_n.pickle','wb+') as f:\n",
    "    pickle.dump(pi_n, f)\n",
    "with open('RUN_'+str(seed)+'_theta_n.pickle','wb+') as f:\n",
    "    pickle.dump(theta_n, f)\n",
    "with open('RUN_'+str(seed)+'_log.pickle','wb+') as f:\n",
    "    pickle.dump(log, f)"
   ]
  },
  {
   "cell_type": "markdown",
   "metadata": {},
   "source": [
    "# print the top 10 words in each topic"
   ]
  },
  {
   "cell_type": "code",
   "execution_count": 102,
   "metadata": {
    "collapsed": true
   },
   "outputs": [],
   "source": [
    "consumer_key = 'mVJcyNN5qFyk7GdBJvENVc329'\n",
    "consumer_secret = 'DbXUXB7EN77HmzQahobHeTPSWgcNI9t8kKzDoe5twfTORnjXxf'\n",
    "access_token = '707770026573561856-Vfqm0iXrsBvFL2prQMQ2Gzu9eawWYIj'\n",
    "access_token_secret = 'HSMqS4YkDBcB6mm9JL3vd6VeKlkKmNdMxmJ0inJQwNhXS'\n",
    "\n",
    "auth = tweepy.OAuthHandler(consumer_key, consumer_secret)\n",
    "auth.set_access_token(access_token, access_token_secret)\n",
    "api = tweepy.API(auth, wait_on_rate_limit= True,wait_on_rate_limit_notify=True)"
   ]
  },
  {
   "cell_type": "code",
   "execution_count": 103,
   "metadata": {
    "collapsed": true
   },
   "outputs": [],
   "source": [
    "top_20_followees = []"
   ]
  },
  {
   "cell_type": "code",
   "execution_count": 109,
   "metadata": {
    "collapsed": false,
    "scrolled": false
   },
   "outputs": [],
   "source": [
    "for k in range(4,5):\n",
    "    \n",
    "    topic = {}\n",
    "    for word in vocab.keys():\n",
    "        topic[word] = theta_n[word][k]\n",
    "\n",
    "    ranked_list = sorted(topic.items(), key=lambda x: x[1],reverse=True)[:20]\n",
    "    temp = [(api.get_user(str(r[0])).screen_name,api.get_user(str(r[0])).location) for r in ranked_list]\n",
    "    \n",
    "    top_20_followees.append(temp)"
   ]
  },
  {
   "cell_type": "code",
   "execution_count": 4,
   "metadata": {
    "collapsed": false
   },
   "outputs": [
    {
     "ename": "NameError",
     "evalue": "name 'top_20_followees' is not defined",
     "output_type": "error",
     "traceback": [
      "\u001b[1;31m---------------------------------------------------------------------------\u001b[0m",
      "\u001b[1;31mNameError\u001b[0m                                 Traceback (most recent call last)",
      "\u001b[1;32m<ipython-input-4-2f6d75c5bd86>\u001b[0m in \u001b[0;36m<module>\u001b[1;34m()\u001b[0m\n\u001b[0;32m      1\u001b[0m \u001b[1;32mwith\u001b[0m \u001b[0mopen\u001b[0m \u001b[1;33m(\u001b[0m\u001b[1;34m'top_20_followee.pickle'\u001b[0m\u001b[1;33m,\u001b[0m\u001b[1;34m'wb+'\u001b[0m\u001b[1;33m)\u001b[0m \u001b[1;32mas\u001b[0m \u001b[0mf\u001b[0m\u001b[1;33m:\u001b[0m\u001b[1;33m\u001b[0m\u001b[0m\n\u001b[1;32m----> 2\u001b[1;33m     \u001b[0mpickle\u001b[0m\u001b[1;33m.\u001b[0m\u001b[0mdump\u001b[0m\u001b[1;33m(\u001b[0m\u001b[0mtop_20_followees\u001b[0m\u001b[1;33m,\u001b[0m\u001b[0mf\u001b[0m\u001b[1;33m)\u001b[0m\u001b[1;33m\u001b[0m\u001b[0m\n\u001b[0m",
      "\u001b[1;31mNameError\u001b[0m: name 'top_20_followees' is not defined"
     ]
    }
   ],
   "source": [
    "with open ('top_20_followee.pickle','rb+') as f:\n",
    "    top_20_followee.picklepickle.load(f)"
   ]
  },
  {
   "cell_type": "code",
   "execution_count": 130,
   "metadata": {
    "collapsed": false,
    "scrolled": false
   },
   "outputs": [
    {
     "name": "stdout",
     "output_type": "stream",
     "text": [
      "('AngelaWoody', 'Chicago')\n",
      "('ThreeGuySports', '')\n",
      "('ChiCitySports23', 'Chicago')\n",
      "('NiseiLounge', '3439 N Sheffield Ave, Chicago')\n",
      "('flo_ottis', 'Chicagoland')\n",
      "('PayneTrainsIL', 'Chicago, IL')\n",
      "('markhoppus', 'Stage Right')\n",
      "('AstronomerJoe', 'Chicago, Illinois')\n",
      "('cameronesposito', 'Los Angeles, CA')\n",
      "('jcrew', '')\n",
      "\n",
      "\n",
      "('CommsUnited', 'Chicago, IL')\n",
      "('Judd_Sirott', '')\n",
      "('NaomiAKlein', '')\n",
      "('Carrie_Rachel', 'worldwide')\n",
      "('11thWardChicago', 'South Side of Chicago')\n",
      "('evanstonspace', 'Evanston, Illinois')\n",
      "('JoeBudden', 'IG: JoeBudden')\n",
      "('portlandia', '')\n",
      "('factcheckdotorg', 'Philadelphia')\n",
      "('seanonolennon', 'New York, NY')\n",
      "\n",
      "\n",
      "('JonnyCampbell16', 'Chicago, IL')\n",
      "('sjohn25', 'Chicago')\n",
      "('thesoccerdon', '')\n",
      "('EvervilleFans', 'Honolulu, HI')\n",
      "('1Hainty', '')\n",
      "('_Phli', 'southside, IL')\n",
      "('XavierWoodsPhD', 'Atlanta, GA')\n",
      "('glasses26', '')\n",
      "('Trevornoah', 'New York, NY')\n",
      "('TalentCulture', 'Cambridge, MA ')\n",
      "\n",
      "\n",
      "('BreneBrown', 'University of Houston')\n",
      "('SkydeckChicago', 'Chicago, Ill.')\n",
      "('Jenna_Marbles', 'Sirius B ⭐️')\n",
      "('LongBarnes', 'Chicago')\n",
      "('WishboneWash', 'Chicago')\n",
      "('FashionFocus', 'Chicago, IL')\n",
      "('cgrgry', 'Chicago, IL')\n",
      "('ChristmasCHI', 'Chicago, IL')\n",
      "('StyleAdmirerChi', 'Chicago, IL')\n",
      "('TesoriChicago', 'Chicago, IL')\n",
      "\n",
      "\n",
      "('JalenRose', 'Seeking Salvation')\n",
      "('kylehillman', '')\n",
      "('kylieminogue', 'Global')\n",
      "('mjzalewski', 'ÜT: 41.872413,-87.633632')\n",
      "('imancentral', 'Chicago')\n",
      "('ricky_martin', 'Puerto Rico')\n",
      "('USAGym', 'Indianapolis, Ind.')\n",
      "('HBO', 'United States')\n",
      "('RajonRondo', 'Kentucky')\n",
      "('MarinCorp', 'Chicago, IL')\n",
      "\n",
      "\n"
     ]
    }
   ],
   "source": [
    "for k in range(5):\n",
    "    for ff in top_20_followees[k][:10]:\n",
    "        print(ff)\n",
    "    print('\\n')"
   ]
  },
  {
   "cell_type": "code",
   "execution_count": null,
   "metadata": {
    "collapsed": true
   },
   "outputs": [],
   "source": []
  },
  {
   "cell_type": "code",
   "execution_count": 131,
   "metadata": {
    "collapsed": false
   },
   "outputs": [
    {
     "data": {
      "text/plain": [
       "array([  5.55398601e-52,   2.42586887e-08,   9.99999976e-01,\n",
       "         1.91023711e-40,   3.00107715e-36,   6.28744096e-38])"
      ]
     },
     "execution_count": 131,
     "metadata": {},
     "output_type": "execute_result"
    }
   ],
   "source": [
    "pi_n[1]"
   ]
  },
  {
   "cell_type": "raw",
   "metadata": {},
   "source": [
    "for d in range(len(pi_n)):\n",
    "    print(pi_n[d][0])"
   ]
  },
  {
   "cell_type": "code",
   "execution_count": 64,
   "metadata": {
    "collapsed": false
   },
   "outputs": [],
   "source": [
    "# plot\n",
    "\n",
    "%matplotlib inline\n",
    "import matplotlib.pyplot as plt\n",
    "\n",
    "def plot_2D(x,y,x_label, y_label, title):\n",
    "    \n",
    "    plt.plot(x,y)\n",
    "    plt.xlabel(x_label)\n",
    "    plt.ylabel(y_label)\n",
    "    plt.title(title)\n",
    "    \n",
    "    plt.show()\n",
    "    \n",
    "    \n",
    "    return None"
   ]
  },
  {
   "cell_type": "code",
   "execution_count": 65,
   "metadata": {
    "collapsed": false
   },
   "outputs": [
    {
     "data": {
      "image/png": "[encoded data removed]",
      "text/plain": [
       "<matplotlib.figure.Figure at 0x7554e70>"
      ]
     },
     "metadata": {},
     "output_type": "display_data"
    }
   ],
   "source": [
    "plot_2D(range(len(log)), log, 'iteration', 'log likelihood', 'RUN'+str(seed)+' log likelihood changing per iteration')"
   ]
  },
  {
   "cell_type": "code",
   "execution_count": 66,
   "metadata": {
    "collapsed": false
   },
   "outputs": [
    {
     "data": {
      "image/png": "[encoded data removed]",
      "text/plain": [
       "<matplotlib.figure.Figure at 0xa8174b0>"
      ]
     },
     "metadata": {},
     "output_type": "display_data"
    }
   ],
   "source": [
    "plot_2D(range(len(rel_change)), rel_change, 'iteration', 'relative change', 'RUN'+str(seed)+' relative change per iteration')"
   ]
  },
  {
   "cell_type": "code",
   "execution_count": null,
   "metadata": {
    "collapsed": true
   },
   "outputs": [],
   "source": []
  }
 ],
 "metadata": {
  "kernelspec": {
   "display_name": "Python 3",
   "language": "python",
   "name": "python3"
  },
  "language_info": {
   "codemirror_mode": {
    "name": "ipython",
    "version": 3
   },
   "file_extension": ".py",
   "mimetype": "text/x-python",
   "name": "python",
   "nbconvert_exporter": "python",
   "pygments_lexer": "ipython3",
   "version": "3.4.4"
  }
 },
 "nbformat": 4,
 "nbformat_minor": 0
}

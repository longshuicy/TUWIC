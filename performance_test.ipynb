{
 "cells": [
  {
   "cell_type": "markdown",
   "metadata": {},
   "source": [
    "a few steps:\n",
    "    \n",
    "    -find representative nodes \n",
    "            1. feature extraction (all the followees)  \n",
    "            2. feature selection  \n",
    "                modify here 10/31/2016\n",
    "                (1) instead of get the top 300 most counts, now weed out 1 and 2 get all followees. query their total followers\n",
    "                (2) instead of penalize by total followers, consider penalize by a prior distribution 1 - p(target users)\n",
    "     my feeling on this section, there wont be many improvement available. Cuz we only have positive features, feature selection methods (mutual information, chi2, f-test wont work, already tested)\n",
    "            \n",
    "    -classification/ranking based on the feature\n",
    "    -testing\n",
    "    \n",
    "    -addition: besides follower/followee relationship, whatelse information can we add into this model\n",
    "    "
   ]
  },
  {
   "cell_type": "code",
   "execution_count": 3,
   "metadata": {
    "collapsed": false
   },
   "outputs": [],
   "source": [
    "import tweepy\n",
    "import json\n",
    "from time import sleep\n",
    "import pickle\n",
    "import re\n",
    "from os import listdir\n",
    "from os.path import isfile, join\n",
    "import sys\n",
    "import math\n",
    "%matplotlib inline\n",
    "import matplotlib.pyplot as plt"
   ]
  },
  {
   "cell_type": "markdown",
   "metadata": {},
   "source": [
    "# configuration"
   ]
  },
  {
   "cell_type": "code",
   "execution_count": 4,
   "metadata": {
    "collapsed": true
   },
   "outputs": [],
   "source": [
    "path = 'C:\\\\Users\\\\chenwang\\\\Documents\\\\courses\\\\FA16\\CS597\\\\twitterMining\\\\'\n",
    "initialSet_path = 'C:\\\\Users\\\\chenwang\\\\Documents\\\\courses\\\\FA16\\\\CS597\\\\twitterMining\\\\InitialSet\\\\Football\\\\location\\\\'\n",
    "path_test1 = 'C:\\\\Users\\\\chenwang\\\\Documents\\\\courses\\\\FA16\\\\CS597\\\\twitterMining\\\\InitialSet\\\\Football\\\\location\\\\test1\\\\'"
   ]
  },
  {
   "cell_type": "code",
   "execution_count": 5,
   "metadata": {
    "collapsed": false
   },
   "outputs": [],
   "source": [
    "config = {}\n",
    "config['KEYS'] = {'consumer_key': ['mVJcyNN5qFyk7GdBJvENVc329', 'anqjETSjwaDqA9LBt0MGwub60','vDnzvZFFwXFgI2ftQxYWV2XZo',\n",
    "                                  'sAkNaJxJWgPilhidaNJ48kmCo','tO2Bzbkexyf57LSF6aJwACXfs'],\n",
    "                  'consumer_secret': ['DbXUXB7EN77HmzQahobHeTPSWgcNI9t8kKzDoe5twfTORnjXxf',\\\n",
    "                                       'AGTAiJhOrb2gPSbW1F5Rclu0Ns7pTZthPhJ3i7ySFNWwdheqim',\\\n",
    "                                     '5HxLPob3kGqgauc5HuNszFw0uoLjsK3JHD0IqUNEVbNAIVdRKQ',\\\n",
    "                                      'dPcVmoYaEGhsWC5djrEFsjfNdO8DmFecmSnBRjL63y0Sg9pCtl',\n",
    "                                     'OIEIE1Pu01eTieDffG13kJM78spAPHZtKk2IZ1yGkU0eoKvVxn'],\n",
    "                  'access_token': ['707770026573561856-Vfqm0iXrsBvFL2prQMQ2Gzu9eawWYIj',\\\n",
    "                                    '707770026573561856-diXgIsR0UCYM3CHYCUoU38hcp8Qk8Pj',\\\n",
    "                                  '707770026573561856-9BcLFzjLrkVdxeG0Z3dmqYhsCDqUQ2t',\\\n",
    "                                  '707770026573561856-Sua2gUtlWTxTik70a0dUba0SvayeQgU',\\\n",
    "                                  '707770026573561856-Oi1nNb4Ih0SJyizIwToY3PhjLymGkcl'],\n",
    "                  'access_token_secret': ['HSMqS4YkDBcB6mm9JL3vd6VeKlkKmNdMxmJ0inJQwNhXS',\\\n",
    "                                           'GnqrY0AoeOuK7cgaF2yRBmcJGcc814bBIONMREN8gU7xu',\\\n",
    "                                         'e2OfQnQGnweLygFxJRFCUa9PZhOZXyCcaEipMpnlmABqj',\\\n",
    "                                         'Stj2TQtwsrTQFkdronpZDUyrl9g3slZjEMxgIYznbmSzy',\\\n",
    "                                         'Cp3d4xKdTfPyJq6y7uLeRLv77kTjZmEIpGYtiWrrqvK6i']\n",
    "                 }\n",
    "''\n",
    "# later add {if it's not exist then write, otherwise skip}\n",
    "with open(path + \"CONFIG_PATH.pickle\", 'wb+') as f:\n",
    "        pickle.dump(config, f)"
   ]
  },
  {
   "cell_type": "code",
   "execution_count": 6,
   "metadata": {
    "collapsed": false
   },
   "outputs": [],
   "source": [
    "consumer_key = config['KEYS']['consumer_key']    # list\n",
    "consumer_secret = config['KEYS']['consumer_secret']\n",
    "access_token = config['KEYS']['access_token']\n",
    "access_token_secret = config['KEYS']['access_token_secret']"
   ]
  },
  {
   "cell_type": "markdown",
   "metadata": {},
   "source": [
    "# use to collect location"
   ]
  },
  {
   "cell_type": "code",
   "execution_count": 9,
   "metadata": {
    "collapsed": true
   },
   "outputs": [],
   "source": [
    "def gather_location(candidate_id):\n",
    "    \n",
    "    try:\n",
    "        location = api.get_user(str(candidate_id)).location\n",
    "        \n",
    "        if location == '':\n",
    "            location = 'NaN'\n",
    "        \n",
    "        return location\n",
    "    \n",
    "    except:\n",
    "        print('error')\n",
    "        pass\n",
    "    \n",
    "        return 'NaN'"
   ]
  },
  {
   "cell_type": "raw",
   "metadata": {},
   "source": [
    "with open(path_test1 + 'candidate_sp1.pickle','rb') as f:\n",
    "    candidate_sp1 = pickle.load(f)"
   ]
  },
  {
   "cell_type": "code",
   "execution_count": 75,
   "metadata": {
    "collapsed": true
   },
   "outputs": [],
   "source": [
    "with open(path_test1 + 'candidate_sp2.pickle','rb') as f:\n",
    "    candidate_sp2 = pickle.load(f)"
   ]
  },
  {
   "cell_type": "code",
   "execution_count": 98,
   "metadata": {
    "collapsed": true
   },
   "outputs": [],
   "source": [
    "auth = tweepy.OAuthHandler(consumer_key[2], consumer_secret[2])\n",
    "auth.set_access_token(access_token[2], access_token_secret[2])\n",
    "api = tweepy.API(auth, wait_on_rate_limit= True,wait_on_rate_limit_notify=True)"
   ]
  },
  {
   "cell_type": "code",
   "execution_count": 90,
   "metadata": {
    "collapsed": true
   },
   "outputs": [],
   "source": [
    "auth = tweepy.OAuthHandler(consumer_key[0], consumer_secret[0])\n",
    "auth.set_access_token(access_token[0], access_token_secret[0])\n",
    "api = tweepy.API(auth, wait_on_rate_limit= True,wait_on_rate_limit_notify=True)"
   ]
  },
  {
   "cell_type": "code",
   "execution_count": 92,
   "metadata": {
    "collapsed": true
   },
   "outputs": [],
   "source": [
    "auth = tweepy.OAuthHandler(consumer_key[1], consumer_secret[1])\n",
    "auth.set_access_token(access_token[1], access_token_secret[1])\n",
    "api = tweepy.API(auth, wait_on_rate_limit= True,wait_on_rate_limit_notify=True)"
   ]
  },
  {
   "cell_type": "code",
   "execution_count": 94,
   "metadata": {
    "collapsed": true
   },
   "outputs": [],
   "source": [
    "auth = tweepy.OAuthHandler(consumer_key[3], consumer_secret[3])\n",
    "auth.set_access_token(access_token[3], access_token_secret[3])\n",
    "api = tweepy.API(auth, wait_on_rate_limit= True,wait_on_rate_limit_notify=True)"
   ]
  },
  {
   "cell_type": "code",
   "execution_count": 96,
   "metadata": {
    "collapsed": true
   },
   "outputs": [],
   "source": [
    "auth = tweepy.OAuthHandler(consumer_key[4], consumer_secret[4])\n",
    "auth.set_access_token(access_token[4], access_token_secret[4])\n",
    "api = tweepy.API(auth, wait_on_rate_limit= True,wait_on_rate_limit_notify=True)"
   ]
  },
  {
   "cell_type": "code",
   "execution_count": 79,
   "metadata": {
    "collapsed": false
   },
   "outputs": [
    {
     "data": {
      "text/plain": [
       "9809"
      ]
     },
     "execution_count": 79,
     "metadata": {},
     "output_type": "execute_result"
    }
   ],
   "source": [
    "location_dict_sp2 = {}\n",
    "len(candidate_sp2)"
   ]
  },
  {
   "cell_type": "code",
   "execution_count": 99,
   "metadata": {
    "collapsed": false
   },
   "outputs": [
    {
     "data": {
      "text/plain": [
       "9809"
      ]
     },
     "execution_count": 99,
     "metadata": {},
     "output_type": "execute_result"
    }
   ],
   "source": [
    "for c in candidate_sp2[9000:9809]:\n",
    "    location_dict_sp2[c] = gather_location(c)\n",
    "with open(path_test1 + 'location_list_sp2.pickle','wb+') as f:\n",
    "    pickle.dump(location_dict_sp2, f)\n",
    "\n",
    "len(location_dict_sp2)"
   ]
  },
  {
   "cell_type": "markdown",
   "metadata": {},
   "source": [
    "# test whether the ranking predictive model works\n",
    "\n",
    "<p>seperate them into groups: baseline(twitter stream), every 300? </p>\n",
    "<p>we should see there is a decline in matching accuracy in the two aspects: eg.football + chicago </p>\n",
    "\n",
    "<p> 1. chicago </p>\n",
    "<b> ratio = # user from chicago / # number of user provide their location </b>\n",
    "\n"
   ]
  },
  {
   "cell_type": "code",
   "execution_count": 46,
   "metadata": {
    "collapsed": true
   },
   "outputs": [],
   "source": [
    "# a bag of pre-defined locations that represent chicago\n",
    "chicago = ['chicago','Arlington Heights', 'Aurora', 'Berwyn', 'Bolingbrook', 'Cicero','Des Plaines', 'Elgin','Evanston', 'Gary', 'Hammond',\n",
    "           'Hoffman Estates', 'Joliet', 'Kenosha', 'Mount Prospect','Naperville', 'Oak Lawn', 'Oak Park', 'Orland Park',\n",
    "           'Palatine', 'Schaumburg','Skokie','Tinley Park','Waukegan','Wheaton']#,', IL','Illinois']"
   ]
  },
  {
   "cell_type": "code",
   "execution_count": 57,
   "metadata": {
    "collapsed": false
   },
   "outputs": [],
   "source": [
    "def print_ratio(candidate_list,location_list, area, interval,path,title,verbose=False):\n",
    "    \n",
    "    ratio = []\n",
    "    \n",
    "    for i in range(math.floor(len(candidate_list)/interval)):\n",
    "        if verbose == True:\n",
    "            print('bin:',interval*(i), '~', interval*(i+1))\n",
    "        \n",
    "        target_count = 0\n",
    "        general_count = 0\n",
    "        no_count = 0\n",
    "        \n",
    "        for cand in candidate_list[interval*(i): interval*(i+1)]:\n",
    "            if location_list[cand[0]] != 'NaN' and location_list[cand[0]] != None:\n",
    "                general_count += 1\n",
    "                #print('g',general_count,loc)\n",
    "                flag = False\n",
    "                for a in area:\n",
    "                    if location_list[cand[0]].lower().find(a.lower()) != -1: \n",
    "                        # matches one of the place that stands for chicago\n",
    "                        flag = True\n",
    "            \n",
    "                if flag == True:\n",
    "                    target_count += 1\n",
    "                    #print('t',target_count,loc)\n",
    "            else:\n",
    "                no_count += 1                \n",
    "        \n",
    "        if verbose == True:\n",
    "            print(\"% of people provide location : \", general_count/(interval)*100, '%')\n",
    "        \n",
    "        if general_count !=0:\n",
    "            if verbose == True:\n",
    "                print(\"% of people from chicago who provided location: \", target_count/general_count*100, '%\\n')\n",
    "            ratio.append(target_count / general_count)\n",
    "        else:\n",
    "            if verbose == True:\n",
    "                print(\"invalid bin\\n\")\n",
    "            ratio.append('NaN')\n",
    "            \n",
    "    \n",
    "    x = range(len(ratio))\n",
    "    y = ratio\n",
    "\n",
    "    fig, axes = plt.subplots(figsize=(5,5))\n",
    "\n",
    "    axes.bar(x,y)\n",
    "    axes.set_xlabel('ranked group with an interval of ' + str(interval), fontsize = 8)\n",
    "    axes.set_ylabel('percentage of user from chicago',fontsize = 8)\n",
    "    axes.set_title(title,fontsize = 10)\n",
    "\n",
    "    plt.show()  \n",
    "    \n",
    "    fig.savefig(path + title + ' ' + str(interval) + '.png')\n",
    "            \n",
    "\n",
    "    return ratio"
   ]
  },
  {
   "cell_type": "code",
   "execution_count": 7,
   "metadata": {
    "collapsed": true
   },
   "outputs": [],
   "source": [
    "with open(path_test1 + 'location_list_sp1.pickle','rb') as f:\n",
    "    location_dict_sp1 = pickle.load(f)"
   ]
  },
  {
   "cell_type": "markdown",
   "metadata": {},
   "source": [
    "# test cosine similarity rank (weighted)"
   ]
  },
  {
   "cell_type": "code",
   "execution_count": 39,
   "metadata": {
    "collapsed": false
   },
   "outputs": [],
   "source": [
    "with open(path_test1 + 'weighted_sim_rank_sp1.pickle','rb') as f:\n",
    "    candidate_sim = pickle.load(f)"
   ]
  },
  {
   "cell_type": "code",
   "execution_count": 58,
   "metadata": {
    "collapsed": false,
    "scrolled": false
   },
   "outputs": [
    {
     "data": {
      "image/png": "[encoded data removed]",
      "text/plain": [
       "<matplotlib.figure.Figure at 0x62ebd90>"
      ]
     },
     "metadata": {},
     "output_type": "display_data"
    },
    {
     "data": {
      "image/png": "[encoded data removed]",
      "text/plain": [
       "<matplotlib.figure.Figure at 0x62fbcd0>"
      ]
     },
     "metadata": {},
     "output_type": "display_data"
    },
    {
     "data": {
      "image/png": "[encoded data removed]",
      "text/plain": [
       "<matplotlib.figure.Figure at 0x775ce10>"
      ]
     },
     "metadata": {},
     "output_type": "display_data"
    }
   ],
   "source": [
    "ratio = print_ratio(candidate_sim, location_dict_sp1, chicago, interval = 100, path = path_test1,\\\n",
    "                    title = 'weighted cosine similarity rank sp1',verbose = False)\n",
    "ratio = print_ratio(candidate_sim, location_dict_sp1, chicago, interval = 500, path = path_test1,\\\n",
    "                    title = 'weighted cosine similarity rank sp1',verbose = False)\n",
    "ratio = print_ratio(candidate_sim, location_dict_sp1, chicago, interval = 1000, path = path_test1,\\\n",
    "                    title = 'weighted cosine similarity rank sp1',verbose = False)"
   ]
  },
  {
   "cell_type": "markdown",
   "metadata": {},
   "source": [
    "# test unweighted cosine similarity"
   ]
  },
  {
   "cell_type": "code",
   "execution_count": 59,
   "metadata": {
    "collapsed": false
   },
   "outputs": [],
   "source": [
    "with open(path_test1 + 'unweighted_sim_rank_sp1.pickle','rb') as f:\n",
    "    u_candidate_sim = pickle.load(f)"
   ]
  },
  {
   "cell_type": "code",
   "execution_count": 60,
   "metadata": {
    "collapsed": false
   },
   "outputs": [
    {
     "data": {
      "image/png": "[encoded data removed]",
      "text/plain": [
       "<matplotlib.figure.Figure at 0x4459430>"
      ]
     },
     "metadata": {},
     "output_type": "display_data"
    },
    {
     "data": {
      "image/png": "[encoded data removed]",
      "text/plain": [
       "<matplotlib.figure.Figure at 0x444ea90>"
      ]
     },
     "metadata": {},
     "output_type": "display_data"
    },
    {
     "data": {
      "image/png": "[encoded data removed]",
      "text/plain": [
       "<matplotlib.figure.Figure at 0x76df4f0>"
      ]
     },
     "metadata": {},
     "output_type": "display_data"
    }
   ],
   "source": [
    "ratio = print_ratio(u_candidate_sim, location_dict_sp1, chicago, interval = 100, path = path_test1,\\\n",
    "                    title = 'unweighted cosine similarity rank',verbose = False)\n",
    "ratio = print_ratio(u_candidate_sim, location_dict_sp1, chicago, interval = 500, path = path_test1,\\\n",
    "                    title = 'unweighted cosine similarity rank',verbose = False)\n",
    "ratio = print_ratio(u_candidate_sim, location_dict_sp1, chicago, interval = 1000, path = path_test1,\\\n",
    "                    title = 'unweighted cosine similarity rank',verbose = False)"
   ]
  },
  {
   "cell_type": "markdown",
   "metadata": {},
   "source": [
    "# test NB ranking w/ penalty"
   ]
  },
  {
   "cell_type": "code",
   "execution_count": 62,
   "metadata": {
    "collapsed": false
   },
   "outputs": [],
   "source": [
    "with open(path_test1 + 'NB_rank_sp1.pickle','rb') as f:\n",
    "    candidate_NB = pickle.load(f)\n",
    "with open(path_test1 + 'NB_p_rank_sp1.pickle','rb') as f:\n",
    "    candidate_NB_p = pickle.load(f)    "
   ]
  },
  {
   "cell_type": "code",
   "execution_count": 64,
   "metadata": {
    "collapsed": false
   },
   "outputs": [
    {
     "data": {
      "image/png": "[encoded data removed]",
      "text/plain": [
       "<matplotlib.figure.Figure at 0x63115f0>"
      ]
     },
     "metadata": {},
     "output_type": "display_data"
    },
    {
     "data": {
      "image/png": "[encoded data removed]",
      "text/plain": [
       "<matplotlib.figure.Figure at 0x531ff90>"
      ]
     },
     "metadata": {},
     "output_type": "display_data"
    },
    {
     "data": {
      "image/png": "[encoded data removed]",
      "text/plain": [
       "<matplotlib.figure.Figure at 0x6321e70>"
      ]
     },
     "metadata": {},
     "output_type": "display_data"
    }
   ],
   "source": [
    "ratio = print_ratio(candidate_NB, location_dict_sp1, chicago, interval = 100, path = path_test1,\\\n",
    "                    title = 'NB rank',verbose = False)\n",
    "ratio = print_ratio(candidate_NB, location_dict_sp1, chicago, interval = 500, path = path_test1,\\\n",
    "                    title = 'NB rank',verbose = False)\n",
    "ratio = print_ratio(candidate_NB, location_dict_sp1, chicago, interval = 1000, path = path_test1,\\\n",
    "                    title = 'NB rank',verbose = False)"
   ]
  },
  {
   "cell_type": "code",
   "execution_count": 65,
   "metadata": {
    "collapsed": false
   },
   "outputs": [
    {
     "data": {
      "image/png": "[encoded data removed]",
      "text/plain": [
       "<matplotlib.figure.Figure at 0x63114f0>"
      ]
     },
     "metadata": {},
     "output_type": "display_data"
    },
    {
     "data": {
      "image/png": "[encoded data removed]",
      "text/plain": [
       "<matplotlib.figure.Figure at 0x6421bd0>"
      ]
     },
     "metadata": {},
     "output_type": "display_data"
    },
    {
     "data": {
      "image/png": "[encoded data removed]",
      "text/plain": [
       "<matplotlib.figure.Figure at 0x773d5b0>"
      ]
     },
     "metadata": {},
     "output_type": "display_data"
    }
   ],
   "source": [
    "ratio = print_ratio(candidate_NB_p, location_dict_sp1, chicago, interval = 100, path = path_test1,\\\n",
    "                    title = 'NB rank with penalty',verbose = False)\n",
    "ratio = print_ratio(candidate_NB_p, location_dict_sp1, chicago, interval = 500, path = path_test1,\\\n",
    "                    title = 'NB rank with penalty',verbose = False)\n",
    "ratio = print_ratio(candidate_NB_p, location_dict_sp1, chicago, interval = 1000, path = path_test1,\\\n",
    "                    title = 'NB rank with penalty',verbose = False)"
   ]
  },
  {
   "cell_type": "markdown",
   "metadata": {},
   "source": [
    "# Average Precision on a ranked list AVP(L)  \n",
    "<img src = 'AVP.png'>"
   ]
  },
  {
   "cell_type": "code",
   "execution_count": 70,
   "metadata": {
    "collapsed": true
   },
   "outputs": [],
   "source": [
    "def av_precision(candidate_list,location_list, area):\n",
    "    \n",
    "    relevant = 0\n",
    "    total_score = 0\n",
    "    count = 0\n",
    "    \n",
    "    for cand in candidate_list:\n",
    "            \n",
    "            if location_list[cand[0]] != 'NaN' and location_list[cand[0]] != None:\n",
    "                count += 1  #people who provide the ground truth\n",
    "                \n",
    "                flag = False\n",
    "                for a in area:\n",
    "                    if location_list[cand[0]].lower().find(a.lower()) != -1: \n",
    "                        # matches one of the place that stands for chicago (Relevant)\n",
    "                        flag = True\n",
    "                if flag == True:\n",
    "                    relevant += 1\n",
    "                    total_score  += relevant/count\n",
    "    print('rel:', relevant)\n",
    "    avp = total_score/relevant\n",
    "    \n",
    "    return avp"
   ]
  },
  {
   "cell_type": "code",
   "execution_count": 74,
   "metadata": {
    "collapsed": false
   },
   "outputs": [
    {
     "name": "stdout",
     "output_type": "stream",
     "text": [
      "rel: 907\n",
      "rel: 907\n",
      "rel: 907\n",
      "rel: 907\n",
      "average precision sample 1 (test on location match)\n",
      "weighted cosine similarity method:\t 0.3059144596993453\n",
      "unweighted cosine similarity method:\t 0.30009042429464794\n",
      "Naive Bayes method:\t\t\t 0.3144313068005247\n",
      "Naive Bayes with penalty method:\t 0.31427365532158713\n"
     ]
    }
   ],
   "source": [
    "w_sim_score = av_precision(candidate_sim,location_dict_sp1, chicago)\n",
    "u_sim_score = av_precision(u_candidate_sim,location_dict_sp1,chicago)\n",
    "NB_score = av_precision(candidate_NB,location_dict_sp1,chicago)\n",
    "NB_p_score = av_precision(candidate_NB_p,location_dict_sp1,chicago)\n",
    "print(\"average precision sample 1 (test on location match)\")\n",
    "print('weighted cosine similarity method:\\t',w_sim_score)\n",
    "print('unweighted cosine similarity method:\\t',u_sim_score)\n",
    "print('Naive Bayes method:\\t\\t\\t',NB_score)\n",
    "print('Naive Bayes with penalty method:\\t',NB_p_score)"
   ]
  },
  {
   "cell_type": "markdown",
   "metadata": {},
   "source": [
    "# test classification (use sample 1 location list)"
   ]
  },
  {
   "cell_type": "markdown",
   "metadata": {},
   "source": [
    "1. Naive Bayes classification"
   ]
  },
  {
   "cell_type": "code",
   "execution_count": 58,
   "metadata": {
    "collapsed": true
   },
   "outputs": [],
   "source": [
    "def clf_chicago_percentage(id_list,location_list,area):\n",
    "    \n",
    "    general_count = 0\n",
    "    target_count = 0\n",
    "    \n",
    "    for id in id_list:\n",
    "        \n",
    "        if location_list[id] != None and location_list[id] != 'NaN':\n",
    "            general_count += 1\n",
    "            \n",
    "            flag = False\n",
    "            for a in area:\n",
    "                if location_list[id].lower().find(a.lower()) != -1: \n",
    "                    \n",
    "                    # matches one of the place that stands for chicago\n",
    "                    flag = True\n",
    "            \n",
    "            if flag == True:\n",
    "                target_count += 1\n",
    "                # print(location_list[id])\n",
    "                    \n",
    "    print(\"how many user provide location: \", general_count)\n",
    "    print(\"how many user are from target area: \", target_count)\n",
    "    print(\"accuracy = \", target_count/general_count)\n",
    "    \n",
    "    return target_count, general_count"
   ]
  },
  {
   "cell_type": "markdown",
   "metadata": {},
   "source": [
    "# Naive Bayes"
   ]
  },
  {
   "cell_type": "code",
   "execution_count": 60,
   "metadata": {
    "collapsed": false
   },
   "outputs": [
    {
     "name": "stdout",
     "output_type": "stream",
     "text": [
      "id marked true\n",
      "how many user provide location:  403\n",
      "how many user are from target area:  145\n",
      "accuracy =  0.3598014888337469\n",
      "\n",
      "\n",
      "id marked false\n",
      "how many user provide location:  3447\n",
      "how many user are from target area:  582\n",
      "accuracy =  0.16884247171453437\n"
     ]
    }
   ],
   "source": [
    "with open(path_test1 + 'clf_NB_test_rel.pickle','rb') as f:\n",
    "    rel_id_test = pickle.load(f)\n",
    "with open(path_test1 + 'clf_NB_test_irrel.pickle','rb+') as f:\n",
    "    irrel_id_test = pickle.load(f)\n",
    "\n",
    "print(\"id marked true\")\n",
    "t1,g1 = clf_chicago_percentage(rel_id_test,location_dict_sp1,chicago)\n",
    "print('\\n')\n",
    "print(\"id marked false\")\n",
    "t2,g2 = clf_chicago_percentage(irrel_id_test,location_dict_sp1,chicago)"
   ]
  },
  {
   "cell_type": "markdown",
   "metadata": {},
   "source": [
    "# Decision Tree"
   ]
  },
  {
   "cell_type": "code",
   "execution_count": 61,
   "metadata": {
    "collapsed": false
   },
   "outputs": [
    {
     "name": "stdout",
     "output_type": "stream",
     "text": [
      "id marked true\n",
      "how many user provide location:  331\n",
      "how many user are from target area:  93\n",
      "accuracy =  0.2809667673716012\n",
      "\n",
      "\n",
      "id marked false\n",
      "how many user provide location:  3519\n",
      "how many user are from target area:  634\n",
      "accuracy =  0.1801648195510088\n"
     ]
    },
    {
     "data": {
      "text/plain": [
       "(634, 3519)"
      ]
     },
     "execution_count": 61,
     "metadata": {},
     "output_type": "execute_result"
    }
   ],
   "source": [
    "with open(path_test1 + 'clf_DT_test_rel.pickle','rb') as f:\n",
    "    rel_id_test = pickle.load(f)\n",
    "with open(path_test1 + 'clf_DT_test_irrel.pickle','rb+') as f:\n",
    "    irrel_id_test = pickle.load(f)\n",
    "\n",
    "print(\"id marked true\")\n",
    "clf_chicago_percentage(rel_id_test,location_dict_sp1,chicago)\n",
    "print('\\n')\n",
    "print(\"id marked false\")\n",
    "clf_chicago_percentage(irrel_id_test,location_dict_sp1,chicago)"
   ]
  },
  {
   "cell_type": "markdown",
   "metadata": {},
   "source": [
    "# KNN (neighbor = 1)"
   ]
  },
  {
   "cell_type": "code",
   "execution_count": 62,
   "metadata": {
    "collapsed": false
   },
   "outputs": [
    {
     "name": "stdout",
     "output_type": "stream",
     "text": [
      "id marked true\n",
      "how many user provide location:  331\n",
      "how many user are from target area:  104\n",
      "accuracy =  0.31419939577039274\n",
      "\n",
      "\n",
      "id marked false\n",
      "how many user provide location:  3519\n",
      "how many user are from target area:  623\n",
      "accuracy =  0.17703893151463485\n"
     ]
    },
    {
     "data": {
      "text/plain": [
       "(623, 3519)"
      ]
     },
     "execution_count": 62,
     "metadata": {},
     "output_type": "execute_result"
    }
   ],
   "source": [
    "with open(path_test1 + 'clf_KNN_test_rel.pickle','rb') as f:\n",
    "    rel_id_test = pickle.load(f)\n",
    "with open(path_test1 + 'clf_KNN_test_irrel.pickle','rb+') as f:\n",
    "    irrel_id_test = pickle.load(f)\n",
    "\n",
    "print(\"id marked true\")\n",
    "clf_chicago_percentage(rel_id_test,location_dict_sp1,chicago)\n",
    "print('\\n')\n",
    "print(\"id marked false\")\n",
    "clf_chicago_percentage(irrel_id_test,location_dict_sp1,chicago)"
   ]
  },
  {
   "cell_type": "markdown",
   "metadata": {},
   "source": [
    "# SVM"
   ]
  },
  {
   "cell_type": "raw",
   "metadata": {},
   "source": [
    "with open(path_test1 + 'clf_SVC_test_rel.pickle','rb') as f:\n",
    "    rel_id_test = pickle.load(f)\n",
    "with open(path_test1 + 'clf_SVC_test_irrel.pickle','rb+') as f:\n",
    "    irrel_id_test = pickle.load(f)\n",
    "\n",
    "print(\"id marked true\")\n",
    "clf_chicago_percentage(rel_id_test,location_dict_sp1,chicago)\n",
    "print('\\n')\n",
    "print(\"id marked false\")\n",
    "clf_chicago_percentage(irrel_id_test,location_dict_sp1,chicago)"
   ]
  },
  {
   "cell_type": "markdown",
   "metadata": {},
   "source": [
    "# Gradient Boosting Classification"
   ]
  },
  {
   "cell_type": "code",
   "execution_count": 86,
   "metadata": {
    "collapsed": false
   },
   "outputs": [
    {
     "name": "stdout",
     "output_type": "stream",
     "text": [
      "id marked true\n",
      "how many user provide location:  116\n",
      "how many user are from target area:  47\n",
      "accuracy =  0.4051724137931034\n",
      "\n",
      "\n",
      "id marked false\n",
      "how many user provide location:  3734\n",
      "how many user are from target area:  680\n",
      "accuracy =  0.1821103374397429\n"
     ]
    },
    {
     "data": {
      "text/plain": [
       "(680, 3734)"
      ]
     },
     "execution_count": 86,
     "metadata": {},
     "output_type": "execute_result"
    }
   ],
   "source": [
    "with open(path_test1 + 'clf_GBC_test_rel.pickle','rb') as f:\n",
    "    rel_id_test = pickle.load(f)\n",
    "with open(path_test1 + 'clf_GBC_test_irrel.pickle','rb+') as f:\n",
    "    irrel_id_test = pickle.load(f)\n",
    "\n",
    "print(\"id marked true\")\n",
    "clf_chicago_percentage(rel_id_test,location_dict_sp1,chicago)\n",
    "print('\\n')\n",
    "print(\"id marked false\")\n",
    "clf_chicago_percentage(irrel_id_test,location_dict_sp1,chicago)"
   ]
  },
  {
   "cell_type": "markdown",
   "metadata": {},
   "source": [
    "# Neural Network classficiation (Hidden layer 100? all default setting)"
   ]
  },
  {
   "cell_type": "code",
   "execution_count": 71,
   "metadata": {
    "collapsed": false
   },
   "outputs": [
    {
     "name": "stdout",
     "output_type": "stream",
     "text": [
      "id marked true\n",
      "how many user provide location:  174\n",
      "how many user are from target area:  49\n",
      "accuracy =  0.28160919540229884\n",
      "\n",
      "\n",
      "id marked false\n",
      "how many user provide location:  3676\n",
      "how many user are from target area:  678\n",
      "accuracy =  0.18443960826985853\n"
     ]
    },
    {
     "data": {
      "text/plain": [
       "(678, 3676)"
      ]
     },
     "execution_count": 71,
     "metadata": {},
     "output_type": "execute_result"
    }
   ],
   "source": [
    "with open(path_test1 + 'clf_NNW_test_rel.pickle','rb') as f:\n",
    "    rel_id_test = pickle.load(f)\n",
    "with open(path_test1 + 'clf_NNW_test_irrel.pickle','rb+') as f:\n",
    "    irrel_id_test = pickle.load(f)\n",
    "\n",
    "print(\"id marked true\")\n",
    "clf_chicago_percentage(rel_id_test,location_dict_sp1,chicago)\n",
    "print('\\n')\n",
    "print(\"id marked false\")\n",
    "clf_chicago_percentage(irrel_id_test,location_dict_sp1,chicago)"
   ]
  },
  {
   "cell_type": "code",
   "execution_count": null,
   "metadata": {
    "collapsed": true
   },
   "outputs": [],
   "source": []
  }
 ],
 "metadata": {
  "kernelspec": {
   "display_name": "Python 3",
   "language": "python",
   "name": "python3"
  },
  "language_info": {
   "codemirror_mode": {
    "name": "ipython",
    "version": 3
   },
   "file_extension": ".py",
   "mimetype": "text/x-python",
   "name": "python",
   "nbconvert_exporter": "python",
   "pygments_lexer": "ipython3",
   "version": "3.4.4"
  }
 },
 "nbformat": 4,
 "nbformat_minor": 0
}

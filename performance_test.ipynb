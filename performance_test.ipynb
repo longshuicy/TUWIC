{
 "cells": [
  {
   "cell_type": "markdown",
   "metadata": {},
   "source": [
    "a few steps:\n",
    "    \n",
    "    -find representative nodes \n",
    "            1. feature extraction (all the followees)  \n",
    "            2. feature selection  \n",
    "                modify here 10/31/2016\n",
    "                (1) instead of get the top 300 most counts, now weed out 1 and 2 get all followees. query their total followers\n",
    "                (2) instead of penalize by total followers, consider penalize by a prior distribution 1 - p(target users)\n",
    "     my feeling on this section, there wont be many improvement available. Cuz we only have positive features, feature selection methods (mutual information, chi2, f-test wont work, already tested)\n",
    "            \n",
    "    -classification/ranking based on the feature\n",
    "    -testing\n",
    "    \n",
    "    -addition: besides follower/followee relationship, whatelse information can we add into this model\n",
    "    "
   ]
  },
  {
   "cell_type": "code",
   "execution_count": 1,
   "metadata": {
    "collapsed": false
   },
   "outputs": [],
   "source": [
    "import tweepy\n",
    "import json\n",
    "from time import sleep\n",
    "import pickle\n",
    "import re\n",
    "from os import listdir\n",
    "from os.path import isfile, join\n",
    "import sys\n",
    "import math\n",
    "%matplotlib inline\n",
    "import matplotlib.pyplot as plt"
   ]
  },
  {
   "cell_type": "markdown",
   "metadata": {},
   "source": [
    "# configuration"
   ]
  },
  {
   "cell_type": "code",
   "execution_count": 2,
   "metadata": {
    "collapsed": true
   },
   "outputs": [],
   "source": [
    "path = 'C:\\\\Users\\\\chenwang\\\\Documents\\\\courses\\\\FA16\\CS597\\\\twitterMining\\\\'\n",
    "initialSet_path = 'C:\\\\Users\\\\chenwang\\\\Documents\\\\courses\\\\FA16\\\\CS597\\\\twitterMining\\\\InitialSet\\\\Football\\\\location\\\\'\n",
    "path_test2 = 'C:\\\\Users\\\\chenwang\\\\Documents\\\\courses\\\\FA16\\\\CS597\\\\twitterMining\\\\InitialSet\\\\Football\\\\location\\\\test2\\\\'"
   ]
  },
  {
   "cell_type": "code",
   "execution_count": 3,
   "metadata": {
    "collapsed": false
   },
   "outputs": [],
   "source": [
    "config = {}\n",
    "config['KEYS'] = {'consumer_key': ['mVJcyNN5qFyk7GdBJvENVc329', 'anqjETSjwaDqA9LBt0MGwub60','vDnzvZFFwXFgI2ftQxYWV2XZo',\n",
    "                                  'sAkNaJxJWgPilhidaNJ48kmCo','tO2Bzbkexyf57LSF6aJwACXfs'],\n",
    "                  'consumer_secret': ['DbXUXB7EN77HmzQahobHeTPSWgcNI9t8kKzDoe5twfTORnjXxf',\\\n",
    "                                       'AGTAiJhOrb2gPSbW1F5Rclu0Ns7pTZthPhJ3i7ySFNWwdheqim',\\\n",
    "                                     '5HxLPob3kGqgauc5HuNszFw0uoLjsK3JHD0IqUNEVbNAIVdRKQ',\\\n",
    "                                      'dPcVmoYaEGhsWC5djrEFsjfNdO8DmFecmSnBRjL63y0Sg9pCtl',\n",
    "                                     'OIEIE1Pu01eTieDffG13kJM78spAPHZtKk2IZ1yGkU0eoKvVxn'],\n",
    "                  'access_token': ['707770026573561856-Vfqm0iXrsBvFL2prQMQ2Gzu9eawWYIj',\\\n",
    "                                    '707770026573561856-diXgIsR0UCYM3CHYCUoU38hcp8Qk8Pj',\\\n",
    "                                  '707770026573561856-9BcLFzjLrkVdxeG0Z3dmqYhsCDqUQ2t',\\\n",
    "                                  '707770026573561856-Sua2gUtlWTxTik70a0dUba0SvayeQgU',\\\n",
    "                                  '707770026573561856-Oi1nNb4Ih0SJyizIwToY3PhjLymGkcl'],\n",
    "                  'access_token_secret': ['HSMqS4YkDBcB6mm9JL3vd6VeKlkKmNdMxmJ0inJQwNhXS',\\\n",
    "                                           'GnqrY0AoeOuK7cgaF2yRBmcJGcc814bBIONMREN8gU7xu',\\\n",
    "                                         'e2OfQnQGnweLygFxJRFCUa9PZhOZXyCcaEipMpnlmABqj',\\\n",
    "                                         'Stj2TQtwsrTQFkdronpZDUyrl9g3slZjEMxgIYznbmSzy',\\\n",
    "                                         'Cp3d4xKdTfPyJq6y7uLeRLv77kTjZmEIpGYtiWrrqvK6i']\n",
    "                 }\n",
    "''\n",
    "# later add {if it's not exist then write, otherwise skip}\n",
    "with open(path + \"CONFIG_PATH.pickle\", 'wb+') as f:\n",
    "        pickle.dump(config, f)"
   ]
  },
  {
   "cell_type": "code",
   "execution_count": 4,
   "metadata": {
    "collapsed": false
   },
   "outputs": [],
   "source": [
    "consumer_key = config['KEYS']['consumer_key']    # list\n",
    "consumer_secret = config['KEYS']['consumer_secret']\n",
    "access_token = config['KEYS']['access_token']\n",
    "access_token_secret = config['KEYS']['access_token_secret']"
   ]
  },
  {
   "cell_type": "markdown",
   "metadata": {},
   "source": [
    "# test whether the ranking predictive model works\n",
    "\n",
    "<p>seperate them into groups: baseline(twitter stream), every 300? </p>\n",
    "<p>we should see there is a decline in matching accuracy in the two aspects: eg.football + chicago </p>\n",
    "\n",
    "<p> 1. chicago </p>\n",
    "<b> ratio = # user from chicago / # number of user provide their location </b>\n",
    "\n"
   ]
  },
  {
   "cell_type": "code",
   "execution_count": 53,
   "metadata": {
    "collapsed": true
   },
   "outputs": [],
   "source": [
    "# a bag of pre-defined locations that represent chicago\n",
    "chicago = ['chicago','Arlington Heights', 'Aurora', 'Berwyn', 'Bolingbrook', 'Cicero','Des Plaines', 'Elgin','Evanston', 'Gary', 'Hammond',\n",
    "           'Hoffman Estates', 'Joliet', 'Kenosha', 'Mount Prospect','Naperville', 'Oak Lawn', 'Oak Park', 'Orland Park',\n",
    "           'Palatine', 'Schaumburg','Skokie','Tinley Park','Waukegan','Wheaton']#,', IL','Illinois']"
   ]
  },
  {
   "cell_type": "code",
   "execution_count": 54,
   "metadata": {
    "collapsed": false
   },
   "outputs": [],
   "source": [
    "def print_ratio(candidate_list,location_list, area, interval,path,title,verbose=False):\n",
    "    \n",
    "    ratio = []\n",
    "    \n",
    "    for i in range(math.floor(len(candidate_list)/interval)):\n",
    "        if verbose == True:\n",
    "            print('bin:',interval*(i), '~', interval*(i+1))\n",
    "        \n",
    "        target_count = 0\n",
    "        general_count = 0\n",
    "        no_count = 0\n",
    "        \n",
    "        for cand in candidate_list[interval*(i): interval*(i+1)]:\n",
    "            if location_list[cand[0]] != 'NaN' and location_list[cand[0]] != None:\n",
    "                general_count += 1\n",
    "                #print('g',general_count,loc)\n",
    "                flag = False\n",
    "                for a in area:\n",
    "                    if location_list[cand[0]].lower().find(a.lower()) != -1: \n",
    "                        # matches one of the place that stands for chicago\n",
    "                        flag = True\n",
    "            \n",
    "                if flag == True:\n",
    "                    target_count += 1\n",
    "                    #print('t',target_count,loc)\n",
    "            else:\n",
    "                no_count += 1                \n",
    "        \n",
    "        if verbose == True:\n",
    "            print(\"% of people provide location : \", general_count/(interval)*100, '%')\n",
    "        \n",
    "        if general_count !=0:\n",
    "            if verbose == True:\n",
    "                print(\"% of people from chicago who provided location: \", target_count/general_count*100, '%\\n')\n",
    "            ratio.append(target_count / general_count)\n",
    "        else:\n",
    "            if verbose == True:\n",
    "                print(\"invalid bin\\n\")\n",
    "            ratio.append('NaN')\n",
    "            \n",
    "    \n",
    "    x = range(len(ratio))\n",
    "    y = ratio\n",
    "\n",
    "    fig, axes = plt.subplots(figsize=(5,5))\n",
    "\n",
    "    axes.bar(x,y)\n",
    "    axes.set_xlabel('ranked group with an interval of ' + str(interval), fontsize = 8)\n",
    "    axes.set_ylabel('percentage of user from chicago',fontsize = 8)\n",
    "    axes.set_title(title,fontsize = 10)\n",
    "\n",
    "    plt.show()  \n",
    "    \n",
    "    fig.savefig(path + title + ' ' + str(interval) + '.png')\n",
    "            \n",
    "\n",
    "    return ratio"
   ]
  },
  {
   "cell_type": "code",
   "execution_count": 55,
   "metadata": {
    "collapsed": false
   },
   "outputs": [],
   "source": [
    "with open(path_test2 + 'location_list_sp1.pickle','rb') as f:\n",
    "    location_dict_sp1 = pickle.load(f)\n",
    "with open(path_test2 + 'location_list_sp2.pickle','rb') as f:\n",
    "    location_dict_sp2 = pickle.load(f)"
   ]
  },
  {
   "cell_type": "markdown",
   "metadata": {},
   "source": [
    "# test cosine similarity rank (weighted)"
   ]
  },
  {
   "cell_type": "code",
   "execution_count": 56,
   "metadata": {
    "collapsed": false
   },
   "outputs": [],
   "source": [
    "with open(path_test2 + 'weighted_sim_rank_sp2.pickle','rb') as f:\n",
    "    candidate_sim = pickle.load(f)"
   ]
  },
  {
   "cell_type": "code",
   "execution_count": 57,
   "metadata": {
    "collapsed": false,
    "scrolled": false
   },
   "outputs": [
    {
     "data": {
      "image/png": "[encoded data removed]",
      "text/plain": [
       "<matplotlib.figure.Figure at 0x73b9b30>"
      ]
     },
     "metadata": {},
     "output_type": "display_data"
    }
   ],
   "source": [
    "ratio = print_ratio(candidate_sim, location_dict_sp2, chicago, interval = 100, path = path_test2,\\\n",
    "                    title = 'weighted cosine similarity rank sp2',verbose = False)\n",
    "#ratio = print_ratio(candidate_sim, location_dict_sp1, chicago, interval = 500, path = path_test1,\\\n",
    "#                    title = 'weighted cosine similarity rank sp1',verbose = False)\n",
    "#ratio = print_ratio(candidate_sim, location_dict_sp1, chicago, interval = 1000, path = path_test1,\\\n",
    "#                    title = 'weighted cosine similarity rank sp1',verbose = False)"
   ]
  },
  {
   "cell_type": "markdown",
   "metadata": {},
   "source": [
    "# test unweighted cosine similarity"
   ]
  },
  {
   "cell_type": "code",
   "execution_count": 58,
   "metadata": {
    "collapsed": false
   },
   "outputs": [],
   "source": [
    "with open(path_test2 + 'unweighted_sim_rank_sp2.pickle','rb') as f:\n",
    "    u_candidate_sim = pickle.load(f)"
   ]
  },
  {
   "cell_type": "code",
   "execution_count": 59,
   "metadata": {
    "collapsed": false
   },
   "outputs": [
    {
     "data": {
      "image/png": "[encoded data removed]",
      "text/plain": [
       "<matplotlib.figure.Figure at 0x73e0c90>"
      ]
     },
     "metadata": {},
     "output_type": "display_data"
    }
   ],
   "source": [
    "ratio = print_ratio(u_candidate_sim, location_dict_sp2, chicago, interval = 100, path = path_test2,\\\n",
    "                    title = 'unweighted cosine similarity rank',verbose = False)\n",
    "#ratio = print_ratio(u_candidate_sim, location_dict_sp1, chicago, interval = 500, path = path_test1,\\\n",
    "#                    title = 'unweighted cosine similarity rank',verbose = False)\n",
    "#ratio = print_ratio(u_candidate_sim, location_dict_sp1, chicago, interval = 1000, path = path_test1,\\\n",
    "#                    title = 'unweighted cosine similarity rank',verbose = False)"
   ]
  },
  {
   "cell_type": "markdown",
   "metadata": {},
   "source": [
    "# test NB ranking w/ penalty"
   ]
  },
  {
   "cell_type": "raw",
   "metadata": {
    "collapsed": true
   },
   "source": [
    "path_vxy = path_test1 + 'Vx\\\\'"
   ]
  },
  {
   "cell_type": "code",
   "execution_count": 60,
   "metadata": {
    "collapsed": false
   },
   "outputs": [],
   "source": [
    "with open(path_test2 + 'NB_rank_sp2.pickle','rb') as f:\n",
    "    candidate_NB = pickle.load(f)\n",
    "with open(path_test2 + 'NB_p_rank_sp2.pickle','rb') as f:\n",
    "    candidate_NB_p = pickle.load(f)    "
   ]
  },
  {
   "cell_type": "code",
   "execution_count": 61,
   "metadata": {
    "collapsed": false
   },
   "outputs": [
    {
     "data": {
      "image/png": "[encoded data removed]",
      "text/plain": [
       "<matplotlib.figure.Figure at 0x746bdf0>"
      ]
     },
     "metadata": {},
     "output_type": "display_data"
    }
   ],
   "source": [
    "ratio = print_ratio(candidate_NB, location_dict_sp2, chicago, interval = 100, path = path_test2,\\\n",
    "                    title = 'NB rank',verbose = False)\n",
    "#ratio = print_ratio(candidate_NB, location_dict_sp1, chicago, interval = 500, path = path_test1,\\\n",
    "#                    title = 'NB rank',verbose = False)\n",
    "#ratio = print_ratio(candidate_NB, location_dict_sp1, chicago, interval = 1000, path = path_test1,\\\n",
    "#                    title = 'NB rank',verbose = False)"
   ]
  },
  {
   "cell_type": "code",
   "execution_count": 62,
   "metadata": {
    "collapsed": false
   },
   "outputs": [
    {
     "data": {
      "image/png": "[encoded data removed]",
      "text/plain": [
       "<matplotlib.figure.Figure at 0x4e96f50>"
      ]
     },
     "metadata": {},
     "output_type": "display_data"
    }
   ],
   "source": [
    "ratio = print_ratio(candidate_NB_p, location_dict_sp2, chicago, interval = 100, path = path_test2,\\\n",
    "                    title = 'NB rank with penalty',verbose = False)\n",
    "#ratio = print_ratio(candidate_NB_p, location_dict_sp1, chicago, interval = 500, path = path_test1,\\\n",
    "#                    title = 'NB rank with penalty',verbose = False)\n",
    "#ratio = print_ratio(candidate_NB_p, location_dict_sp1, chicago, interval = 1000, path = path_test1,\\\n",
    "#                    title = 'NB rank with penalty',verbose = False)"
   ]
  },
  {
   "cell_type": "markdown",
   "metadata": {},
   "source": [
    "# Average Precision on a ranked list AVP(L)  \n",
    "<img src = 'AVP.png'>"
   ]
  },
  {
   "cell_type": "code",
   "execution_count": 63,
   "metadata": {
    "collapsed": true
   },
   "outputs": [],
   "source": [
    "def av_precision(candidate_list,location_list, area):\n",
    "    \n",
    "    relevant = 0\n",
    "    total_score = 0\n",
    "    count = 0\n",
    "    \n",
    "    for cand in candidate_list:\n",
    "            \n",
    "            if location_list[cand[0]] != 'NaN' and location_list[cand[0]] != None:\n",
    "                count += 1  #people who provide the ground truth\n",
    "                \n",
    "                flag = False\n",
    "                for a in area:\n",
    "                    if location_list[cand[0]].lower().find(a.lower()) != -1: \n",
    "                        # matches one of the place that stands for chicago (Relevant)\n",
    "                        flag = True\n",
    "                if flag == True:\n",
    "                    relevant += 1\n",
    "                    total_score  += relevant/count\n",
    "    print('rel:', relevant)\n",
    "    avp = total_score/relevant\n",
    "    \n",
    "    return avp"
   ]
  },
  {
   "cell_type": "code",
   "execution_count": 64,
   "metadata": {
    "collapsed": false,
    "scrolled": true
   },
   "outputs": [
    {
     "name": "stdout",
     "output_type": "stream",
     "text": [
      "rel: 1475\n",
      "rel: 1475\n",
      "rel: 1475\n",
      "rel: 1475\n",
      "average precision sample 1 (test on location match)\n",
      "weighted cosine similarity method:\t 0.3182393824612498\n",
      "unweighted cosine similarity method:\t 0.36263811829947895\n",
      "Naive Bayes method:\t\t\t 0.36235571239628134\n",
      "Naive Bayes with penalty method:\t 0.3623017286967897\n"
     ]
    }
   ],
   "source": [
    "w_sim_score = av_precision(candidate_sim,location_dict_sp2, chicago)\n",
    "u_sim_score = av_precision(u_candidate_sim,location_dict_sp2,chicago)\n",
    "NB_score = av_precision(candidate_NB,location_dict_sp2,chicago)\n",
    "NB_p_score = av_precision(candidate_NB_p,location_dict_sp2,chicago)\n",
    "print(\"average precision sample 1 (test on location match)\")\n",
    "print('weighted cosine similarity method:\\t',w_sim_score)\n",
    "print('unweighted cosine similarity method:\\t',u_sim_score)\n",
    "print('Naive Bayes method:\\t\\t\\t',NB_score)\n",
    "print('Naive Bayes with penalty method:\\t',NB_p_score)"
   ]
  },
  {
   "cell_type": "markdown",
   "metadata": {},
   "source": [
    "# test classification (use sample 1 location list)"
   ]
  },
  {
   "cell_type": "markdown",
   "metadata": {},
   "source": [
    "1. Naive Bayes classification"
   ]
  },
  {
   "cell_type": "code",
   "execution_count": 19,
   "metadata": {
    "collapsed": true
   },
   "outputs": [],
   "source": [
    "def clf_chicago_percentage(id_list,location_list,area):\n",
    "    \n",
    "    general_count = 0\n",
    "    target_count = 0\n",
    "    \n",
    "    for id in id_list:\n",
    "        \n",
    "        if location_list[id] != None and location_list[id] != 'NaN':\n",
    "            general_count += 1\n",
    "            \n",
    "            flag = False\n",
    "            for a in area:\n",
    "                if location_list[id].lower().find(a.lower()) != -1: \n",
    "                    \n",
    "                    # matches one of the place that stands for chicago\n",
    "                    flag = True\n",
    "            \n",
    "            if flag == True:\n",
    "                target_count += 1  #\n",
    "                # print(location_list[id])\n",
    "                    \n",
    "    #print(\"how many user provide location: \", general_count)\n",
    "    #print(\"how many user are from target area: \", target_count)\n",
    "    #print(\"accuracy = \", target_count/general_count)\n",
    "    \n",
    "    return target_count, general_count-target_count"
   ]
  },
  {
   "cell_type": "code",
   "execution_count": 20,
   "metadata": {
    "collapsed": true
   },
   "outputs": [],
   "source": [
    "def metrics(TP, FP, TN, FN):\n",
    "       \n",
    "    acc = (TP+TN)/(TP+FP+FN+TN)\n",
    "    TPR = TP/(TP+FN)\n",
    "    TNR = TN/(FP+TN)\n",
    "    precision = TP/(TP+FP)\n",
    "    recall = TP/(TP+FN)\n",
    "    F1 = 2* precision * recall/(precision + recall)\n",
    "    \n",
    "    print(\"\\nacc = (TP + TN)/ (T+ P) = \", (TP+TN)/(TP+FP+FN+TN))\n",
    "    print(\"TPR = TP/(TP + FN) = \", TP/(TP+FN))\n",
    "    print(\"TNR = TN/(FP + TN) = \", TN/(FP+TN))\n",
    "    print('precision = TP/(TP + FP) = ', TP/(TP+FP))\n",
    "    print('recall = TP/(TP + FN) = ', TP/(TP+FN))\n",
    "    print('F1 score = ', 2*TP/(2*TP +FP + FN))\n",
    "    \n",
    "    metrics_list = [precision,recall,F1, TPR, TNR, acc]\n",
    "    \n",
    "    return metrics_list"
   ]
  },
  {
   "cell_type": "markdown",
   "metadata": {},
   "source": [
    "# Naive Bayes"
   ]
  },
  {
   "cell_type": "code",
   "execution_count": 29,
   "metadata": {
    "collapsed": true
   },
   "outputs": [],
   "source": [
    "new_path = 'C:/Users/chenwang/Documents/courses/FA16/CS597/twitterMining/InitialSet/Football/location/test2/undersampling/'"
   ]
  },
  {
   "cell_type": "code",
   "execution_count": 35,
   "metadata": {
    "collapsed": false,
    "scrolled": false
   },
   "outputs": [
    {
     "name": "stdout",
     "output_type": "stream",
     "text": [
      "Naive Bayes\n",
      "\n",
      "acc = (TP + TN)/ (T+ P) =  0.689687267311988\n",
      "TPR = TP/(TP + FN) =  0.2922033898305085\n",
      "TNR = TN/(FP + TN) =  0.8401334359763921\n",
      "precision = TP/(TP + FP) =  0.4089184060721063\n",
      "recall = TP/(TP + FN) =  0.2922033898305085\n",
      "F1 score =  0.34084618426255436\n"
     ]
    },
    {
     "data": {
      "text/plain": [
       "[0.4089184060721063,\n",
       " 0.2922033898305085,\n",
       " 0.3408461842625543,\n",
       " 0.2922033898305085,\n",
       " 0.8401334359763921,\n",
       " 0.689687267311988]"
      ]
     },
     "execution_count": 35,
     "metadata": {},
     "output_type": "execute_result"
    }
   ],
   "source": [
    "with open(new_path + 'clf_NB_test_rel.pickle','rb') as f:\n",
    "    rel_id_test = pickle.load(f)\n",
    "with open(new_path + 'clf_NB_test_irrel.pickle','rb+') as f:\n",
    "    irrel_id_test = pickle.load(f)\n",
    "print('Naive Bayes')\n",
    "TP, FP= clf_chicago_percentage(rel_id_test,location_dict_sp2,chicago)\n",
    "FN, TN = clf_chicago_percentage(irrel_id_test,location_dict_sp2,chicago)\n",
    "metrics(TP, FP, TN, FN)"
   ]
  },
  {
   "cell_type": "markdown",
   "metadata": {},
   "source": [
    "# Decision Tree"
   ]
  },
  {
   "cell_type": "code",
   "execution_count": 36,
   "metadata": {
    "collapsed": false
   },
   "outputs": [
    {
     "name": "stdout",
     "output_type": "stream",
     "text": [
      "decision tree\n",
      "\n",
      "acc = (TP + TN)/ (T+ P) =  0.7056962025316456\n",
      "TPR = TP/(TP + FN) =  0.31661016949152543\n",
      "TNR = TN/(FP + TN) =  0.852963818321786\n",
      "precision = TP/(TP + FP) =  0.44903846153846155\n",
      "recall = TP/(TP + FN) =  0.31661016949152543\n",
      "F1 score =  0.3713717693836978\n"
     ]
    },
    {
     "data": {
      "text/plain": [
       "[0.44903846153846155,\n",
       " 0.31661016949152543,\n",
       " 0.3713717693836978,\n",
       " 0.31661016949152543,\n",
       " 0.852963818321786,\n",
       " 0.7056962025316456]"
      ]
     },
     "execution_count": 36,
     "metadata": {},
     "output_type": "execute_result"
    }
   ],
   "source": [
    "with open(new_path + 'clf_DT_test_rel.pickle','rb') as f:\n",
    "    rel_id_test = pickle.load(f)\n",
    "with open(new_path + 'clf_DT_test_irrel.pickle','rb+') as f:\n",
    "    irrel_id_test = pickle.load(f)\n",
    "print('decision tree')\n",
    "TP, FP= clf_chicago_percentage(rel_id_test,location_dict_sp2,chicago)\n",
    "FN, TN = clf_chicago_percentage(irrel_id_test,location_dict_sp2,chicago)\n",
    "metrics(TP, FP, TN, FN)"
   ]
  },
  {
   "cell_type": "markdown",
   "metadata": {},
   "source": [
    "# KNN (neighbor = 1)"
   ]
  },
  {
   "cell_type": "code",
   "execution_count": 37,
   "metadata": {
    "collapsed": false,
    "scrolled": true
   },
   "outputs": [
    {
     "name": "stdout",
     "output_type": "stream",
     "text": [
      "1-NN\n",
      "\n",
      "acc = (TP + TN)/ (T+ P) =  0.6874534623976173\n",
      "TPR = TP/(TP + FN) =  0.29694915254237286\n",
      "TNR = TN/(FP + TN) =  0.8352578906851424\n",
      "precision = TP/(TP + FP) =  0.40555555555555556\n",
      "recall = TP/(TP + FN) =  0.29694915254237286\n",
      "F1 score =  0.34285714285714286\n"
     ]
    },
    {
     "data": {
      "text/plain": [
       "[0.40555555555555556,\n",
       " 0.29694915254237286,\n",
       " 0.34285714285714286,\n",
       " 0.29694915254237286,\n",
       " 0.8352578906851424,\n",
       " 0.6874534623976173]"
      ]
     },
     "execution_count": 37,
     "metadata": {},
     "output_type": "execute_result"
    }
   ],
   "source": [
    "with open(new_path + 'clf_KNN_test_rel.pickle','rb') as f:\n",
    "    rel_id_test = pickle.load(f)\n",
    "with open(new_path + 'clf_KNN_test_irrel.pickle','rb+') as f:\n",
    "    irrel_id_test = pickle.load(f)\n",
    "print('1-NN')\n",
    "TP, FP= clf_chicago_percentage(rel_id_test,location_dict_sp2,chicago)\n",
    "FN, TN = clf_chicago_percentage(irrel_id_test,location_dict_sp2,chicago)\n",
    "metrics(TP, FP, TN, FN)"
   ]
  },
  {
   "cell_type": "markdown",
   "metadata": {},
   "source": [
    "# Gradient Boosting Classification"
   ]
  },
  {
   "cell_type": "code",
   "execution_count": 38,
   "metadata": {
    "collapsed": false
   },
   "outputs": [
    {
     "name": "stdout",
     "output_type": "stream",
     "text": [
      "gradient boosting classification\n",
      "\n",
      "acc = (TP + TN)/ (T+ P) =  0.7222635889798957\n",
      "TPR = TP/(TP + FN) =  0.14711864406779662\n",
      "TNR = TN/(FP + TN) =  0.9399538106235565\n",
      "precision = TP/(TP + FP) =  0.4811529933481153\n",
      "recall = TP/(TP + FN) =  0.14711864406779662\n",
      "F1 score =  0.22533748701973\n"
     ]
    },
    {
     "data": {
      "text/plain": [
       "[0.4811529933481153,\n",
       " 0.14711864406779662,\n",
       " 0.22533748701973005,\n",
       " 0.14711864406779662,\n",
       " 0.9399538106235565,\n",
       " 0.7222635889798957]"
      ]
     },
     "execution_count": 38,
     "metadata": {},
     "output_type": "execute_result"
    }
   ],
   "source": [
    "with open(new_path + 'clf_GBC_test_rel.pickle','rb') as f:\n",
    "    rel_id_test = pickle.load(f)\n",
    "with open(new_path + 'clf_GBC_test_irrel.pickle','rb+') as f:\n",
    "    irrel_id_test = pickle.load(f)\n",
    "print('gradient boosting classification')\n",
    "TP, FP= clf_chicago_percentage(rel_id_test,location_dict_sp2,chicago)\n",
    "FN, TN = clf_chicago_percentage(irrel_id_test,location_dict_sp2,chicago)\n",
    "metrics(TP, FP, TN, FN)"
   ]
  },
  {
   "cell_type": "markdown",
   "metadata": {},
   "source": [
    "# Neural Network classficiation (Hidden layer 100? all default setting)"
   ]
  },
  {
   "cell_type": "code",
   "execution_count": 39,
   "metadata": {
    "collapsed": false
   },
   "outputs": [
    {
     "name": "stdout",
     "output_type": "stream",
     "text": [
      "neural network\n",
      "\n",
      "acc = (TP + TN)/ (T+ P) =  0.7069992553983618\n",
      "TPR = TP/(TP + FN) =  0.27864406779661016\n",
      "TNR = TN/(FP + TN) =  0.8691301000769823\n",
      "precision = TP/(TP + FP) =  0.44625407166123776\n",
      "recall = TP/(TP + FN) =  0.27864406779661016\n",
      "F1 score =  0.34307178631051755\n"
     ]
    },
    {
     "data": {
      "text/plain": [
       "[0.44625407166123776,\n",
       " 0.27864406779661016,\n",
       " 0.3430717863105175,\n",
       " 0.27864406779661016,\n",
       " 0.8691301000769823,\n",
       " 0.7069992553983618]"
      ]
     },
     "execution_count": 39,
     "metadata": {},
     "output_type": "execute_result"
    }
   ],
   "source": [
    "with open(new_path + 'clf_NNW_test_rel.pickle','rb') as f:\n",
    "    rel_id_test = pickle.load(f)\n",
    "with open(new_path + 'clf_NNW_test_irrel.pickle','rb+') as f:\n",
    "    irrel_id_test = pickle.load(f)\n",
    "print('neural network')\n",
    "TP, FP= clf_chicago_percentage(rel_id_test,location_dict_sp2,chicago)\n",
    "FN, TN = clf_chicago_percentage(irrel_id_test,location_dict_sp2,chicago)\n",
    "metrics(TP, FP, TN, FN)"
   ]
  },
  {
   "cell_type": "markdown",
   "metadata": {
    "collapsed": true
   },
   "source": [
    "# comparing ranking with classification (pairwise comparison)"
   ]
  },
  {
   "cell_type": "code",
   "execution_count": 40,
   "metadata": {
    "collapsed": false
   },
   "outputs": [],
   "source": [
    "def rank2clf(rank,rank_mehtod, clf_pos, clf_neg, clf_method, location_dict):\n",
    "    \n",
    "    # rank method: NB, NB_p, sim, w_sim\n",
    "    # clf method: NB, DT, KNN, GBC, NNW, ground_truth\n",
    "    if clf_method == 'ground truth':\n",
    "        percentage = 827/3732\n",
    "    else:\n",
    "        percentage = len(positive)/(len(positive) + len(negative))\n",
    "    \n",
    "    index = math.floor(len(rank)*percentage)\n",
    "    \n",
    "    r_pos = [rank[i][0] for i in range(index)]\n",
    "    r_neg = [rank[i][0] for i in range(index,len(rank))]\n",
    "    \n",
    "    print('rank method:', rank_mehtod)\n",
    "    TP, FP = clf_chicago_percentage(r_pos,location_dict,chicago)   \n",
    "    FN, TN = clf_chicago_percentage(r_neg,location_dict,chicago)\n",
    "    score1 = metrics(TP, FP, TN, FN)\n",
    "    print('--------------------------------------------------------------')\n",
    "    \n",
    "    if clf_method !='ground truth':\n",
    "        print('clf method:', clf_method)\n",
    "        TP1, FP1 = clf_chicago_percentage(positive,location_dict,chicago)   \n",
    "        FN1, TN1 = clf_chicago_percentage(negative,location_dict,chicago)    \n",
    "        score2 = metrics(TP1, FP1, TN1, FN1)\n",
    "        \n",
    "    return None"
   ]
  },
  {
   "cell_type": "code",
   "execution_count": 43,
   "metadata": {
    "collapsed": false
   },
   "outputs": [
    {
     "name": "stdout",
     "output_type": "stream",
     "text": [
      "rank method: NB\n",
      "\n",
      "acc = (TP + TN)/ (T+ P) =  0.6811243484735666\n",
      "TPR = TP/(TP + FN) =  0.2569491525423729\n",
      "TNR = TN/(FP + TN) =  0.8416730818578394\n",
      "precision = TP/(TP + FP) =  0.38052208835341367\n",
      "recall = TP/(TP + FN) =  0.2569491525423729\n",
      "F1 score =  0.3067583974099555\n",
      "--------------------------------------------------------------\n",
      "clf method: NB\n",
      "\n",
      "acc = (TP + TN)/ (T+ P) =  0.6963886820551005\n",
      "TPR = TP/(TP + FN) =  0.2664406779661017\n",
      "TNR = TN/(FP + TN) =  0.859122401847575\n",
      "precision = TP/(TP + FP) =  0.4171974522292994\n",
      "recall = TP/(TP + FN) =  0.2664406779661017\n",
      "F1 score =  0.32519652461729415\n"
     ]
    }
   ],
   "source": [
    "with open(new_path + 'clf_NB_test_rel.pickle','rb') as f:\n",
    "    positive = pickle.load(f)\n",
    "with open(new_path + 'clf_NB_test_irrel.pickle','rb') as f:\n",
    "    negative = pickle.load(f)\n",
    "with open(path_test2 + 'NB_rank_sp2.pickle','rb') as f:\n",
    "    rank = pickle.load(f)\n",
    "rank2clf(rank,'NB', positive, negative,'NB',location_dict_sp2)"
   ]
  },
  {
   "cell_type": "code",
   "execution_count": 44,
   "metadata": {
    "collapsed": false,
    "scrolled": true
   },
   "outputs": [
    {
     "name": "stdout",
     "output_type": "stream",
     "text": [
      "rank method: NB\n",
      "\n",
      "acc = (TP + TN)/ (T+ P) =  0.6706999255398362\n",
      "TPR = TP/(TP + FN) =  0.3050847457627119\n",
      "TNR = TN/(FP + TN) =  0.8090839107005389\n",
      "precision = TP/(TP + FP) =  0.3768844221105528\n",
      "recall = TP/(TP + FN) =  0.3050847457627119\n",
      "F1 score =  0.3372049456725365\n",
      "--------------------------------------------------------------\n"
     ]
    }
   ],
   "source": [
    "with open(path_test2 + 'NB_rank_sp2.pickle','rb') as f:\n",
    "    rank = pickle.load(f)\n",
    "rank2clf(rank,'NB', positive, negative,'ground truth',location_dict_sp2)"
   ]
  },
  {
   "cell_type": "code",
   "execution_count": 45,
   "metadata": {
    "collapsed": false
   },
   "outputs": [
    {
     "name": "stdout",
     "output_type": "stream",
     "text": [
      "rank method: NB with missing feature\n",
      "\n",
      "acc = (TP + TN)/ (T+ P) =  0.6706999255398362\n",
      "TPR = TP/(TP + FN) =  0.3050847457627119\n",
      "TNR = TN/(FP + TN) =  0.8090839107005389\n",
      "precision = TP/(TP + FP) =  0.3768844221105528\n",
      "recall = TP/(TP + FN) =  0.3050847457627119\n",
      "F1 score =  0.3372049456725365\n",
      "--------------------------------------------------------------\n"
     ]
    }
   ],
   "source": [
    "with open(path_test2 + 'NB_p_rank_sp2.pickle','rb') as f:\n",
    "    rank = pickle.load(f)\n",
    "rank2clf(rank,'NB with missing feature', positive, negative,'ground truth',location_dict_sp2)"
   ]
  },
  {
   "cell_type": "code",
   "execution_count": 46,
   "metadata": {
    "collapsed": false
   },
   "outputs": [
    {
     "name": "stdout",
     "output_type": "stream",
     "text": [
      "rank method: unweighted similairty\n",
      "\n",
      "acc = (TP + TN)/ (T+ P) =  0.672933730454207\n",
      "TPR = TP/(TP + FN) =  0.30847457627118646\n",
      "TNR = TN/(FP + TN) =  0.810880164228894\n",
      "precision = TP/(TP + FP) =  0.38171140939597314\n",
      "recall = TP/(TP + FN) =  0.30847457627118646\n",
      "F1 score =  0.34120734908136485\n",
      "--------------------------------------------------------------\n"
     ]
    }
   ],
   "source": [
    "with open(path_test2 + 'unweighted_sim_rank_sp2.pickle','rb') as f:\n",
    "    rank = pickle.load(f)\n",
    "rank2clf(rank,'unweighted similairty', positive, negative,'ground truth',location_dict_sp2)"
   ]
  },
  {
   "cell_type": "code",
   "execution_count": 47,
   "metadata": {
    "collapsed": false
   },
   "outputs": [
    {
     "name": "stdout",
     "output_type": "stream",
     "text": [
      "rank method: weighted similairty\n",
      "\n",
      "acc = (TP + TN)/ (T+ P) =  0.6442665673864483\n",
      "TPR = TP/(TP + FN) =  0.2976271186440678\n",
      "TNR = TN/(FP + TN) =  0.7754683089556069\n",
      "precision = TP/(TP + FP) =  0.3340943683409437\n",
      "recall = TP/(TP + FN) =  0.2976271186440678\n",
      "F1 score =  0.31480817497310865\n",
      "--------------------------------------------------------------\n"
     ]
    }
   ],
   "source": [
    "with open(path_test2 + 'weighted_sim_rank_sp2.pickle','rb') as f:\n",
    "    rank = pickle.load(f)\n",
    "rank2clf(rank,'weighted similairty', positive, negative,'ground truth',location_dict_sp2)"
   ]
  },
  {
   "cell_type": "raw",
   "metadata": {},
   "source": [
    "# SVM\n",
    "\n",
    "with open(path_test1 + 'clf_SVC_test_rel.pickle','rb') as f:\n",
    "    rel_id_test = pickle.load(f)\n",
    "with open(path_test1 + 'clf_SVC_test_irrel.pickle','rb+') as f:\n",
    "    irrel_id_test = pickle.load(f)\n",
    "print('SVM')\n",
    "print(\"id marked true\")\n",
    "TP, FP = clf_chicago_percentage(rel_id_test,location_dict_sp1,chicago)\n",
    "print('\\n')\n",
    "print(\"id marked false\")\n",
    "FN, TN = clf_chicago_percentage(irrel_id_test,location_dict_sp1,chicago)\n",
    "\n",
    "print(\"\\nacc = (TP + TN)/ (T+ P) = \", (TP+TN)/(TP+FP+FN+TN))\n",
    "print(\"TPR = TP/(TP + FN) = \", TP/(TP+FN))\n",
    "print(\"TNR = TN/(FP + TN) = \", TN/(FP+TN))\n",
    "print('precision = TP/(TP + FP) = ', TP/(TP+FP))\n",
    "print('recall = TP/(TP + FN) = ', TP/(TP+FN))\n",
    "print('F1 score = ', 2*TP/(2*TP +FP + FN))"
   ]
  }
 ],
 "metadata": {
  "kernelspec": {
   "display_name": "Python 3",
   "language": "python",
   "name": "python3"
  },
  "language_info": {
   "codemirror_mode": {
    "name": "ipython",
    "version": 3
   },
   "file_extension": ".py",
   "mimetype": "text/x-python",
   "name": "python",
   "nbconvert_exporter": "python",
   "pygments_lexer": "ipython3",
   "version": "3.4.4"
  }
 },
 "nbformat": 4,
 "nbformat_minor": 0
}

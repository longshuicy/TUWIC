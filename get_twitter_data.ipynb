{
 "cells": [
  {
   "cell_type": "code",
   "execution_count": 1,
   "metadata": {
    "collapsed": false
   },
   "outputs": [],
   "source": [
    "import tweepy\n",
    "import json\n",
    "from time import sleep\n",
    "import pickle\n",
    "import re\n",
    "from os import listdir\n",
    "from os.path import isfile, join\n",
    "import sys\n",
    "import math"
   ]
  },
  {
   "cell_type": "markdown",
   "metadata": {},
   "source": [
    "# configuration"
   ]
  },
  {
   "cell_type": "code",
   "execution_count": 2,
   "metadata": {
    "collapsed": false
   },
   "outputs": [],
   "source": [
    "config = {}\n",
    "path = 'C:\\\\Users\\\\chenwang\\\\Documents\\\\courses\\\\FA16\\CS597\\\\twitterMining\\\\'\n",
    "initialSet_path = 'C:\\\\Users\\\\chenwang\\\\Documents\\\\courses\\\\FA16\\\\CS597\\\\twitterMining\\\\InitialSet\\\\Football\\\\location\\\\'\n",
    "\n",
    "config['KEYS'] = {'consumer_key': ['mVJcyNN5qFyk7GdBJvENVc329', 'anqjETSjwaDqA9LBt0MGwub60','vDnzvZFFwXFgI2ftQxYWV2XZo',\n",
    "                                  'sAkNaJxJWgPilhidaNJ48kmCo','tO2Bzbkexyf57LSF6aJwACXfs'],\n",
    "                  'consumer_secret': ['DbXUXB7EN77HmzQahobHeTPSWgcNI9t8kKzDoe5twfTORnjXxf',\\\n",
    "                                       'AGTAiJhOrb2gPSbW1F5Rclu0Ns7pTZthPhJ3i7ySFNWwdheqim',\\\n",
    "                                     '5HxLPob3kGqgauc5HuNszFw0uoLjsK3JHD0IqUNEVbNAIVdRKQ',\\\n",
    "                                      'dPcVmoYaEGhsWC5djrEFsjfNdO8DmFecmSnBRjL63y0Sg9pCtl',\n",
    "                                     'OIEIE1Pu01eTieDffG13kJM78spAPHZtKk2IZ1yGkU0eoKvVxn'],\n",
    "                  'access_token': ['707770026573561856-Vfqm0iXrsBvFL2prQMQ2Gzu9eawWYIj',\\\n",
    "                                    '707770026573561856-diXgIsR0UCYM3CHYCUoU38hcp8Qk8Pj',\\\n",
    "                                  '707770026573561856-9BcLFzjLrkVdxeG0Z3dmqYhsCDqUQ2t',\\\n",
    "                                  '707770026573561856-Sua2gUtlWTxTik70a0dUba0SvayeQgU',\\\n",
    "                                  '707770026573561856-Oi1nNb4Ih0SJyizIwToY3PhjLymGkcl'],\n",
    "                  'access_token_secret': ['HSMqS4YkDBcB6mm9JL3vd6VeKlkKmNdMxmJ0inJQwNhXS',\\\n",
    "                                           'GnqrY0AoeOuK7cgaF2yRBmcJGcc814bBIONMREN8gU7xu',\\\n",
    "                                         'e2OfQnQGnweLygFxJRFCUa9PZhOZXyCcaEipMpnlmABqj',\\\n",
    "                                         'Stj2TQtwsrTQFkdronpZDUyrl9g3slZjEMxgIYznbmSzy',\\\n",
    "                                         'Cp3d4xKdTfPyJq6y7uLeRLv77kTjZmEIpGYtiWrrqvK6i']\n",
    "                 }\n",
    "''\n",
    "# later add {if it's not exist then write, otherwise skip}\n",
    "with open(path + \"CONFIG_PATH.pickle\", 'wb+') as f:\n",
    "        pickle.dump(config, f)"
   ]
  },
  {
   "cell_type": "code",
   "execution_count": 3,
   "metadata": {
    "collapsed": false
   },
   "outputs": [],
   "source": [
    "consumer_key = config['KEYS']['consumer_key']    # list\n",
    "consumer_secret = config['KEYS']['consumer_secret']\n",
    "access_token = config['KEYS']['access_token']\n",
    "access_token_secret = config['KEYS']['access_token_secret']"
   ]
  },
  {
   "cell_type": "markdown",
   "metadata": {},
   "source": [
    "# set stream"
   ]
  },
  {
   "cell_type": "code",
   "execution_count": null,
   "metadata": {
    "collapsed": false
   },
   "outputs": [],
   "source": [
    "class MyStreamListener(tweepy.StreamListener):\n",
    "\n",
    "    def __init__(self, api = None):\n",
    "        self.api = api or API()\n",
    "        self.counter = 0\n",
    "        self.info = []\n",
    "\n",
    "    def on_data(self, data):\n",
    "       \n",
    "        if data != None:\n",
    "            #status = json.loads(data)\n",
    "            #print(data)\n",
    "            self.on_status(data)\n",
    "        else:\n",
    "            #print('not ok')\n",
    "            return \n",
    "    \n",
    "    def on_error(self, status):\n",
    "        print(status)\n",
    "\n",
    "    def on_status(self, data):\n",
    "        #print(status)\n",
    "        status = json.loads(data)\n",
    "        if status['user']['location'] != None: \n",
    "            if status['user']['location'].lower().find('chicago') != -1:\n",
    "                print(status['user']['location'])\n",
    "\n",
    "                self.info.append(status)\n",
    "                self.counter += 1\n",
    "\n",
    "                if self.counter >= 10:\n",
    "                    with open(initialSet_path + 'stream'+str(self.counter)+'.json','w') as f:\n",
    "                        json.dump(self.info,f)\n",
    "                    sys.exit()\n",
    "            \n",
    "        return\n",
    "\n",
    "    def on_timeout(self):\n",
    "        print(\"Timeout, sleeping for 60 seconds...\\n\")\n",
    "        time.sleep(60)\n",
    "        return "
   ]
  },
  {
   "cell_type": "markdown",
   "metadata": {},
   "source": [
    "# get initial set"
   ]
  },
  {
   "cell_type": "code",
   "execution_count": null,
   "metadata": {
    "collapsed": true
   },
   "outputs": [],
   "source": [
    "auth = tweepy.OAuthHandler(consumer_key[0], consumer_secret[0])\n",
    "auth.set_access_token(access_token[0], access_token_secret[0])"
   ]
  },
  {
   "cell_type": "code",
   "execution_count": null,
   "metadata": {
    "collapsed": true
   },
   "outputs": [],
   "source": [
    "def collect_tweets(topic):\n",
    "    \n",
    "    stream = tweepy.Stream(auth, MyStreamListener(api))\n",
    "    stream.filter(track=topic, languages = ['en'])   \n",
    "        \n",
    "    return None"
   ]
  },
  {
   "cell_type": "raw",
   "metadata": {},
   "source": [
    "print(tweepy.streaming.__file__)"
   ]
  },
  {
   "cell_type": "raw",
   "metadata": {},
   "source": [
    "for i in range(10):\n",
    "    try:\n",
    "        get_initial_set(['football','NFL'])\n",
    "        break\n",
    "    except:\n",
    "        pass"
   ]
  },
  {
   "cell_type": "markdown",
   "metadata": {},
   "source": [
    "# test block \n",
    "print out the user tweets and location "
   ]
  },
  {
   "cell_type": "code",
   "execution_count": 49,
   "metadata": {
    "collapsed": false
   },
   "outputs": [],
   "source": [
    "def test_block(path):\n",
    "    \n",
    "    filenames = [f for f in listdir(path) if isfile(join(path, f))]\n",
    "    football_tw = []\n",
    "    for filename in filenames:    \n",
    "        \n",
    "        with open(path + filename,'r') as f:\n",
    "            football_tw += json.load(f)\n",
    "    i = 0\n",
    "    for item in football_tw:\n",
    "        print('list id:', i)   # in order to mannually delete this irrelevant tweets\n",
    "        print('userID:',item['user']['screen_name'])\n",
    "        print('text:', item['text'])\n",
    "        print('location:', item['user']['location'])\n",
    "        print('\\n')\n",
    "        i += 1\n",
    "   \n",
    "    return football_tw"
   ]
  },
  {
   "cell_type": "markdown",
   "metadata": {},
   "source": [
    "football_tweets = test_block(initialSet_path)"
   ]
  },
  {
   "cell_type": "raw",
   "metadata": {},
   "source": [
    "# hand remove irrelavant user\n",
    "\n",
    "index_rm = [2,3,5,8,10,12,15,17,18,28,29,30,33,34,38,51,62,69,72,74,78,85,86,88,89,93,95,103,109,112,115,116,118,120,124,129]\n",
    "final_football_tweets = []\n",
    "for i in range(len(football_tweets)):\n",
    "    if i not in index_rm:\n",
    "        final_football_tweets.append(football_tweets[i]) "
   ]
  },
  {
   "cell_type": "raw",
   "metadata": {},
   "source": [
    "i = 0\n",
    "for item in final_football_tweets:\n",
    "        print('list id:', i)   # in order to mannually delete this irrelevant tweets\n",
    "        #print('userID:',item['user']['screen_name'])\n",
    "        #print('text:', item['text'])\n",
    "        print('location:', item['user']['location'])\n",
    "        #print('\\n')\n",
    "        i += 1"
   ]
  },
  {
   "cell_type": "raw",
   "metadata": {},
   "source": [
    "# save!!!\n",
    "user_id_list = []\n",
    "for tw in final_football_tweets:\n",
    "    if tw['user']['id'] not in user_id_list:\n",
    "        user_id_list.append(tw['user']['id'])\n",
    "        \n",
    "with open(initialSet_path + 'initial_list.pickle','wb+') as f:\n",
    "        pickle.dump(user_id_list,f)"
   ]
  },
  {
   "cell_type": "code",
   "execution_count": null,
   "metadata": {
    "collapsed": true
   },
   "outputs": [],
   "source": [
    "with open(initialSet_path + 'initial_list.pickle','rb') as f:\n",
    "        initial_list = pickle.load(f)"
   ]
  },
  {
   "cell_type": "code",
   "execution_count": null,
   "metadata": {
    "collapsed": false
   },
   "outputs": [],
   "source": [
    "len(initial_list)"
   ]
  },
  {
   "cell_type": "raw",
   "metadata": {},
   "source": [
    "filenames = [f[:-7] for f in listdir(rep_path) if isfile(join(rep_path,f))]\n",
    "makeup = []\n",
    "for i in initial_list:\n",
    "    if str(i) not in filenames[:-7]:\n",
    "        print(i)\n",
    "        makeup.append(i)"
   ]
  },
  {
   "cell_type": "raw",
   "metadata": {},
   "source": [
    "for ID in makeup:\n",
    "    with open(rep_path + str(ID) +'.pickle','wb+') as f:\n",
    "        pickle.dump(api.friends_ids(str(ID)),f)"
   ]
  },
  {
   "cell_type": "markdown",
   "metadata": {},
   "source": [
    "# query API to find their representative list"
   ]
  },
  {
   "cell_type": "code",
   "execution_count": null,
   "metadata": {
    "collapsed": true
   },
   "outputs": [],
   "source": [
    "auth = tweepy.OAuthHandler(consumer_key[0], consumer_secret[0])\n",
    "auth.set_access_token(access_token[0], access_token_secret[0])\n",
    "api = tweepy.API(auth, wait_on_rate_limit= True,wait_on_rate_limit_notify=True)"
   ]
  },
  {
   "cell_type": "code",
   "execution_count": null,
   "metadata": {
    "collapsed": true
   },
   "outputs": [],
   "source": [
    "rep_path = initialSet_path+'\\\\rep\\\\'"
   ]
  },
  {
   "cell_type": "raw",
   "metadata": {
    "collapsed": false
   },
   "source": [
    "for ID in initial_list[76:86]:\n",
    "    with open(rep_path + str(ID) +'.pickle','wb+') as f:\n",
    "        pickle.dump(api.friends_ids(str(ID)),f)"
   ]
  },
  {
   "cell_type": "markdown",
   "metadata": {},
   "source": [
    "# get the detail of a id"
   ]
  },
  {
   "cell_type": "code",
   "execution_count": null,
   "metadata": {
    "collapsed": false
   },
   "outputs": [],
   "source": [
    "def get_screen_name(id_list):\n",
    "    \n",
    "    info = []\n",
    "    for id in id_list:\n",
    "        info.append(api.get_user(id))\n",
    "        \n",
    "    return info"
   ]
  },
  {
   "cell_type": "raw",
   "metadata": {
    "collapsed": true
   },
   "source": [
    "with open(initialSet_path + 'common_followees.pickle','rb') as f:\n",
    "    common_followess = pickle.load(f)"
   ]
  },
  {
   "cell_type": "raw",
   "metadata": {},
   "source": [
    "id_list = [str(f[0]) for f in common_followess]\n",
    "info = get_screen_name(id_list)\n",
    "details = []\n",
    "for i in range(len(info)):\n",
    "    details.append([info[i].id, info[i].screen_name, info[i].location, common_followess[i][1] ,info[i].followers_count])"
   ]
  },
  {
   "cell_type": "raw",
   "metadata": {},
   "source": [
    "details"
   ]
  },
  {
   "cell_type": "raw",
   "metadata": {
    "collapsed": false
   },
   "source": [
    "# write to .txt and pickle\n",
    "with open(initialSet_path + 'de_common_followees.pickle','wb+') as f:\n",
    "    pickle.dump(details,f)"
   ]
  },
  {
   "cell_type": "markdown",
   "metadata": {},
   "source": [
    "# find the complete followers of the representative nodes"
   ]
  },
  {
   "cell_type": "code",
   "execution_count": null,
   "metadata": {
    "collapsed": false
   },
   "outputs": [],
   "source": [
    "with open(initialSet_path + 'represent_id.pickle','rb') as f:\n",
    "    represent_id = pickle.load(f)"
   ]
  },
  {
   "cell_type": "code",
   "execution_count": null,
   "metadata": {
    "collapsed": true
   },
   "outputs": [],
   "source": [
    "ff_path = 'C:\\\\Users\\\\chenwang\\\\Documents\\\\courses\\\\FA16\\\\CS597\\\\twitterMining\\\\InitialSet\\\\Football\\\\location\\\\ff_of_rep\\\\'"
   ]
  },
  {
   "cell_type": "code",
   "execution_count": 6,
   "metadata": {
    "collapsed": true
   },
   "outputs": [],
   "source": [
    "auth = tweepy.OAuthHandler(consumer_key[0], consumer_secret[0])\n",
    "auth.set_access_token(access_token[0], access_token_secret[0])\n",
    "api = tweepy.API(auth, wait_on_rate_limit= True,wait_on_rate_limit_notify=True)"
   ]
  },
  {
   "cell_type": "code",
   "execution_count": 5,
   "metadata": {
    "collapsed": true
   },
   "outputs": [],
   "source": [
    "auth = tweepy.OAuthHandler(consumer_key[1], consumer_secret[1])\n",
    "auth.set_access_token(access_token[1], access_token_secret[1])\n",
    "api = tweepy.API(auth, wait_on_rate_limit= True,wait_on_rate_limit_notify=True)"
   ]
  },
  {
   "cell_type": "code",
   "execution_count": null,
   "metadata": {
    "collapsed": true
   },
   "outputs": [],
   "source": [
    "auth = tweepy.OAuthHandler(consumer_key[2], consumer_secret[2])\n",
    "auth.set_access_token(access_token[2], access_token_secret[2])\n",
    "api = tweepy.API(auth, wait_on_rate_limit= True,wait_on_rate_limit_notify=True)"
   ]
  },
  {
   "cell_type": "code",
   "execution_count": null,
   "metadata": {
    "collapsed": true
   },
   "outputs": [],
   "source": [
    "auth = tweepy.OAuthHandler(consumer_key[3], consumer_secret[3])\n",
    "auth.set_access_token(access_token[3], access_token_secret[3])\n",
    "api = tweepy.API(auth, wait_on_rate_limit= True,wait_on_rate_limit_notify=True)"
   ]
  },
  {
   "cell_type": "code",
   "execution_count": null,
   "metadata": {
    "collapsed": false
   },
   "outputs": [],
   "source": [
    "auth = tweepy.OAuthHandler(consumer_key[4], consumer_secret[4])\n",
    "auth.set_access_token(access_token[4], access_token_secret[4])\n",
    "api = tweepy.API(auth, wait_on_rate_limit= True,wait_on_rate_limit_notify=True)"
   ]
  },
  {
   "cell_type": "code",
   "execution_count": null,
   "metadata": {
    "collapsed": false
   },
   "outputs": [],
   "source": [
    "for ID in represent_id[90:100]:\n",
    "    with open(ff_path + str(ID) +'.pickle','wb+') as f:\n",
    "        pickle.dump(api.followers_ids(str(ID)),f)"
   ]
  },
  {
   "cell_type": "markdown",
   "metadata": {},
   "source": [
    "# test whether the ranking predictive model works\n",
    "\n",
    "<p>seperate them into groups: baseline(twitter stream), every 300? </p>\n",
    "<p>we should see there is a decline in matching accuracy in the two aspects: eg.football + chicago </p>\n",
    "\n",
    "<p> 1. chicago </p>\n",
    "<b> ratio = # user from chicago / # number of user provide their location </b>\n",
    "\n"
   ]
  },
  {
   "cell_type": "code",
   "execution_count": 19,
   "metadata": {
    "collapsed": true
   },
   "outputs": [],
   "source": [
    "# a bag of pre-defined locations that represent chicago\n",
    "\n",
    "chicago = ['chicago','Arlington Heights', 'Aurora', 'Berwyn', 'Bolingbrook', 'Cicero','Des Plaines', 'Elgin','Evanston', 'Gary', 'Hammond',\n",
    "           'Hoffman Estates', 'Joliet', 'Kenosha', 'Mount Prospect','Naperville', 'Oak Lawn', 'Oak Park', 'Orland Park',\n",
    "           'Palatine', 'Schaumburg','Skokie','Tinley Park','Waukegan','Wheaton'] #,', IL','Illinois']"
   ]
  },
  {
   "cell_type": "code",
   "execution_count": 25,
   "metadata": {
    "collapsed": false
   },
   "outputs": [],
   "source": [
    "with open(initialSet_path + 'ranked_candidate_id.pickle','rb') as f:\n",
    "    candidate_id = pickle.load(f)\n",
    "#candidate_id[9050:9100]"
   ]
  },
  {
   "cell_type": "code",
   "execution_count": 18,
   "metadata": {
    "collapsed": false
   },
   "outputs": [
    {
     "data": {
      "image/png": "[encoded data removed]",
      "text/plain": [
       "<matplotlib.figure.Figure at 0x43fa530>"
      ]
     },
     "metadata": {},
     "output_type": "display_data"
    }
   ],
   "source": [
    "%matplotlib inline\n",
    "import matplotlib.pyplot as plt\n",
    "\n",
    "x = range(len(candidate_id))\n",
    "y = [c[1] for c in candidate_id]\n",
    "\n",
    "fig, axes = plt.subplots(figsize=(10,10))\n",
    "\n",
    "axes.plot(x,y)\n",
    "axes.set_xlabel('ranked candidate')\n",
    "axes.set_ylabel('p(T|V)')\n",
    "axes.set_title('possibility of belonging to target set')\n",
    "#axes.set_ylim([1,40])\n",
    "#axes.set_xlim([0,30000])\n",
    "\n",
    "plt.show()"
   ]
  },
  {
   "cell_type": "code",
   "execution_count": 9,
   "metadata": {
    "collapsed": false
   },
   "outputs": [],
   "source": [
    "def gather_location(candidate_id):\n",
    "    \n",
    "    try:\n",
    "        location = api.get_user(str(candidate_id)).location\n",
    "        \n",
    "        if location == '':\n",
    "            location = 'NaN'\n",
    "        \n",
    "        return location\n",
    "    \n",
    "    except:\n",
    "        print('error')\n",
    "        pass\n",
    "    \n",
    "        return 'NaN'"
   ]
  },
  {
   "cell_type": "raw",
   "metadata": {},
   "source": [
    "location = []"
   ]
  },
  {
   "cell_type": "code",
   "execution_count": 47,
   "metadata": {
    "collapsed": false
   },
   "outputs": [
    {
     "name": "stdout",
     "output_type": "stream",
     "text": [
      "error\n",
      "error\n"
     ]
    }
   ],
   "source": [
    "for c in candidate_id[8700:9600]:\n",
    "    location.append(gather_location(c[0]))"
   ]
  },
  {
   "cell_type": "raw",
   "metadata": {},
   "source": [
    "with open(initialSet_path + 'test_location.pickle','wb+') as f:\n",
    "    pickle.dump(location,f)"
   ]
  },
  {
   "cell_type": "raw",
   "metadata": {},
   "source": [
    "with open(initialSet_path + 'test_location.pickle','rb') as f:\n",
    "    location = pickle.load(f)\n",
    "len(location)"
   ]
  },
  {
   "cell_type": "code",
   "execution_count": 42,
   "metadata": {
    "collapsed": false
   },
   "outputs": [],
   "source": [
    "def print_ratio(location,area_list, interval):\n",
    "    ratio = []\n",
    "    for i in range(math.floor(len(location)/interval)):\n",
    "    # for i in range(1):\n",
    "        print(interval*(i), '~', interval*(i+1))\n",
    "        \n",
    "        target_count = 0\n",
    "        general_count = 0\n",
    "        \n",
    "        for loc in location[interval*(i): interval*(i+1)]:\n",
    "            if loc != 'NaN' and loc != None:\n",
    "                general_count += 1\n",
    "                #print('g',general_count,loc)\n",
    "            \n",
    "            flag = False\n",
    "            for area in area_list:\n",
    "                if loc.lower().find(area.lower()) != -1:\n",
    "                    flag = True\n",
    "            \n",
    "            if flag == True:\n",
    "                target_count += 1\n",
    "                #print('t',target_count,loc)\n",
    "\n",
    "        ratio.append(target_count / general_count)\n",
    "        print(\"# of people from chicago : \", target_count)\n",
    "        print(\"# of people provide location : \", general_count)\n",
    "        # print(\"# of people from chicago/ # of people provide location :\", ratio, '\\n')\n",
    "\n",
    "    return ratio"
   ]
  },
  {
   "cell_type": "raw",
   "metadata": {},
   "source": [
    "general_count = 0\n",
    "target_count = 0\n",
    "for loc in location[9000:9300]:\n",
    "        if loc != 'NaN' and loc != None:\n",
    "            general_count += 1\n",
    "            print('g',general_count,loc)\n",
    "            \n",
    "        flag = False\n",
    "        for area in chicago:\n",
    "            if loc.lower().find(area.lower()) != -1:\n",
    "                flag = True\n",
    "            \n",
    "        if flag == True:\n",
    "            target_count += 1\n",
    "            #print('t',target_count,loc)\n"
   ]
  },
  {
   "cell_type": "code",
   "execution_count": 45,
   "metadata": {
    "collapsed": false,
    "scrolled": false
   },
   "outputs": [
    {
     "name": "stdout",
     "output_type": "stream",
     "text": [
      "0 ~ 100\n",
      "# of people from chicago :  29\n",
      "# of people provide location :  65\n",
      "100 ~ 200\n",
      "# of people from chicago :  21\n",
      "# of people provide location :  58\n",
      "200 ~ 300\n",
      "# of people from chicago :  18\n",
      "# of people provide location :  53\n",
      "300 ~ 400\n",
      "# of people from chicago :  22\n",
      "# of people provide location :  58\n",
      "400 ~ 500\n",
      "# of people from chicago :  20\n",
      "# of people provide location :  52\n",
      "500 ~ 600\n",
      "# of people from chicago :  25\n",
      "# of people provide location :  50\n",
      "600 ~ 700\n",
      "# of people from chicago :  20\n",
      "# of people provide location :  55\n",
      "700 ~ 800\n",
      "# of people from chicago :  24\n",
      "# of people provide location :  56\n",
      "800 ~ 900\n",
      "# of people from chicago :  20\n",
      "# of people provide location :  64\n",
      "900 ~ 1000\n",
      "# of people from chicago :  15\n",
      "# of people provide location :  58\n",
      "1000 ~ 1100\n",
      "# of people from chicago :  21\n",
      "# of people provide location :  57\n",
      "1100 ~ 1200\n",
      "# of people from chicago :  15\n",
      "# of people provide location :  57\n",
      "1200 ~ 1300\n",
      "# of people from chicago :  12\n",
      "# of people provide location :  40\n",
      "1300 ~ 1400\n",
      "# of people from chicago :  13\n",
      "# of people provide location :  54\n",
      "1400 ~ 1500\n",
      "# of people from chicago :  19\n",
      "# of people provide location :  44\n",
      "1500 ~ 1600\n",
      "# of people from chicago :  22\n",
      "# of people provide location :  54\n",
      "1600 ~ 1700\n",
      "# of people from chicago :  23\n",
      "# of people provide location :  57\n",
      "1700 ~ 1800\n",
      "# of people from chicago :  14\n",
      "# of people provide location :  46\n",
      "1800 ~ 1900\n",
      "# of people from chicago :  10\n",
      "# of people provide location :  24\n",
      "1900 ~ 2000\n",
      "# of people from chicago :  17\n",
      "# of people provide location :  42\n",
      "2000 ~ 2100\n",
      "# of people from chicago :  19\n",
      "# of people provide location :  55\n",
      "2100 ~ 2200\n",
      "# of people from chicago :  16\n",
      "# of people provide location :  54\n",
      "2200 ~ 2300\n",
      "# of people from chicago :  16\n",
      "# of people provide location :  49\n",
      "2300 ~ 2400\n",
      "# of people from chicago :  9\n",
      "# of people provide location :  22\n",
      "2400 ~ 2500\n",
      "# of people from chicago :  11\n",
      "# of people provide location :  42\n",
      "2500 ~ 2600\n",
      "# of people from chicago :  5\n",
      "# of people provide location :  9\n",
      "2600 ~ 2700\n",
      "# of people from chicago :  3\n",
      "# of people provide location :  8\n",
      "2700 ~ 2800\n",
      "# of people from chicago :  11\n",
      "# of people provide location :  15\n",
      "2800 ~ 2900\n",
      "# of people from chicago :  13\n",
      "# of people provide location :  44\n",
      "2900 ~ 3000\n",
      "# of people from chicago :  13\n",
      "# of people provide location :  46\n",
      "3000 ~ 3100\n",
      "# of people from chicago :  20\n",
      "# of people provide location :  52\n",
      "3100 ~ 3200\n",
      "# of people from chicago :  15\n",
      "# of people provide location :  58\n",
      "3200 ~ 3300\n",
      "# of people from chicago :  18\n",
      "# of people provide location :  50\n",
      "3300 ~ 3400\n",
      "# of people from chicago :  13\n",
      "# of people provide location :  40\n",
      "3400 ~ 3500\n",
      "# of people from chicago :  17\n",
      "# of people provide location :  43\n",
      "3500 ~ 3600\n",
      "# of people from chicago :  24\n",
      "# of people provide location :  50\n",
      "3600 ~ 3700\n",
      "# of people from chicago :  24\n",
      "# of people provide location :  59\n",
      "3700 ~ 3800\n",
      "# of people from chicago :  13\n",
      "# of people provide location :  55\n",
      "3800 ~ 3900\n",
      "# of people from chicago :  16\n",
      "# of people provide location :  61\n",
      "3900 ~ 4000\n",
      "# of people from chicago :  19\n",
      "# of people provide location :  51\n",
      "4000 ~ 4100\n",
      "# of people from chicago :  12\n",
      "# of people provide location :  41\n",
      "4100 ~ 4200\n",
      "# of people from chicago :  12\n",
      "# of people provide location :  47\n",
      "4200 ~ 4300\n",
      "# of people from chicago :  13\n",
      "# of people provide location :  50\n",
      "4300 ~ 4400\n",
      "# of people from chicago :  24\n",
      "# of people provide location :  55\n",
      "4400 ~ 4500\n",
      "# of people from chicago :  18\n",
      "# of people provide location :  49\n",
      "4500 ~ 4600\n",
      "# of people from chicago :  17\n",
      "# of people provide location :  49\n",
      "4600 ~ 4700\n",
      "# of people from chicago :  14\n",
      "# of people provide location :  55\n",
      "4700 ~ 4800\n",
      "# of people from chicago :  15\n",
      "# of people provide location :  52\n",
      "4800 ~ 4900\n",
      "# of people from chicago :  13\n",
      "# of people provide location :  55\n",
      "4900 ~ 5000\n",
      "# of people from chicago :  4\n",
      "# of people provide location :  29\n",
      "5000 ~ 5100\n",
      "# of people from chicago :  18\n",
      "# of people provide location :  52\n",
      "5100 ~ 5200\n",
      "# of people from chicago :  17\n",
      "# of people provide location :  54\n",
      "5200 ~ 5300\n",
      "# of people from chicago :  16\n",
      "# of people provide location :  47\n",
      "5300 ~ 5400\n",
      "# of people from chicago :  21\n",
      "# of people provide location :  50\n",
      "5400 ~ 5500\n",
      "# of people from chicago :  11\n",
      "# of people provide location :  46\n",
      "5500 ~ 5600\n",
      "# of people from chicago :  21\n",
      "# of people provide location :  49\n",
      "5600 ~ 5700\n",
      "# of people from chicago :  14\n",
      "# of people provide location :  45\n",
      "5700 ~ 5800\n",
      "# of people from chicago :  14\n",
      "# of people provide location :  40\n",
      "5800 ~ 5900\n",
      "# of people from chicago :  13\n",
      "# of people provide location :  57\n",
      "5900 ~ 6000\n",
      "# of people from chicago :  12\n",
      "# of people provide location :  52\n",
      "6000 ~ 6100\n",
      "# of people from chicago :  20\n",
      "# of people provide location :  55\n",
      "6100 ~ 6200\n",
      "# of people from chicago :  10\n",
      "# of people provide location :  31\n",
      "6200 ~ 6300\n",
      "# of people from chicago :  19\n",
      "# of people provide location :  46\n",
      "6300 ~ 6400\n",
      "# of people from chicago :  15\n",
      "# of people provide location :  40\n",
      "6400 ~ 6500\n",
      "# of people from chicago :  15\n",
      "# of people provide location :  48\n",
      "6500 ~ 6600\n",
      "# of people from chicago :  19\n",
      "# of people provide location :  54\n",
      "6600 ~ 6700\n",
      "# of people from chicago :  13\n",
      "# of people provide location :  26\n",
      "6700 ~ 6800\n",
      "# of people from chicago :  12\n",
      "# of people provide location :  25\n",
      "6800 ~ 6900\n",
      "# of people from chicago :  17\n",
      "# of people provide location :  27\n",
      "6900 ~ 7000\n",
      "# of people from chicago :  23\n",
      "# of people provide location :  56\n",
      "7000 ~ 7100\n",
      "# of people from chicago :  18\n",
      "# of people provide location :  57\n",
      "7100 ~ 7200\n",
      "# of people from chicago :  21\n",
      "# of people provide location :  46\n",
      "7200 ~ 7300\n",
      "# of people from chicago :  14\n",
      "# of people provide location :  42\n",
      "7300 ~ 7400\n",
      "# of people from chicago :  6\n",
      "# of people provide location :  11\n",
      "7400 ~ 7500\n",
      "# of people from chicago :  11\n",
      "# of people provide location :  17\n",
      "7500 ~ 7600\n",
      "# of people from chicago :  13\n",
      "# of people provide location :  43\n",
      "7600 ~ 7700\n",
      "# of people from chicago :  26\n",
      "# of people provide location :  58\n",
      "7700 ~ 7800\n",
      "# of people from chicago :  16\n",
      "# of people provide location :  54\n",
      "7800 ~ 7900\n",
      "# of people from chicago :  17\n",
      "# of people provide location :  48\n",
      "7900 ~ 8000\n",
      "# of people from chicago :  16\n",
      "# of people provide location :  53\n",
      "8000 ~ 8100\n",
      "# of people from chicago :  11\n",
      "# of people provide location :  47\n",
      "8100 ~ 8200\n",
      "# of people from chicago :  19\n",
      "# of people provide location :  50\n",
      "8200 ~ 8300\n",
      "# of people from chicago :  14\n",
      "# of people provide location :  53\n",
      "8300 ~ 8400\n",
      "# of people from chicago :  14\n",
      "# of people provide location :  41\n",
      "8400 ~ 8500\n",
      "# of people from chicago :  9\n",
      "# of people provide location :  37\n",
      "8500 ~ 8600\n",
      "# of people from chicago :  7\n",
      "# of people provide location :  40\n",
      "8600 ~ 8700\n",
      "# of people from chicago :  14\n",
      "# of people provide location :  48\n"
     ]
    }
   ],
   "source": [
    "ratio = print_ratio(location,chicago,interval = 100)"
   ]
  },
  {
   "cell_type": "code",
   "execution_count": 46,
   "metadata": {
    "collapsed": false
   },
   "outputs": [
    {
     "data": {
      "image/png": "[encoded data removed]",
      "text/plain": [
       "<matplotlib.figure.Figure at 0x96ebc70>"
      ]
     },
     "metadata": {},
     "output_type": "display_data"
    }
   ],
   "source": [
    "x = range(len(ratio))\n",
    "y = ratio\n",
    "\n",
    "fig, axes = plt.subplots(figsize=(10,10))\n",
    "\n",
    "axes.plot(x,y)\n",
    "axes.set_xlabel('ranked group (1000)')\n",
    "axes.set_ylabel('ratio')\n",
    "axes.set_title('percentage of user from chicago')\n",
    "#axes.set_ylim([1,40])\n",
    "#axes.set_xlim([0,30000])\n",
    "\n",
    "plt.show()"
   ]
  },
  {
   "cell_type": "code",
   "execution_count": null,
   "metadata": {
    "collapsed": false
   },
   "outputs": [],
   "source": [
    "# set stream\n",
    "rand_path = 'C:\\\\Users\\\\chenwang\\\\Documents\\\\courses\\\\FA16\\\\CS597\\\\twitterMining\\\\RandSet\\\\'\n",
    "\n",
    "class MyStreamListener(tweepy.StreamListener):\n",
    "\n",
    "    def __init__(self, api = None):\n",
    "        self.api = api or API()\n",
    "        self.counter = 0\n",
    "        self.info = []\n",
    "\n",
    "    def on_data(self, data):\n",
    "       \n",
    "        if data != None:\n",
    "            #status = json.loads(data)\n",
    "            #print(data)\n",
    "            self.on_status(data)\n",
    "        else:\n",
    "            #print('not ok')\n",
    "            return \n",
    "    \n",
    "    def on_error(self, status):\n",
    "        print(status)\n",
    "\n",
    "    def on_status(self, data):\n",
    "        #print(status)\n",
    "        status = json.loads(data)\n",
    "        \n",
    "        # those user who provide location information\n",
    "        if status['user']['location'] != None: \n",
    "            #print(status['user']['location'])\n",
    "            self.info.append(status)\n",
    "            self.counter += 1\n",
    "            \n",
    "            if self.counter >= 100:\n",
    "                with open(rand_path + 'stream'+str(self.counter)+'.json','w') as f:\n",
    "                    json.dump(self.info,f)\n",
    "                sys.exit()\n",
    "            \n",
    "        return\n",
    "\n",
    "    def on_timeout(self):\n",
    "        print(\"Timeout, sleeping for 60 seconds...\\n\")\n",
    "        time.sleep(60)\n",
    "        return "
   ]
  },
  {
   "cell_type": "code",
   "execution_count": null,
   "metadata": {
    "collapsed": true
   },
   "outputs": [],
   "source": [
    "auth = tweepy.OAuthHandler(consumer_key[0], consumer_secret[0])\n",
    "auth.set_access_token(access_token[0], access_token_secret[0])\n",
    "api = tweepy.API(auth, wait_on_rate_limit= True,wait_on_rate_limit_notify=True)"
   ]
  },
  {
   "cell_type": "code",
   "execution_count": null,
   "metadata": {
    "collapsed": true
   },
   "outputs": [],
   "source": [
    "def rand_tweets():\n",
    "    \n",
    "    stream = tweepy.Stream(auth, MyStreamListener(api))\n",
    "    stream.filter(track=[\"a\", \"the\", \"i\", \"you\",\"it\",\"of\"], languages = ['en'])   \n",
    "        \n",
    "    return None"
   ]
  },
  {
   "cell_type": "code",
   "execution_count": null,
   "metadata": {
    "collapsed": false
   },
   "outputs": [],
   "source": [
    "collect_tweets(['a','the','of'])"
   ]
  },
  {
   "cell_type": "markdown",
   "metadata": {},
   "source": [
    "# random test area"
   ]
  },
  {
   "cell_type": "code",
   "execution_count": null,
   "metadata": {
    "collapsed": false
   },
   "outputs": [],
   "source": [
    "#api.get_user('786326788246999040')"
   ]
  },
  {
   "cell_type": "code",
   "execution_count": null,
   "metadata": {
    "collapsed": true
   },
   "outputs": [],
   "source": []
  }
 ],
 "metadata": {
  "kernelspec": {
   "display_name": "Python 3",
   "language": "python",
   "name": "python3"
  },
  "language_info": {
   "codemirror_mode": {
    "name": "ipython",
    "version": 3
   },
   "file_extension": ".py",
   "mimetype": "text/x-python",
   "name": "python",
   "nbconvert_exporter": "python",
   "pygments_lexer": "ipython3",
   "version": "3.4.4"
  }
 },
 "nbformat": 4,
 "nbformat_minor": 0
}

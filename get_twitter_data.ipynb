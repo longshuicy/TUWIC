{
 "cells": [
  {
   "cell_type": "code",
   "execution_count": 1,
   "metadata": {
    "collapsed": false
   },
   "outputs": [],
   "source": [
    "import tweepy\n",
    "import json\n",
    "from time import sleep\n",
    "import pickle\n",
    "import re\n",
    "from os import listdir\n",
    "from os.path import isfile, join\n",
    "import sys"
   ]
  },
  {
   "cell_type": "markdown",
   "metadata": {},
   "source": [
    "# configuration"
   ]
  },
  {
   "cell_type": "code",
   "execution_count": 31,
   "metadata": {
    "collapsed": false
   },
   "outputs": [],
   "source": [
    "config = {}\n",
    "path = 'C:\\\\Users\\\\chenwang\\\\Documents\\\\courses\\\\FA16\\CS597\\\\twitterMining\\\\'\n",
    "initialSet_path = 'C:\\\\Users\\\\chenwang\\\\Documents\\\\courses\\\\FA16\\\\CS597\\\\twitterMining\\\\InitialSet\\\\Football\\\\location\\\\'\n",
    "\n",
    "config['KEYS'] = {'consumer_key': ['mVJcyNN5qFyk7GdBJvENVc329', 'anqjETSjwaDqA9LBt0MGwub60','vDnzvZFFwXFgI2ftQxYWV2XZo',\n",
    "                                  'sAkNaJxJWgPilhidaNJ48kmCo','tO2Bzbkexyf57LSF6aJwACXfs'],\n",
    "                  'consumer_secret': ['DbXUXB7EN77HmzQahobHeTPSWgcNI9t8kKzDoe5twfTORnjXxf',\\\n",
    "                                       'AGTAiJhOrb2gPSbW1F5Rclu0Ns7pTZthPhJ3i7ySFNWwdheqim',\\\n",
    "                                     '5HxLPob3kGqgauc5HuNszFw0uoLjsK3JHD0IqUNEVbNAIVdRKQ',\\\n",
    "                                      'dPcVmoYaEGhsWC5djrEFsjfNdO8DmFecmSnBRjL63y0Sg9pCtl',\n",
    "                                     'OIEIE1Pu01eTieDffG13kJM78spAPHZtKk2IZ1yGkU0eoKvVxn'],\n",
    "                  'access_token': ['707770026573561856-Vfqm0iXrsBvFL2prQMQ2Gzu9eawWYIj',\\\n",
    "                                    '707770026573561856-diXgIsR0UCYM3CHYCUoU38hcp8Qk8Pj',\\\n",
    "                                  '707770026573561856-9BcLFzjLrkVdxeG0Z3dmqYhsCDqUQ2t',\\\n",
    "                                  '707770026573561856-Sua2gUtlWTxTik70a0dUba0SvayeQgU',\\\n",
    "                                  '707770026573561856-Oi1nNb4Ih0SJyizIwToY3PhjLymGkcl'],\n",
    "                  'access_token_secret': ['HSMqS4YkDBcB6mm9JL3vd6VeKlkKmNdMxmJ0inJQwNhXS',\\\n",
    "                                           'GnqrY0AoeOuK7cgaF2yRBmcJGcc814bBIONMREN8gU7xu',\\\n",
    "                                         'e2OfQnQGnweLygFxJRFCUa9PZhOZXyCcaEipMpnlmABqj',\\\n",
    "                                         'Stj2TQtwsrTQFkdronpZDUyrl9g3slZjEMxgIYznbmSzy',\\\n",
    "                                         'Cp3d4xKdTfPyJq6y7uLeRLv77kTjZmEIpGYtiWrrqvK6i']\n",
    "                 }\n",
    "''\n",
    "# later add {if it's not exist then write, otherwise skip}\n",
    "with open(path + \"CONFIG_PATH.pickle\", 'wb+') as f:\n",
    "        pickle.dump(config, f)"
   ]
  },
  {
   "cell_type": "code",
   "execution_count": 32,
   "metadata": {
    "collapsed": false
   },
   "outputs": [],
   "source": [
    "consumer_key = config['KEYS']['consumer_key']    # list\n",
    "consumer_secret = config['KEYS']['consumer_secret']\n",
    "access_token = config['KEYS']['access_token']\n",
    "access_token_secret = config['KEYS']['access_token_secret']"
   ]
  },
  {
   "cell_type": "markdown",
   "metadata": {},
   "source": [
    "# set stream"
   ]
  },
  {
   "cell_type": "code",
   "execution_count": 40,
   "metadata": {
    "collapsed": false
   },
   "outputs": [],
   "source": [
    "class MyStreamListener(tweepy.StreamListener):\n",
    "\n",
    "    def __init__(self, api = None):\n",
    "        self.api = api or API()\n",
    "        self.counter = 0\n",
    "        self.info = []\n",
    "\n",
    "    def on_data(self, data):\n",
    "       \n",
    "        if data != None:\n",
    "            #status = json.loads(data)\n",
    "            #print(data)\n",
    "            self.on_status(data)\n",
    "        else:\n",
    "            #print('not ok')\n",
    "            return \n",
    "    \n",
    "    def on_error(self, status):\n",
    "        print(status)\n",
    "\n",
    "    def on_status(self, data):\n",
    "        #print(status)\n",
    "        status = json.loads(data)\n",
    "        if status['user']['location'] != None: \n",
    "            if status['user']['location'].lower().find('chicago') != -1:\n",
    "                print(status['user']['location'])\n",
    "\n",
    "                self.info.append(status)\n",
    "                self.counter += 1\n",
    "\n",
    "                if self.counter >= 10:\n",
    "                    with open(initialSet_path + 'stream'+str(self.counter)+'.json','w') as f:\n",
    "                        json.dump(self.info,f)\n",
    "                    sys.exit()\n",
    "            \n",
    "        return\n",
    "\n",
    "    def on_timeout(self):\n",
    "        print(\"Timeout, sleeping for 60 seconds...\\n\")\n",
    "        time.sleep(60)\n",
    "        return "
   ]
  },
  {
   "cell_type": "markdown",
   "metadata": {},
   "source": [
    "# get initial set"
   ]
  },
  {
   "cell_type": "code",
   "execution_count": 5,
   "metadata": {
    "collapsed": true
   },
   "outputs": [],
   "source": [
    "auth = tweepy.OAuthHandler(consumer_key[0], consumer_secret[0])\n",
    "auth.set_access_token(access_token[0], access_token_secret[0])"
   ]
  },
  {
   "cell_type": "code",
   "execution_count": 6,
   "metadata": {
    "collapsed": true
   },
   "outputs": [],
   "source": [
    "def collect_tweets(topic):\n",
    "    \n",
    "    stream = tweepy.Stream(auth, MyStreamListener(api))\n",
    "    stream.filter(track=topic, languages = ['en'])   \n",
    "        \n",
    "    return None"
   ]
  },
  {
   "cell_type": "raw",
   "metadata": {},
   "source": [
    "print(tweepy.streaming.__file__)"
   ]
  },
  {
   "cell_type": "raw",
   "metadata": {},
   "source": [
    "for i in range(10):\n",
    "    try:\n",
    "        get_initial_set(['football','NFL'])\n",
    "        break\n",
    "    except:\n",
    "        pass"
   ]
  },
  {
   "cell_type": "markdown",
   "metadata": {},
   "source": [
    "# test block \n",
    "print out the user tweets and location "
   ]
  },
  {
   "cell_type": "code",
   "execution_count": 7,
   "metadata": {
    "collapsed": false
   },
   "outputs": [],
   "source": [
    "def test_block(path):\n",
    "    \n",
    "    filenames = [f for f in listdir(path) if isfile(join(path, f))]\n",
    "    football_tw = []\n",
    "    for filename in filenames:    \n",
    "        \n",
    "        with open(path + filename,'r') as f:\n",
    "            football_tw += json.load(f)\n",
    "    i = 0\n",
    "    for item in football_tw:\n",
    "        print('list id:', i)   # in order to mannually delete this irrelevant tweets\n",
    "        print('userID:',item['user']['screen_name'])\n",
    "        print('text:', item['text'])\n",
    "        print('location:', item['user']['location'])\n",
    "        print('\\n')\n",
    "        i += 1\n",
    "   \n",
    "    return football_tw"
   ]
  },
  {
   "cell_type": "raw",
   "metadata": {},
   "source": [
    "football_tweets = test_block(initialSet_path)"
   ]
  },
  {
   "cell_type": "raw",
   "metadata": {},
   "source": [
    "# hand remove irrelavant user\n",
    "\n",
    "index_rm = [2,3,5,8,10,12,15,17,18,28,29,30,33,34,38,51,62,69,72,74,78,85,86,88,89,93,95,103,109,112,115,116,118,120,124,129]\n",
    "final_football_tweets = []\n",
    "for i in range(len(football_tweets)):\n",
    "    if i not in index_rm:\n",
    "        final_football_tweets.append(football_tweets[i]) "
   ]
  },
  {
   "cell_type": "raw",
   "metadata": {},
   "source": [
    "i = 0\n",
    "for item in final_football_tweets:\n",
    "        print('list id:', i)   # in order to mannually delete this irrelevant tweets\n",
    "        #print('userID:',item['user']['screen_name'])\n",
    "        #print('text:', item['text'])\n",
    "        print('location:', item['user']['location'])\n",
    "        #print('\\n')\n",
    "        i += 1"
   ]
  },
  {
   "cell_type": "raw",
   "metadata": {},
   "source": [
    "# save!!!\n",
    "user_id_list = []\n",
    "for tw in final_football_tweets:\n",
    "    if tw['user']['id'] not in user_id_list:\n",
    "        user_id_list.append(tw['user']['id'])\n",
    "        \n",
    "with open(initialSet_path + 'initial_list.pickle','wb+') as f:\n",
    "        pickle.dump(user_id_list,f)"
   ]
  },
  {
   "cell_type": "code",
   "execution_count": 8,
   "metadata": {
    "collapsed": true
   },
   "outputs": [],
   "source": [
    "with open(initialSet_path + 'initial_list.pickle','rb') as f:\n",
    "        initial_list = pickle.load(f)"
   ]
  },
  {
   "cell_type": "code",
   "execution_count": 9,
   "metadata": {
    "collapsed": false
   },
   "outputs": [
    {
     "data": {
      "text/plain": [
       "86"
      ]
     },
     "execution_count": 9,
     "metadata": {},
     "output_type": "execute_result"
    }
   ],
   "source": [
    "len(initial_list)"
   ]
  },
  {
   "cell_type": "raw",
   "metadata": {},
   "source": [
    "filenames = [f[:-7] for f in listdir(rep_path) if isfile(join(rep_path,f))]\n",
    "makeup = []\n",
    "for i in initial_list:\n",
    "    if str(i) not in filenames[:-7]:\n",
    "        print(i)\n",
    "        makeup.append(i)"
   ]
  },
  {
   "cell_type": "raw",
   "metadata": {},
   "source": [
    "for ID in makeup:\n",
    "    with open(rep_path + str(ID) +'.pickle','wb+') as f:\n",
    "        pickle.dump(api.friends_ids(str(ID)),f)"
   ]
  },
  {
   "cell_type": "markdown",
   "metadata": {},
   "source": [
    "# query API to find their representative list"
   ]
  },
  {
   "cell_type": "code",
   "execution_count": 10,
   "metadata": {
    "collapsed": true
   },
   "outputs": [],
   "source": [
    "auth = tweepy.OAuthHandler(consumer_key[0], consumer_secret[0])\n",
    "auth.set_access_token(access_token[0], access_token_secret[0])\n",
    "api = tweepy.API(auth, wait_on_rate_limit= True,wait_on_rate_limit_notify=True)"
   ]
  },
  {
   "cell_type": "code",
   "execution_count": 11,
   "metadata": {
    "collapsed": true
   },
   "outputs": [],
   "source": [
    "rep_path = initialSet_path+'\\\\rep\\\\'"
   ]
  },
  {
   "cell_type": "raw",
   "metadata": {
    "collapsed": false
   },
   "source": [
    "for ID in initial_list[76:86]:\n",
    "    with open(rep_path + str(ID) +'.pickle','wb+') as f:\n",
    "        pickle.dump(api.friends_ids(str(ID)),f)"
   ]
  },
  {
   "cell_type": "markdown",
   "metadata": {},
   "source": [
    "# get the detail of a id"
   ]
  },
  {
   "cell_type": "code",
   "execution_count": 12,
   "metadata": {
    "collapsed": false
   },
   "outputs": [],
   "source": [
    "def get_screen_name(id_list):\n",
    "    \n",
    "    info = []\n",
    "    for id in id_list:\n",
    "        info.append(api.get_user(id))\n",
    "        \n",
    "    return info"
   ]
  },
  {
   "cell_type": "raw",
   "metadata": {
    "collapsed": true
   },
   "source": [
    "with open(initialSet_path + 'common_followees.pickle','rb') as f:\n",
    "    common_followess = pickle.load(f)"
   ]
  },
  {
   "cell_type": "raw",
   "metadata": {},
   "source": [
    "id_list = [str(f[0]) for f in common_followess]\n",
    "info = get_screen_name(id_list)\n",
    "details = []\n",
    "for i in range(len(info)):\n",
    "    details.append([info[i].id, info[i].screen_name, info[i].location, common_followess[i][1] ,info[i].followers_count])"
   ]
  },
  {
   "cell_type": "raw",
   "metadata": {},
   "source": [
    "details"
   ]
  },
  {
   "cell_type": "raw",
   "metadata": {
    "collapsed": false
   },
   "source": [
    "# write to .txt and pickle\n",
    "with open(initialSet_path + 'de_common_followees.pickle','wb+') as f:\n",
    "    pickle.dump(details,f)"
   ]
  },
  {
   "cell_type": "markdown",
   "metadata": {},
   "source": [
    "# find the complete followers of the representative nodes"
   ]
  },
  {
   "cell_type": "code",
   "execution_count": 5,
   "metadata": {
    "collapsed": false
   },
   "outputs": [],
   "source": [
    "with open(initialSet_path + 'represent_id.pickle','rb') as f:\n",
    "    represent_id = pickle.load(f)"
   ]
  },
  {
   "cell_type": "code",
   "execution_count": 6,
   "metadata": {
    "collapsed": true
   },
   "outputs": [],
   "source": [
    "ff_path = 'C:\\\\Users\\\\chenwang\\\\Documents\\\\courses\\\\FA16\\\\CS597\\\\twitterMining\\\\InitialSet\\\\Football\\\\location\\\\ff_of_rep\\\\'"
   ]
  },
  {
   "cell_type": "code",
   "execution_count": 23,
   "metadata": {
    "collapsed": true
   },
   "outputs": [],
   "source": [
    "auth = tweepy.OAuthHandler(consumer_key[0], consumer_secret[0])\n",
    "auth.set_access_token(access_token[0], access_token_secret[0])\n",
    "api = tweepy.API(auth, wait_on_rate_limit= True,wait_on_rate_limit_notify=True)"
   ]
  },
  {
   "cell_type": "code",
   "execution_count": 69,
   "metadata": {
    "collapsed": true
   },
   "outputs": [],
   "source": [
    "auth = tweepy.OAuthHandler(consumer_key[1], consumer_secret[1])\n",
    "auth.set_access_token(access_token[1], access_token_secret[1])\n",
    "api = tweepy.API(auth, wait_on_rate_limit= True,wait_on_rate_limit_notify=True)"
   ]
  },
  {
   "cell_type": "code",
   "execution_count": 96,
   "metadata": {
    "collapsed": true
   },
   "outputs": [],
   "source": [
    "auth = tweepy.OAuthHandler(consumer_key[2], consumer_secret[2])\n",
    "auth.set_access_token(access_token[2], access_token_secret[2])\n",
    "api = tweepy.API(auth, wait_on_rate_limit= True,wait_on_rate_limit_notify=True)"
   ]
  },
  {
   "cell_type": "code",
   "execution_count": 122,
   "metadata": {
    "collapsed": true
   },
   "outputs": [],
   "source": [
    "auth = tweepy.OAuthHandler(consumer_key[3], consumer_secret[3])\n",
    "auth.set_access_token(access_token[3], access_token_secret[3])\n",
    "api = tweepy.API(auth, wait_on_rate_limit= True,wait_on_rate_limit_notify=True)"
   ]
  },
  {
   "cell_type": "code",
   "execution_count": 33,
   "metadata": {
    "collapsed": false
   },
   "outputs": [],
   "source": [
    "auth = tweepy.OAuthHandler(consumer_key[4], consumer_secret[4])\n",
    "auth.set_access_token(access_token[4], access_token_secret[4])\n",
    "api = tweepy.API(auth, wait_on_rate_limit= True,wait_on_rate_limit_notify=True)"
   ]
  },
  {
   "cell_type": "code",
   "execution_count": 34,
   "metadata": {
    "collapsed": false
   },
   "outputs": [],
   "source": [
    "for ID in represent_id[90:100]:\n",
    "    with open(ff_path + str(ID) +'.pickle','wb+') as f:\n",
    "        pickle.dump(api.followers_ids(str(ID)),f)"
   ]
  },
  {
   "cell_type": "markdown",
   "metadata": {},
   "source": [
    "# test whether the ranking predictive model works\n",
    "\n",
    "<p>seperate them into groups: baseline(twitter stream), every 300? </p>\n",
    "<p>we should see there is a decline in matching accuracy in the two aspects: eg.football + chicago </p>\n",
    "\n",
    "<p> 1. chicago </p>\n",
    "<b> ratio = # user from chicago / # number of user provide their location </b>\n",
    "\n"
   ]
  },
  {
   "cell_type": "code",
   "execution_count": 132,
   "metadata": {
    "collapsed": false
   },
   "outputs": [
    {
     "data": {
      "text/plain": [
       "[(781149191808712704, -1758.2236764613422),\n",
       " (791068282736484352, -1762.922426437889),\n",
       " (785599640146108417, -1842.8592383852822),\n",
       " (779659530242142208, -1844.5119806159519),\n",
       " (787488684912156672, -1867.8320771088486),\n",
       " (754013832108994560, -1871.9273272390972),\n",
       " (780206098431213568, -1872.5019793483407),\n",
       " (550557628, -1876.569656086811),\n",
       " (788347210698256384, -1882.9656627997808),\n",
       " (790322349098749952, -1890.5031798600978)]"
      ]
     },
     "execution_count": 132,
     "metadata": {},
     "output_type": "execute_result"
    }
   ],
   "source": [
    "with open(initialSet_path + 'ranked_candidate_id.pickle','rb') as f:\n",
    "    candidate_id = pickle.load(f)\n",
    "candidate_id[:10]"
   ]
  },
  {
   "cell_type": "code",
   "execution_count": 133,
   "metadata": {
    "collapsed": false
   },
   "outputs": [],
   "source": [
    "def gather_location(candidate_id, start, end):\n",
    "    \n",
    "    location_list = []\n",
    "    for c_id in candidate_id[start:end]:\n",
    "        try:\n",
    "            location = api.get_user(str(c_id[0])).location\n",
    "            if location == '':\n",
    "                location_list.append('NaN')\n",
    "            else:\n",
    "                location_list.append(location)\n",
    "        except:\n",
    "            pass\n",
    "            \n",
    "    return location_list"
   ]
  },
  {
   "cell_type": "code",
   "execution_count": 134,
   "metadata": {
    "collapsed": true
   },
   "outputs": [],
   "source": [
    "location_300 = gather_location(candidate_id, start = 0, end = 300)\n",
    "location_600 = gather_location(candidate_id, start = 300, end = 600)"
   ]
  },
  {
   "cell_type": "code",
   "execution_count": 139,
   "metadata": {
    "collapsed": true
   },
   "outputs": [],
   "source": [
    "location_900 = gather_location(candidate_id, start = 600, end = 900)"
   ]
  },
  {
   "cell_type": "code",
   "execution_count": 125,
   "metadata": {
    "collapsed": false
   },
   "outputs": [
    {
     "name": "stdout",
     "output_type": "stream",
     "text": [
      "Rate limit reached. Sleeping for: 599\n"
     ]
    }
   ],
   "source": [
    "location_50000 = gather_location(candidate_id, start = 7000, end = 7528)"
   ]
  },
  {
   "cell_type": "code",
   "execution_count": 135,
   "metadata": {
    "collapsed": false
   },
   "outputs": [],
   "source": [
    "def print_ratio(location_list):\n",
    "    \n",
    "    target_count = 0\n",
    "    general_count = 0\n",
    "\n",
    "    for loc in location_list:\n",
    "\n",
    "        #loc.lower().find('IL') != -1 or \n",
    "        if loc.lower().find('chicago') != -1:\n",
    "            target_count += 1\n",
    "            #print(loc)\n",
    "        elif loc != 'NaN':\n",
    "            general_count += 1\n",
    "\n",
    "    ratio = target_count / general_count\n",
    "    print(\"# of people from chicago : \", target_count)\n",
    "    print(\"# of people provide location : \", general_count)\n",
    "    print(\"# of people from chicago/ # of people provide location :\", ratio)\n",
    "\n",
    "    return ratio  "
   ]
  },
  {
   "cell_type": "code",
   "execution_count": 136,
   "metadata": {
    "collapsed": false
   },
   "outputs": [
    {
     "name": "stdout",
     "output_type": "stream",
     "text": [
      "# of people from chicago :  48\n",
      "# of people provide location :  119\n",
      "# of people from chicago/ # of people provide location : 0.40336134453781514\n"
     ]
    }
   ],
   "source": [
    "ratio_300 = print_ratio(location_300)"
   ]
  },
  {
   "cell_type": "code",
   "execution_count": 138,
   "metadata": {
    "collapsed": false
   },
   "outputs": [
    {
     "name": "stdout",
     "output_type": "stream",
     "text": [
      "# of people from chicago :  29\n",
      "# of people provide location :  101\n",
      "# of people from chicago/ # of people provide location : 0.2871287128712871\n"
     ]
    }
   ],
   "source": [
    "ratio_600 = print_ratio(location_600)"
   ]
  },
  {
   "cell_type": "code",
   "execution_count": 118,
   "metadata": {
    "collapsed": false
   },
   "outputs": [
    {
     "name": "stdout",
     "output_type": "stream",
     "text": [
      "# of people from chicago :  25\n",
      "# of people provide location :  145\n",
      "# of people from chicago/ # of people provide location : 0.1724137931034483\n"
     ]
    }
   ],
   "source": [
    "ratio_900 = print_ratio(location_900)"
   ]
  },
  {
   "cell_type": "code",
   "execution_count": 127,
   "metadata": {
    "collapsed": false
   },
   "outputs": [
    {
     "name": "stdout",
     "output_type": "stream",
     "text": [
      "# of people from chicago :  45\n",
      "# of people provide location :  257\n",
      "# of people from chicago/ # of people provide location : 0.17509727626459143\n"
     ]
    }
   ],
   "source": [
    "ratio_50000 = print_ratio(location_50000)"
   ]
  },
  {
   "cell_type": "code",
   "execution_count": 120,
   "metadata": {
    "collapsed": false
   },
   "outputs": [
    {
     "data": {
      "text/plain": [
       "7529"
      ]
     },
     "execution_count": 120,
     "metadata": {},
     "output_type": "execute_result"
    }
   ],
   "source": [
    "len(candidate_id)"
   ]
  },
  {
   "cell_type": "code",
   "execution_count": 65,
   "metadata": {
    "collapsed": false
   },
   "outputs": [],
   "source": [
    "# set stream\n",
    "rand_path = 'C:\\\\Users\\\\chenwang\\\\Documents\\\\courses\\\\FA16\\\\CS597\\\\twitterMining\\\\RandSet\\\\'\n",
    "\n",
    "class MyStreamListener(tweepy.StreamListener):\n",
    "\n",
    "    def __init__(self, api = None):\n",
    "        self.api = api or API()\n",
    "        self.counter = 0\n",
    "        self.info = []\n",
    "\n",
    "    def on_data(self, data):\n",
    "       \n",
    "        if data != None:\n",
    "            #status = json.loads(data)\n",
    "            #print(data)\n",
    "            self.on_status(data)\n",
    "        else:\n",
    "            #print('not ok')\n",
    "            return \n",
    "    \n",
    "    def on_error(self, status):\n",
    "        print(status)\n",
    "\n",
    "    def on_status(self, data):\n",
    "        #print(status)\n",
    "        status = json.loads(data)\n",
    "        \n",
    "        # those user who provide location information\n",
    "        if status['user']['location'] != None: \n",
    "            #print(status['user']['location'])\n",
    "            self.info.append(status)\n",
    "            self.counter += 1\n",
    "            \n",
    "            if self.counter >= 100:\n",
    "                with open(rand_path + 'stream'+str(self.counter)+'.json','w') as f:\n",
    "                    json.dump(self.info,f)\n",
    "                sys.exit()\n",
    "            \n",
    "        return\n",
    "\n",
    "    def on_timeout(self):\n",
    "        print(\"Timeout, sleeping for 60 seconds...\\n\")\n",
    "        time.sleep(60)\n",
    "        return "
   ]
  },
  {
   "cell_type": "code",
   "execution_count": 47,
   "metadata": {
    "collapsed": true
   },
   "outputs": [],
   "source": [
    "auth = tweepy.OAuthHandler(consumer_key[0], consumer_secret[0])\n",
    "auth.set_access_token(access_token[0], access_token_secret[0])\n",
    "api = tweepy.API(auth, wait_on_rate_limit= True,wait_on_rate_limit_notify=True)"
   ]
  },
  {
   "cell_type": "code",
   "execution_count": 57,
   "metadata": {
    "collapsed": true
   },
   "outputs": [],
   "source": [
    "def rand_tweets():\n",
    "    \n",
    "    stream = tweepy.Stream(auth, MyStreamListener(api))\n",
    "    stream.filter(track=[\"a\", \"the\", \"i\", \"you\",\"it\",\"of\"], languages = ['en'])   \n",
    "        \n",
    "    return None"
   ]
  },
  {
   "cell_type": "code",
   "execution_count": 61,
   "metadata": {
    "collapsed": false
   },
   "outputs": [
    {
     "name": "stdout",
     "output_type": "stream",
     "text": [
      "420\n"
     ]
    },
    {
     "ename": "KeyboardInterrupt",
     "evalue": "",
     "output_type": "error",
     "traceback": [
      "\u001b[1;31m---------------------------------------------------------------------------\u001b[0m",
      "\u001b[1;31mKeyboardInterrupt\u001b[0m                         Traceback (most recent call last)",
      "\u001b[1;32m<ipython-input-61-192c63468b3b>\u001b[0m in \u001b[0;36m<module>\u001b[1;34m()\u001b[0m\n\u001b[1;32m----> 1\u001b[1;33m \u001b[0mcollect_tweets\u001b[0m\u001b[1;33m(\u001b[0m\u001b[1;33m[\u001b[0m\u001b[1;34m'a'\u001b[0m\u001b[1;33m,\u001b[0m\u001b[1;34m'the'\u001b[0m\u001b[1;33m,\u001b[0m\u001b[1;34m'of'\u001b[0m\u001b[1;33m]\u001b[0m\u001b[1;33m)\u001b[0m\u001b[1;33m\u001b[0m\u001b[0m\n\u001b[0m",
      "\u001b[1;32m<ipython-input-44-f9cff8060c8f>\u001b[0m in \u001b[0;36mcollect_tweets\u001b[1;34m(topic)\u001b[0m\n\u001b[0;32m      2\u001b[0m \u001b[1;33m\u001b[0m\u001b[0m\n\u001b[0;32m      3\u001b[0m     \u001b[0mstream\u001b[0m \u001b[1;33m=\u001b[0m \u001b[0mtweepy\u001b[0m\u001b[1;33m.\u001b[0m\u001b[0mStream\u001b[0m\u001b[1;33m(\u001b[0m\u001b[0mauth\u001b[0m\u001b[1;33m,\u001b[0m \u001b[0mMyStreamListener\u001b[0m\u001b[1;33m(\u001b[0m\u001b[0mapi\u001b[0m\u001b[1;33m)\u001b[0m\u001b[1;33m)\u001b[0m\u001b[1;33m\u001b[0m\u001b[0m\n\u001b[1;32m----> 4\u001b[1;33m     \u001b[0mstream\u001b[0m\u001b[1;33m.\u001b[0m\u001b[0mfilter\u001b[0m\u001b[1;33m(\u001b[0m\u001b[0mtrack\u001b[0m\u001b[1;33m=\u001b[0m\u001b[0mtopic\u001b[0m\u001b[1;33m,\u001b[0m \u001b[0mlanguages\u001b[0m \u001b[1;33m=\u001b[0m \u001b[1;33m[\u001b[0m\u001b[1;34m'en'\u001b[0m\u001b[1;33m]\u001b[0m\u001b[1;33m)\u001b[0m\u001b[1;33m\u001b[0m\u001b[0m\n\u001b[0m\u001b[0;32m      5\u001b[0m \u001b[1;33m\u001b[0m\u001b[0m\n\u001b[0;32m      6\u001b[0m     \u001b[1;32mreturn\u001b[0m \u001b[1;32mNone\u001b[0m\u001b[1;33m\u001b[0m\u001b[0m\n",
      "\u001b[1;32mc:\\python34\\lib\\site-packages\\tweepy\\streaming.py\u001b[0m in \u001b[0;36mfilter\u001b[1;34m(self, follow, track, async, locations, stall_warnings, languages, encoding, filter_level)\u001b[0m\n\u001b[0;32m    448\u001b[0m         \u001b[0mself\u001b[0m\u001b[1;33m.\u001b[0m\u001b[0msession\u001b[0m\u001b[1;33m.\u001b[0m\u001b[0mparams\u001b[0m \u001b[1;33m=\u001b[0m \u001b[1;33m{\u001b[0m\u001b[1;34m'delimited'\u001b[0m\u001b[1;33m:\u001b[0m \u001b[1;34m'length'\u001b[0m\u001b[1;33m}\u001b[0m\u001b[1;33m\u001b[0m\u001b[0m\n\u001b[0;32m    449\u001b[0m         \u001b[0mself\u001b[0m\u001b[1;33m.\u001b[0m\u001b[0mhost\u001b[0m \u001b[1;33m=\u001b[0m \u001b[1;34m'stream.twitter.com'\u001b[0m\u001b[1;33m\u001b[0m\u001b[0m\n\u001b[1;32m--> 450\u001b[1;33m         \u001b[0mself\u001b[0m\u001b[1;33m.\u001b[0m\u001b[0m_start\u001b[0m\u001b[1;33m(\u001b[0m\u001b[0masync\u001b[0m\u001b[1;33m)\u001b[0m\u001b[1;33m\u001b[0m\u001b[0m\n\u001b[0m\u001b[0;32m    451\u001b[0m \u001b[1;33m\u001b[0m\u001b[0m\n\u001b[0;32m    452\u001b[0m     def sitestream(self, follow, stall_warnings=False,\n",
      "\u001b[1;32mc:\\python34\\lib\\site-packages\\tweepy\\streaming.py\u001b[0m in \u001b[0;36m_start\u001b[1;34m(self, async)\u001b[0m\n\u001b[0;32m    364\u001b[0m             \u001b[0mself\u001b[0m\u001b[1;33m.\u001b[0m\u001b[0m_thread\u001b[0m\u001b[1;33m.\u001b[0m\u001b[0mstart\u001b[0m\u001b[1;33m(\u001b[0m\u001b[1;33m)\u001b[0m\u001b[1;33m\u001b[0m\u001b[0m\n\u001b[0;32m    365\u001b[0m         \u001b[1;32melse\u001b[0m\u001b[1;33m:\u001b[0m\u001b[1;33m\u001b[0m\u001b[0m\n\u001b[1;32m--> 366\u001b[1;33m             \u001b[0mself\u001b[0m\u001b[1;33m.\u001b[0m\u001b[0m_run\u001b[0m\u001b[1;33m(\u001b[0m\u001b[1;33m)\u001b[0m\u001b[1;33m\u001b[0m\u001b[0m\n\u001b[0m\u001b[0;32m    367\u001b[0m \u001b[1;33m\u001b[0m\u001b[0m\n\u001b[0;32m    368\u001b[0m     \u001b[1;32mdef\u001b[0m \u001b[0mon_closed\u001b[0m\u001b[1;33m(\u001b[0m\u001b[0mself\u001b[0m\u001b[1;33m,\u001b[0m \u001b[0mresp\u001b[0m\u001b[1;33m)\u001b[0m\u001b[1;33m:\u001b[0m\u001b[1;33m\u001b[0m\u001b[0m\n",
      "\u001b[1;32mc:\\python34\\lib\\site-packages\\tweepy\\streaming.py\u001b[0m in \u001b[0;36m_run\u001b[1;34m(self)\u001b[0m\n\u001b[0;32m    255\u001b[0m                         self.retry_time = max(self.retry_420_start,\n\u001b[0;32m    256\u001b[0m                                               self.retry_time)\n\u001b[1;32m--> 257\u001b[1;33m                     \u001b[0msleep\u001b[0m\u001b[1;33m(\u001b[0m\u001b[0mself\u001b[0m\u001b[1;33m.\u001b[0m\u001b[0mretry_time\u001b[0m\u001b[1;33m)\u001b[0m\u001b[1;33m\u001b[0m\u001b[0m\n\u001b[0m\u001b[0;32m    258\u001b[0m                     self.retry_time = min(self.retry_time * 2,\n\u001b[0;32m    259\u001b[0m                                           self.retry_time_cap)\n",
      "\u001b[1;31mKeyboardInterrupt\u001b[0m: "
     ]
    }
   ],
   "source": [
    "collect_tweets(['a','the','of'])"
   ]
  },
  {
   "cell_type": "markdown",
   "metadata": {},
   "source": [
    "# random test area"
   ]
  },
  {
   "cell_type": "code",
   "execution_count": 39,
   "metadata": {
    "collapsed": false
   },
   "outputs": [],
   "source": [
    "#api.get_user('786326788246999040')"
   ]
  },
  {
   "cell_type": "code",
   "execution_count": null,
   "metadata": {
    "collapsed": true
   },
   "outputs": [],
   "source": []
  }
 ],
 "metadata": {
  "kernelspec": {
   "display_name": "Python 3",
   "language": "python",
   "name": "python3"
  },
  "language_info": {
   "codemirror_mode": {
    "name": "ipython",
    "version": 3
   },
   "file_extension": ".py",
   "mimetype": "text/x-python",
   "name": "python",
   "nbconvert_exporter": "python",
   "pygments_lexer": "ipython3",
   "version": "3.4.4"
  }
 },
 "nbformat": 4,
 "nbformat_minor": 0
}

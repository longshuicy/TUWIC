{
 "cells": [
  {
   "cell_type": "code",
   "execution_count": 1,
   "metadata": {
    "collapsed": true
   },
   "outputs": [],
   "source": [
    "from __future__ import print_function, unicode_literals\n",
    "\n",
    "import datetime\n",
    "import json\n",
    "import re\n",
    "import time\n",
    "import traceback\n",
    "\n",
    "import botornot\n",
    "import pandas as pd\n",
    "%matplotlib inline\n",
    "import requests\n",
    "import seaborn as sns\n",
    "\n",
    "import matplotlib.pyplot as plt"
   ]
  },
  {
   "cell_type": "code",
   "execution_count": 2,
   "metadata": {
    "collapsed": true
   },
   "outputs": [],
   "source": [
    "twitter_app_auth = {'consumer_key': 'mVJcyNN5qFyk7GdBJvENVc329',\n",
    "                  'consumer_secret': 'DbXUXB7EN77HmzQahobHeTPSWgcNI9t8kKzDoe5twfTORnjXxf', \n",
    "                  'access_token': '707770026573561856-Vfqm0iXrsBvFL2prQMQ2Gzu9eawWYIj',\n",
    "                  'access_token_secret':'HSMqS4YkDBcB6mm9JL3vd6VeKlkKmNdMxmJ0inJQwNhXS'}\n",
    "\n",
    "for api_key in twitter_app_auth.values(): \n",
    "    assert not api_key.startswith('COPY_')"
   ]
  },
  {
   "cell_type": "code",
   "execution_count": 3,
   "metadata": {
    "collapsed": false
   },
   "outputs": [],
   "source": [
    "mashape_key = '7RTLrXbiE7mshwBPS1rjRbmtISIYp1P5V21jsn5j6SCln2a5Nd'\n",
    "\n",
    "assert not mashape_key.startswith('COPY_')"
   ]
  },
  {
   "cell_type": "code",
   "execution_count": 4,
   "metadata": {
    "collapsed": true
   },
   "outputs": [],
   "source": [
    "hashtags = ['#chicago']\n",
    "start_date = datetime.date(2015, 10, 1) # year, month, day\n",
    "end_date   = datetime.date(2015, 10, 12)\n",
    "\n",
    "for hashtag in hashtags:\n",
    "    assert hashtag.startswith('#')"
   ]
  },
  {
   "cell_type": "code",
   "execution_count": 5,
   "metadata": {
    "collapsed": false
   },
   "outputs": [
    {
     "name": "stdout",
     "output_type": "stream",
     "text": [
      "{\n",
      "   \"job_id\": \"38060427-602a-4924-9aa5-ebe0f2fb9e55\",\n",
      "   \"result_url\": \"http://osome.iuni.iu.edu/moe/api/mashape/result/38060427-602a-4924-9aa5-ebe0f2fb9e55\"\n",
      "}\n"
     ]
    }
   ],
   "source": [
    "mashape_method_url = 'https://osome-public.p.mashape.com/user-post-count'\n",
    "params = {\n",
    "    'q': ','.join(hashtags),\n",
    "    'start': start_date.isoformat(),\n",
    "    'end': end_date.isoformat(),\n",
    "}\n",
    "\n",
    "headers = {\n",
    "    'X-Mashape-Key': mashape_key,\n",
    "}\n",
    "\n",
    "mashape_response = requests.get(mashape_method_url, params=params, headers=headers)\n",
    "mashape_content = mashape_response.json()\n",
    "\n",
    "print(json.dumps(mashape_content, indent=3, sort_keys=True))\n",
    "result_url = mashape_content['result_url']   "
   ]
  },
  {
   "cell_type": "code",
   "execution_count": 6,
   "metadata": {
    "collapsed": false
   },
   "outputs": [
    {
     "name": "stdout",
     "output_type": "stream",
     "text": [
      "001Idea(3431334724)\t1\n",
      "001rossdale(3320422324)\t1\n",
      "003a04f8c2054b7(2920659436)\t1\n",
      "016maronve(3911013077)\t1\n",
      "01DANTANA(143528181)\t1\n",
      "01umentze(3910535061)\t1\n",
      "0204Tsa(1684793863)\t1\n",
      "050everything(3688863976)\t1\n",
      "06umbrekkeg(3910598777)\t1\n",
      "072lguidihean(3917410277)\t1\n",
      "0\n"
     ]
    }
   ],
   "source": [
    "result_response = requests.get(result_url)\n",
    "print(result_response.text[:255])"
   ]
  },
  {
   "cell_type": "code",
   "execution_count": 21,
   "metadata": {
    "collapsed": false,
    "scrolled": true
   },
   "outputs": [
    {
     "data": {
      "text/html": [
       "<div>\n",
       "<table border=\"1\" class=\"dataframe\">\n",
       "  <thead>\n",
       "    <tr style=\"text-align: right;\">\n",
       "      <th></th>\n",
       "      <th>screen_name</th>\n",
       "      <th>user_id</th>\n",
       "      <th>tweets</th>\n",
       "    </tr>\n",
       "  </thead>\n",
       "  <tbody>\n",
       "    <tr>\n",
       "      <th>3471</th>\n",
       "      <td>johnlundin</td>\n",
       "      <td>16548855</td>\n",
       "      <td>185</td>\n",
       "    </tr>\n",
       "    <tr>\n",
       "      <th>2290</th>\n",
       "      <td>TheEarthNetwork</td>\n",
       "      <td>1723563360</td>\n",
       "      <td>154</td>\n",
       "    </tr>\n",
       "    <tr>\n",
       "      <th>296</th>\n",
       "      <td>Bentler</td>\n",
       "      <td>22653760</td>\n",
       "      <td>121</td>\n",
       "    </tr>\n",
       "    <tr>\n",
       "      <th>733</th>\n",
       "      <td>EI_Climate</td>\n",
       "      <td>155978068</td>\n",
       "      <td>93</td>\n",
       "    </tr>\n",
       "    <tr>\n",
       "      <th>441</th>\n",
       "      <td>Cecalli_Helper</td>\n",
       "      <td>1460288238</td>\n",
       "      <td>92</td>\n",
       "    </tr>\n",
       "    <tr>\n",
       "      <th>2915</th>\n",
       "      <td>climatehawk1</td>\n",
       "      <td>350509998</td>\n",
       "      <td>84</td>\n",
       "    </tr>\n",
       "    <tr>\n",
       "      <th>2102</th>\n",
       "      <td>ScotClimate</td>\n",
       "      <td>620439080</td>\n",
       "      <td>74</td>\n",
       "    </tr>\n",
       "    <tr>\n",
       "      <th>237</th>\n",
       "      <td>AssaadRazzouk</td>\n",
       "      <td>401775393</td>\n",
       "      <td>60</td>\n",
       "    </tr>\n",
       "    <tr>\n",
       "      <th>497</th>\n",
       "      <td>ClayEngberg</td>\n",
       "      <td>1524952110</td>\n",
       "      <td>59</td>\n",
       "    </tr>\n",
       "    <tr>\n",
       "      <th>609</th>\n",
       "      <td>DBrockstedt</td>\n",
       "      <td>622957208</td>\n",
       "      <td>53</td>\n",
       "    </tr>\n",
       "  </tbody>\n",
       "</table>\n",
       "</div>"
      ],
      "text/plain": [
       "          screen_name     user_id  tweets\n",
       "3471       johnlundin    16548855     185\n",
       "2290  TheEarthNetwork  1723563360     154\n",
       "296           Bentler    22653760     121\n",
       "733        EI_Climate   155978068      93\n",
       "441    Cecalli_Helper  1460288238      92\n",
       "2915     climatehawk1   350509998      84\n",
       "2102      ScotClimate   620439080      74\n",
       "237     AssaadRazzouk   401775393      60\n",
       "497       ClayEngberg  1524952110      59\n",
       "609       DBrockstedt   622957208      53"
      ]
     },
     "execution_count": 21,
     "metadata": {},
     "output_type": "execute_result"
    }
   ],
   "source": [
    "def extract_records(result_response):\n",
    "    result_pattern = r'(\\w+)\\((\\d+)\\)\\s+(\\d+)'\n",
    "    for line in result_response.text.split('\\n'):\n",
    "        match = re.match(result_pattern, line)\n",
    "        if match:\n",
    "            yield match.groups()\n",
    "\n",
    "table = pd.DataFrame.from_records(extract_records(result_response),\n",
    "                               columns=['screen_name', 'user_id', 'tweets'],\n",
    "                               #index=['user_id'],\n",
    "                              )\n",
    "\n",
    "# from_records doesn't do type inference, so the tweets column gets parsed as a string\n",
    "table['tweets'] = table['tweets'].astype(int)\n",
    "table = table.sort_values(by='tweets', ascending=False)\n",
    "\n",
    "table.head(10)"
   ]
  },
  {
   "cell_type": "code",
   "execution_count": 23,
   "metadata": {
    "collapsed": false
   },
   "outputs": [],
   "source": [
    "climate_change_id = table['user_id'].tolist()"
   ]
  },
  {
   "cell_type": "code",
   "execution_count": 26,
   "metadata": {
    "collapsed": false
   },
   "outputs": [],
   "source": [
    "# save!\n",
    "\n",
    "import pickle\n",
    "path = 'C:\\\\Users\\\\chenwang\\\\Documents\\\\courses\\\\FA16\\\\CS597\\\\twitterMining\\\\InitialSet\\\\Chicago\\\\repo\\\\'\n",
    "with open(path + 'osome_climate_change_userid.pickle','wb+') as f:\n",
    "    pickle.dump(climate_change_id,f)"
   ]
  },
  {
   "cell_type": "code",
   "execution_count": null,
   "metadata": {
    "collapsed": true
   },
   "outputs": [],
   "source": []
  }
 ],
 "metadata": {
  "kernelspec": {
   "display_name": "Python 3",
   "language": "python",
   "name": "python3"
  },
  "language_info": {
   "codemirror_mode": {
    "name": "ipython",
    "version": 3
   },
   "file_extension": ".py",
   "mimetype": "text/x-python",
   "name": "python",
   "nbconvert_exporter": "python",
   "pygments_lexer": "ipython3",
   "version": "3.4.4"
  }
 },
 "nbformat": 4,
 "nbformat_minor": 0
}
